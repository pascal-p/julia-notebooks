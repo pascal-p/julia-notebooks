{
 "cells": [
  {
   "cell_type": "markdown",
   "metadata": {},
   "source": [
    "ref. https://www.codewars.com/kata/54db15b003e88a6a480000b9 (6 kyu) - 2019-12-03"
   ]
  },
  {
   "cell_type": "markdown",
   "metadata": {},
   "source": [
    "A number system with moduli is deﬁned by a vector of k moduli, $[m_1,m_2, ···,m_k]$.\n",
    "\n",
    "The moduli must be pairwise co-prime, which means that, for any pair of moduli, the only common factor is 1.\n",
    "\n",
    "In such a system each number $n$ is represented by a string \"$-x_1--x_2-- ... --x_k-$\" of its residues, one for each modulus. The product $m_1 \\times ... \\times m_k$ must be greater than the given number $n$ which is to be converted in the moduli number system.\n",
    "\n",
    "For example:\n",
    "- if we use the system [2, 3, 5] the number n = 11 is represented by \"-1--2--1-\", the number n = 23 by \"-1--2--3-\".\n",
    "- if we use the system [8, 7, 5, 3] the number n = 187 becomes \"-3--5--2--1-\".\n",
    "\n",
    "You will be given a number n ($n \\geq 0$) and a system $S = [m_1,m_2, ···, m_k]$ and you will return a string \"$-x_1--x_2-- ...--x_k-$\" representing the number $n$ in the system $S$.\n",
    "\n",
    "If the moduli are not pairwise co-prime or if the product $m1 \\times ... \\times m_k \\leq n$, return \"Not applicable\".\n",
    "\n",
    "Examples: (you can add them in the \"Sample tests\")\n",
    "\n",
    "```julia\n",
    "from_nb2str(11, [2,3,5]) -> \"-1--2--1-\"\n",
    "\n",
    "from_nb2str(6, [2, 3, 4]) -> \"Not applicable\", since 2 and 4 are not coprime\n",
    "\n",
    "from_nb2str(7, [2, 3]) -> \"Not applicable\" since 2 * 3 < 7\n",
    "```"
   ]
  },
  {
   "cell_type": "code",
   "execution_count": 1,
   "metadata": {},
   "outputs": [
    {
     "data": {
      "text/plain": [
       "from_nb2str (generic function with 1 method)"
      ]
     },
     "execution_count": 1,
     "metadata": {},
     "output_type": "execute_result"
    }
   ],
   "source": [
    "function from_nb2str(n::T, s::Array{T}) where T <: Integer\n",
    "    check_product(n, s) || return \"Not applicable\"\n",
    "    check_co_prime(s) || return \"Not applicable\"\n",
    "  \n",
    "    # use broadcasting and element-wise modulo\n",
    "    str = \"\"\n",
    "    for i in [n] .% s\n",
    "        str *= \"-$(i)-\"\n",
    "    end\n",
    "    return str\n",
    "end"
   ]
  },
  {
   "cell_type": "code",
   "execution_count": 2,
   "metadata": {},
   "outputs": [
    {
     "data": {
      "text/plain": [
       "check_product (generic function with 1 method)"
      ]
     },
     "execution_count": 2,
     "metadata": {},
     "output_type": "execute_result"
    }
   ],
   "source": [
    "function check_product(n::T, s::Array{T}) where T <: Integer\n",
    "    \"\"\"\n",
    "    check product of s-term (s is an array) is greater than n\n",
    "    \"\"\"\n",
    "    return prod(s) > n\n",
    "end"
   ]
  },
  {
   "cell_type": "code",
   "execution_count": 3,
   "metadata": {},
   "outputs": [
    {
     "data": {
      "text/plain": [
       "check_co_prime (generic function with 1 method)"
      ]
     },
     "execution_count": 3,
     "metadata": {},
     "output_type": "execute_result"
    }
   ],
   "source": [
    "function check_co_prime(s::Array{T}) where T <: Integer\n",
    "    \"\"\"\n",
    "    check factor in s are pairwise co-prime (ie. none divisible by the other)\n",
    "    \"\"\"\n",
    "    for (i, _) in enumerate(s)\n",
    "        (s[i] != 0 && s != 1) || return false\n",
    "        \n",
    "        for j in i+1:size(s, 1)\n",
    "            s[j] % s[i] == 0 && return false\n",
    "        end\n",
    "    end\n",
    "    return true\n",
    "end"
   ]
  },
  {
   "cell_type": "code",
   "execution_count": 8,
   "metadata": {
    "scrolled": true
   },
   "outputs": [
    {
     "name": "stdout",
     "output_type": "stream",
     "text": [
      "Variables\n",
      "  #self#\u001b[36m::Core.Compiler.Const(from_nb2str, false)\u001b[39m\n",
      "  n\u001b[36m::Int64\u001b[39m\n",
      "  s\u001b[36m::Array{Int64,1}\u001b[39m\n",
      "  str\u001b[36m::String\u001b[39m\n",
      "  @_5\u001b[33m\u001b[1m::Union{Nothing, Tuple{Int64,Int64}}\u001b[22m\u001b[39m\n",
      "  i\u001b[36m::Int64\u001b[39m\n",
      "\n",
      "Body\u001b[36m::String\u001b[39m\n",
      "\u001b[90m1 ──\u001b[39m       Core.NewvarNode(:(str))\n",
      "\u001b[90m│   \u001b[39m       Core.NewvarNode(:(@_5))\n",
      "\u001b[90m│   \u001b[39m %3  = Main.check_product(n, s)\u001b[36m::Bool\u001b[39m\n",
      "\u001b[90m└───\u001b[39m       goto #3 if not %3\n",
      "\u001b[90m2 ──\u001b[39m       goto #4\n",
      "\u001b[90m3 ──\u001b[39m       return \"Not applicable\"\n",
      "\u001b[90m4 ──\u001b[39m %7  = Main.check_co_prime(s)\u001b[36m::Bool\u001b[39m\n",
      "\u001b[90m└───\u001b[39m       goto #6 if not %7\n",
      "\u001b[90m5 ──\u001b[39m       goto #7\n",
      "\u001b[90m6 ──\u001b[39m       return \"Not applicable\"\n",
      "\u001b[90m7 ──\u001b[39m       (str = \"\")\n",
      "\u001b[90m│   \u001b[39m %12 = Base.vect(n)\u001b[36m::Array{Int64,1}\u001b[39m\n",
      "\u001b[90m│   \u001b[39m %13 = Base.broadcasted(Main.:%, %12, s)\u001b[36m::Base.Broadcast.Broadcasted{Base.Broadcast.DefaultArrayStyle{1},Nothing,typeof(rem),Tuple{Array{Int64,1},Array{Int64,1}}}\u001b[39m\n",
      "\u001b[90m│   \u001b[39m %14 = Base.materialize(%13)\u001b[36m::Array{Int64,1}\u001b[39m\n",
      "\u001b[90m│   \u001b[39m       (@_5 = Base.iterate(%14))\n",
      "\u001b[90m│   \u001b[39m %16 = (@_5 === nothing)\u001b[36m::Bool\u001b[39m\n",
      "\u001b[90m│   \u001b[39m %17 = Base.not_int(%16)\u001b[36m::Bool\u001b[39m\n",
      "\u001b[90m└───\u001b[39m       goto #10 if not %17\n",
      "\u001b[90m8 ┄─\u001b[39m %19 = @_5::Tuple{Int64,Int64}\u001b[36m::Tuple{Int64,Int64}\u001b[39m\n",
      "\u001b[90m│   \u001b[39m       (i = Core.getfield(%19, 1))\n",
      "\u001b[90m│   \u001b[39m %21 = Core.getfield(%19, 2)\u001b[36m::Int64\u001b[39m\n",
      "\u001b[90m│   \u001b[39m %22 = str\u001b[36m::String\u001b[39m\n",
      "\u001b[90m│   \u001b[39m %23 = Base.string(\"-\", i, \"-\")\u001b[36m::String\u001b[39m\n",
      "\u001b[90m│   \u001b[39m       (str = %22 * %23)\n",
      "\u001b[90m│   \u001b[39m       (@_5 = Base.iterate(%14, %21))\n",
      "\u001b[90m│   \u001b[39m %26 = (@_5 === nothing)\u001b[36m::Bool\u001b[39m\n",
      "\u001b[90m│   \u001b[39m %27 = Base.not_int(%26)\u001b[36m::Bool\u001b[39m\n",
      "\u001b[90m└───\u001b[39m       goto #10 if not %27\n",
      "\u001b[90m9 ──\u001b[39m       goto #8\n",
      "\u001b[90m10 ┄\u001b[39m       return str\n"
     ]
    }
   ],
   "source": [
    "@code_warntype from_nb2str(11, [2,3,5])"
   ]
  },
  {
   "cell_type": "code",
   "execution_count": 4,
   "metadata": {},
   "outputs": [],
   "source": [
    "using Test\n",
    "# using BenchmarkTools"
   ]
  },
  {
   "cell_type": "code",
   "execution_count": 5,
   "metadata": {},
   "outputs": [
    {
     "data": {
      "text/plain": [
       "\u001b[32m\u001b[1mTest Passed\u001b[22m\u001b[39m"
      ]
     },
     "execution_count": 5,
     "metadata": {},
     "output_type": "execute_result"
    }
   ],
   "source": [
    "@test check_product(7, [2, 3]) === false\n",
    "@test check_product(6, [2, 3]) === false\n",
    "@test check_product(6, [2, 3, 5]) === true"
   ]
  },
  {
   "cell_type": "code",
   "execution_count": 6,
   "metadata": {},
   "outputs": [
    {
     "data": {
      "text/plain": [
       "\u001b[32m\u001b[1mTest Passed\u001b[22m\u001b[39m"
      ]
     },
     "execution_count": 6,
     "metadata": {},
     "output_type": "execute_result"
    }
   ],
   "source": [
    "@test check_co_prime([2, 3, 5]) === true\n",
    "@test check_co_prime([2, 3, 4, 5]) === false\n",
    "\n",
    "@test check_co_prime([2, 3, 5, 8, 9, 11]) === false\n",
    "@test check_co_prime([2, 3, 5, 7, 11]) === true\n",
    "\n",
    "@test check_co_prime([2, 3, 5, 0, 7, 11]) === false\n",
    "\n",
    "@test check_co_prime([2, 3, 5, 7, 1, 11]) === false"
   ]
  },
  {
   "cell_type": "code",
   "execution_count": 7,
   "metadata": {},
   "outputs": [
    {
     "data": {
      "text/plain": [
       "\u001b[32m\u001b[1mTest Passed\u001b[22m\u001b[39m"
      ]
     },
     "execution_count": 7,
     "metadata": {},
     "output_type": "execute_result"
    }
   ],
   "source": [
    "@test from_nb2str(11, [2,3,5]) == \"-1--2--1-\"\n",
    "\n",
    "@test from_nb2str(6, [2, 3, 4]) == \"Not applicable\" # since 2 and 4 are not coprime\n",
    "\n",
    "@test from_nb2str(7, [2, 3]) == \"Not applicable\" # since 2 * 3 < 7\n",
    "\n",
    "@test from_nb2str(11, [2, 3, 5]) == \"-1--2--1-\"\n",
    "@test from_nb2str(23, [2, 3, 5]) == \"-1--2--3-\"\n",
    "\n",
    "@test from_nb2str(187, [8, 7, 5, 3]) == \"-3--5--2--1-\""
   ]
  },
  {
   "cell_type": "code",
   "execution_count": null,
   "metadata": {},
   "outputs": [],
   "source": []
  },
  {
   "cell_type": "code",
   "execution_count": null,
   "metadata": {},
   "outputs": [],
   "source": []
  }
 ],
 "metadata": {
  "kernelspec": {
   "display_name": "Julia 1.2.0",
   "language": "julia",
   "name": "julia-1.2"
  },
  "language_info": {
   "file_extension": ".jl",
   "mimetype": "application/julia",
   "name": "julia",
   "version": "1.2.0"
  }
 },
 "nbformat": 4,
 "nbformat_minor": 2
}
