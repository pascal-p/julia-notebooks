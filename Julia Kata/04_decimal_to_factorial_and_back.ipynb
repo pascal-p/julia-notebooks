{
 "cells": [
  {
   "cell_type": "markdown",
   "metadata": {},
   "source": [
    "ref. https://www.codewars.com/kata/54e320dcebe1e583250008fd (5 kyu) - 2019-12-04"
   ]
  },
  {
   "cell_type": "markdown",
   "metadata": {},
   "source": [
    "Coding decimal numbers with factorials is a way of writing out numbers in a base system that depends on factorials, rather than powers of numbers.\n",
    "\n",
    "In this system, the last digit is always 0 and is in base 0!.\n",
    "The digit before that is either 0 or 1 and is in base 1!. The digit before that is either 0, 1, or 2 and is in base 2!.\n",
    "\n",
    "More generally, the nth-to-last digit is always 0, 1, 2, ..., or n and is in base n!.\n",
    "Example :\n",
    "\n",
    "decimal number 463 is coded as \"341010\":\n",
    "* $463 (base 10) = 3×5! + 4×4! + 1×3! + 0×2! + 1×1! + 0×0!$\n",
    "\n",
    "If we are limited to digits 0...9 the biggest number we can code is $10! - 1$.\n",
    "\n",
    "So we extend 0..9 with letters A to Z. With these 36 digits we can code up to:\n",
    "* $36! − 1 = 37199332678990121746799944815083519999999910\\space(base 10)$\n",
    "\n",
    "We will code two functions:   \n",
    "1. The first one will code a decimal number and return a string with the factorial representation : `dec2fact_str(nb)`\n",
    "2. The second one will decode a string with a factorial representation and produce the decimal representation : `fact_str2dec(str)`.\n",
    "\n",
    "Given numbers will be positive.  \n",
    "Note:  \n",
    "You have tests with Big Integers in Clojure, Julia, Python, Ruby, Haskell, Ocaml, Racket but not with Java and others where the number \"nb\" in \"`dec2fact_str(nb)`\" is at most a long.\n",
    "\n",
    "Ref: http://en.wikipedia.org/wiki/Factorial_number_system"
   ]
  },
  {
   "cell_type": "code",
   "execution_count": 1,
   "metadata": {},
   "outputs": [
    {
     "data": {
      "text/plain": [
       "3628799"
      ]
     },
     "execution_count": 1,
     "metadata": {},
     "output_type": "execute_result"
    }
   ],
   "source": [
    "Base.factorial(10) - 1"
   ]
  },
  {
   "cell_type": "code",
   "execution_count": 2,
   "metadata": {},
   "outputs": [
    {
     "data": {
      "text/plain": [
       "3628799"
      ]
     },
     "execution_count": 2,
     "metadata": {},
     "output_type": "execute_result"
    }
   ],
   "source": [
    "f = 0\n",
    "for i in 1:9\n",
    "    f += i * Base.factorial(i)\n",
    "end\n",
    "f\n",
    "\n",
    "# 9 . 9! + 8 . 8! + ... + 1 . 1! + 0 . 0!"
   ]
  },
  {
   "cell_type": "code",
   "execution_count": 3,
   "metadata": {},
   "outputs": [],
   "source": [
    "using Test\n",
    "# using BenchmarkTools"
   ]
  },
  {
   "cell_type": "code",
   "execution_count": 4,
   "metadata": {},
   "outputs": [
    {
     "data": {
      "text/plain": [
       "_fact (generic function with 2 methods)"
      ]
     },
     "execution_count": 4,
     "metadata": {},
     "output_type": "execute_result"
    }
   ],
   "source": [
    "const C21 = 21  # Int64  \n",
    "\n",
    "function myfact(n::T) where T <: Union{Int64, BigInt}\n",
    "    (n == 0::T || n == 1::T) && return 1::T\n",
    "\n",
    "    n < C21 && return _fact(n)\n",
    "        \n",
    "   # use BigInt\n",
    "   f = _fact(20)\n",
    "   return _fact(n, BigInt(f))\n",
    "end\n",
    "\n",
    "function _fact(n::T) where T <: Integer\n",
    "    @assert n < C21\n",
    "    f = 1\n",
    "    for i in 2:n\n",
    "        f *= i\n",
    "    end\n",
    "    f\n",
    "end\n",
    "\n",
    "function _fact(n::T1, f::T) where {T1 <: Integer,  T <: BigInt}\n",
    "    for i in T(C21):T(n)\n",
    "        f *= BigInt(i)\n",
    "    end\n",
    "    f\n",
    "end\n"
   ]
  },
  {
   "cell_type": "code",
   "execution_count": 5,
   "metadata": {
    "scrolled": true
   },
   "outputs": [
    {
     "name": "stdout",
     "output_type": "stream",
     "text": [
      "Variables\n",
      "  #self#\u001b[36m::Core.Compiler.Const(myfact, false)\u001b[39m\n",
      "  n\u001b[36m::Int64\u001b[39m\n",
      "  f\u001b[36m::Int64\u001b[39m\n",
      "  @_4\u001b[36m::Bool\u001b[39m\n",
      "\n",
      "Body\u001b[91m\u001b[1m::Union{Int64, BigInt}\u001b[22m\u001b[39m\n",
      "\u001b[90m1 ─\u001b[39m       Core.NewvarNode(:(f))\n",
      "\u001b[90m│  \u001b[39m %2  = Core.typeassert(0, $(Expr(:static_parameter, 1)))\u001b[36m::Core.Compiler.Const(0, false)\u001b[39m\n",
      "\u001b[90m│  \u001b[39m %3  = (n == %2)\u001b[36m::Bool\u001b[39m\n",
      "\u001b[90m└──\u001b[39m       goto #3 if not %3\n",
      "\u001b[90m2 ─\u001b[39m       (@_4 = %3)\n",
      "\u001b[90m└──\u001b[39m       goto #4\n",
      "\u001b[90m3 ─\u001b[39m %7  = Core.typeassert(1, $(Expr(:static_parameter, 1)))\u001b[36m::Core.Compiler.Const(1, false)\u001b[39m\n",
      "\u001b[90m└──\u001b[39m       (@_4 = n == %7)\n",
      "\u001b[90m4 ┄\u001b[39m       goto #6 if not @_4\n",
      "\u001b[90m5 ─\u001b[39m %10 = Core.typeassert(1, $(Expr(:static_parameter, 1)))\u001b[36m::Core.Compiler.Const(1, false)\u001b[39m\n",
      "\u001b[90m└──\u001b[39m       return %10\n",
      "\u001b[90m6 ─\u001b[39m %12 = (n < Main.C21)\u001b[36m::Bool\u001b[39m\n",
      "\u001b[90m└──\u001b[39m       goto #8 if not %12\n",
      "\u001b[90m7 ─\u001b[39m %14 = Main._fact(n)\u001b[36m::Int64\u001b[39m\n",
      "\u001b[90m└──\u001b[39m       return %14\n",
      "\u001b[90m8 ─\u001b[39m       (f = Main._fact(20))\n",
      "\u001b[90m│  \u001b[39m %17 = Main.BigInt(f)\u001b[36m::BigInt\u001b[39m\n",
      "\u001b[90m│  \u001b[39m %18 = Main._fact(n, %17)\u001b[36m::BigInt\u001b[39m\n",
      "\u001b[90m└──\u001b[39m       return %18\n"
     ]
    }
   ],
   "source": [
    "@code_warntype myfact(5)"
   ]
  },
  {
   "cell_type": "code",
   "execution_count": 6,
   "metadata": {},
   "outputs": [
    {
     "data": {
      "text/plain": [
       "\u001b[32m\u001b[1mTest Passed\u001b[22m\u001b[39m"
      ]
     },
     "execution_count": 6,
     "metadata": {},
     "output_type": "execute_result"
    }
   ],
   "source": [
    "@test myfact(0) == 1\n",
    "@test myfact(1) == 1\n",
    "@test myfact(5) == 120\n",
    "@test myfact(6) == 720\n",
    "\n",
    "@test myfact(10) == 3_628_800\n",
    "@test myfact(20) == Base.factorial(big(20))\n",
    "@test myfact(21) == Base.factorial(big(21))\n",
    "@test myfact(22) == Base.factorial(big(22))\n",
    "\n",
    "@test myfact(25) == Base.factorial(big(25)) # 7_034_535_277_573_963_776\n",
    "@test myfact(36) == Base.factorial(big(36))\n",
    "@test myfact(38) == Base.factorial(big(38))\n",
    "@test myfact(50) == Base.factorial(big(50))"
   ]
  },
  {
   "cell_type": "code",
   "execution_count": 7,
   "metadata": {},
   "outputs": [
    {
     "data": {
      "text/plain": [
       "30414093201713378043612608166064768844377641568960512000000000000"
      ]
     },
     "execution_count": 7,
     "metadata": {},
     "output_type": "execute_result"
    }
   ],
   "source": [
    "myfact(50)"
   ]
  },
  {
   "cell_type": "code",
   "execution_count": 8,
   "metadata": {},
   "outputs": [
    {
     "data": {
      "text/plain": [
       "dec2fact_str (generic function with 1 method)"
      ]
     },
     "execution_count": 8,
     "metadata": {},
     "output_type": "execute_result"
    }
   ],
   "source": [
    "#        1    2    3    4    5    6    7    8    9    10   11\n",
    "BASE = [\"0\", \"1\", \"2\", \"3\", \"4\", \"5\", \"6\", \"7\", \"8\", \"9\", \"A\", \"B\", \"C\", \"D\", \"E\", \"F\", \"G\", \"H\", \"I\",\n",
    "\"J\", \"K\", \"L\", \"M\", \"N\", \"O\", \"P\", \"Q\", \"R\", \"S\", \"T\", \"U\", \"V\", \"W\", \"X\", \"Y\", \"Z\"]\n",
    "\n",
    "function dec2fact_str(n::T) where T <: Union{Int64, BigInt}\n",
    "    div = one(eltype(n))\n",
    "    s = \"\"\n",
    "    t = eltype(n)\n",
    "    while true\n",
    "        q, r = n ÷ div, n % div\n",
    "        s = \"$(BASE[r+1])$(s)\"\n",
    "        n = q\n",
    "        div += 1\n",
    "        n == zero(t) && (return s)     \n",
    "    end\n",
    "    # throw exception?\n",
    "end"
   ]
  },
  {
   "cell_type": "code",
   "execution_count": 9,
   "metadata": {},
   "outputs": [
    {
     "data": {
      "text/plain": [
       "\"341010\""
      ]
     },
     "execution_count": 9,
     "metadata": {},
     "output_type": "execute_result"
    }
   ],
   "source": [
    "dec2fact_str(463)"
   ]
  },
  {
   "cell_type": "code",
   "execution_count": 10,
   "metadata": {},
   "outputs": [
    {
     "data": {
      "text/plain": [
       "\"10500000\""
      ]
     },
     "execution_count": 10,
     "metadata": {},
     "output_type": "execute_result"
    }
   ],
   "source": [
    "dec2fact_str(5640)"
   ]
  },
  {
   "cell_type": "code",
   "execution_count": 11,
   "metadata": {},
   "outputs": [
    {
     "data": {
      "text/plain": [
       "\"A000000000000\""
      ]
     },
     "execution_count": 11,
     "metadata": {},
     "output_type": "execute_result"
    }
   ],
   "source": [
    "dec2fact_str(4790016000)"
   ]
  },
  {
   "cell_type": "code",
   "execution_count": 12,
   "metadata": {},
   "outputs": [
    {
     "data": {
      "text/plain": [
       "\"4D505603120203100\""
      ]
     },
     "execution_count": 12,
     "metadata": {},
     "output_type": "execute_result"
    }
   ],
   "source": [
    "dec2fact_str(101129453440100)"
   ]
  },
  {
   "cell_type": "code",
   "execution_count": 13,
   "metadata": {},
   "outputs": [],
   "source": [
    "# dec2fact_str(37199332678990121746799944815083519999999910)"
   ]
  },
  {
   "cell_type": "code",
   "execution_count": 14,
   "metadata": {
    "scrolled": true
   },
   "outputs": [
    {
     "data": {
      "text/plain": [
       "10"
      ]
     },
     "execution_count": 14,
     "metadata": {},
     "output_type": "execute_result"
    }
   ],
   "source": [
    "REV_BASE = Dict(zip(BASE, [i for i in 0:36])) \n",
    "REV_BASE[\"A\"]"
   ]
  },
  {
   "cell_type": "code",
   "execution_count": 15,
   "metadata": {},
   "outputs": [
    {
     "data": {
      "text/plain": [
       "fact_str2dec (generic function with 1 method)"
      ]
     },
     "execution_count": 15,
     "metadata": {},
     "output_type": "execute_result"
    }
   ],
   "source": [
    "function fact_str2dec(s::String)::Union{Int64, BigInt}\n",
    "    n = length(s) - 1\n",
    "    ary = split(s, \"\")\n",
    "    f = BigInt(REV_BASE[ary[1]] * n)\n",
    "    for d in ary[2:end]\n",
    "        n -= 1\n",
    "        if n > 0\n",
    "            f = (f + REV_BASE[d]) * n\n",
    "        else\n",
    "            f += REV_BASE[d]\n",
    "        end\n",
    "    end\n",
    "    return f\n",
    "end"
   ]
  },
  {
   "cell_type": "code",
   "execution_count": 16,
   "metadata": {},
   "outputs": [
    {
     "data": {
      "text/plain": [
       "463"
      ]
     },
     "execution_count": 16,
     "metadata": {},
     "output_type": "execute_result"
    }
   ],
   "source": [
    "fact_str2dec(\"341010\")"
   ]
  },
  {
   "cell_type": "code",
   "execution_count": 17,
   "metadata": {},
   "outputs": [
    {
     "data": {
      "text/plain": [
       "4790016000"
      ]
     },
     "execution_count": 17,
     "metadata": {},
     "output_type": "execute_result"
    }
   ],
   "source": [
    "fact_str2dec(\"A000000000000\")"
   ]
  },
  {
   "cell_type": "code",
   "execution_count": 18,
   "metadata": {},
   "outputs": [
    {
     "data": {
      "text/plain": [
       "101129453440100"
      ]
     },
     "execution_count": 18,
     "metadata": {},
     "output_type": "execute_result"
    }
   ],
   "source": [
    "fact_str2dec(\"4D505603120203100\")"
   ]
  },
  {
   "cell_type": "code",
   "execution_count": 19,
   "metadata": {},
   "outputs": [
    {
     "data": {
      "text/plain": [
       "\"10500000\""
      ]
     },
     "execution_count": 19,
     "metadata": {},
     "output_type": "execute_result"
    }
   ],
   "source": [
    "dec2fact_str(5640)"
   ]
  },
  {
   "cell_type": "code",
   "execution_count": 20,
   "metadata": {},
   "outputs": [
    {
     "data": {
      "text/plain": [
       "\u001b[32m\u001b[1mTest Passed\u001b[22m\u001b[39m"
      ]
     },
     "execution_count": 20,
     "metadata": {},
     "output_type": "execute_result"
    }
   ],
   "source": [
    "@test fact_str2dec(dec2fact_str(463)) == 463\n",
    "@test fact_str2dec(dec2fact_str(4790016000)) == 4790016000\n",
    "@test fact_str2dec(dec2fact_str(5640)) == 5640\n",
    "@test fact_str2dec(dec2fact_str(101129453440100)) == 101129453440100"
   ]
  },
  {
   "cell_type": "code",
   "execution_count": 21,
   "metadata": {},
   "outputs": [
    {
     "data": {
      "text/plain": [
       "\u001b[32m\u001b[1mTest Passed\u001b[22m\u001b[39m"
      ]
     },
     "execution_count": 21,
     "metadata": {},
     "output_type": "execute_result"
    }
   ],
   "source": [
    "@test dec2fact_str(fact_str2dec(\"341010\")) == \"341010\"\n",
    "@test dec2fact_str(fact_str2dec(\"A000000000000\")) == \"A000000000000\"\n",
    "@test dec2fact_str(fact_str2dec(\"4D505603120203100\")) == \"4D505603120203100\"\n",
    "@test dec2fact_str(fact_str2dec(\"10500000\")) == \"10500000\"\n"
   ]
  },
  {
   "cell_type": "code",
   "execution_count": null,
   "metadata": {},
   "outputs": [],
   "source": []
  }
 ],
 "metadata": {
  "kernelspec": {
   "display_name": "Julia 1.5.3",
   "language": "julia",
   "name": "julia-1.5"
  },
  "language_info": {
   "file_extension": ".jl",
   "mimetype": "application/julia",
   "name": "julia",
   "version": "1.5.3"
  }
 },
 "nbformat": 4,
 "nbformat_minor": 2
}
