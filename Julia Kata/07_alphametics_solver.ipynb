{
 "cells": [
  {
   "cell_type": "markdown",
   "metadata": {},
   "source": [
    "cf. https://www.codewars.com/kata/5b5fe164b88263ad3d00250b (3 kyu) - 2019-12-07"
   ]
  },
  {
   "cell_type": "markdown",
   "metadata": {},
   "source": [
    "[Alphametics](https://en.wikipedia.org/wiki/Verbal_arithmetic) is a type of cryptarithm (or  cryptarithmetic) in which a set of words is written down in the form of a long addition sum or some other mathematical problem. The objective is to replace the letters of the alphabet with decimal digits to make a valid arithmetic sum.  \n",
    "\n",
    "For this kata, your objective is to write a function that accepts an alphametic equation in the form of a single-line string and returns a valid arithmetic equation in the form of a single-line string.\n",
    "\n",
    "**Test Examples**\n",
    "\n",
    "INPUT: `\"SEND + MORE = MONEY\"`  \n",
    "SOLUT: `\"9567 + 1085 = 10652\"`  \n",
    "```\n",
    "  S E N D\n",
    "+ M O R E\n",
    "---------\n",
    "M O N E Y\n",
    "```\n",
    "\n",
    "INPUT: `\"ELEVEN + NINE + FIVE + FIVE = THIRTY\"`  \n",
    "SOLUT: `\"797275 + 5057 + 4027 + 4027 = 810386\"`  \n",
    "```\n",
    "  E L E V E N \n",
    "+     N I N E \n",
    "+     F I V E\n",
    "+     F I V E\n",
    "-------------\n",
    "  T H I R T Y\n",
    "```\n",
    "\n",
    "Some puzzles may have multiple valid solutions; your function only needs to return one:  \n",
    "BIG + CAT = LION  \n",
    "403 + 679 = 1082  \n",
    "326 + 954 = 1280  \n",
    "304 + 758 = 1062  \n",
    "...etc.\n"
   ]
  },
  {
   "cell_type": "markdown",
   "metadata": {},
   "source": [
    "**Technical Details**\n",
    "  \n",
    "* All alphabetic letters in the input will be uppercase\n",
    "* Each unique letter may only be assigned to one unique digit (bijective mapping)\n",
    "* As a corollary to the above, there will be a maximum of 10 unique letters in any given test\n",
    "* No leading zeroes\n",
    "* The equations will only deal with addition with multiple summands on the left side   \n",
    "  (**summands** are LHS, ex: SEND, MORE ...) and one term on the right side\n",
    "* The number of summands will range between 2 and 7, inclusive\n",
    "* The length of each summand will range from 2 to 8 characters, inclusive\n",
    "* All test cases will be valid and will have one or more possible solutions\n",
    "* *Optimize your code* -- a naive, brute-force algorithm may **time out** before the first test completes"
   ]
  },
  {
   "cell_type": "markdown",
   "metadata": {},
   "source": [
    "**Resolution** \n",
    "\n",
    "```\n",
    "  S E N D\n",
    "+ M O R E\n",
    "---------\n",
    "M O N E Y\n",
    "```\n",
    "\n",
    "* $M is 1$, obviously (it cannot be 0)\n",
    "* $D + E = Y + 10.c_1$ \n",
    "* $c_1 + N + R = E + 10.c_2$\n",
    "* $c_2 + E + O = N + 10.c_3$\n",
    "* $c_3 + S + M = O + 10.c_4$\n",
    "* $c_4 = M  \\equiv 1 = M$ \n",
    "\n",
    "$\\color{blue}{M = 1}$\n",
    "    \n",
    "System can be rewritten as follows:\n",
    "* $(i) \\space D + E = Y + 10.c_1$ \n",
    "* $(ii) \\space c_1 + N + R = E + 10.c_2$\n",
    "* $(iii) \\space c_2 + E + O = N + 10.c_3$\n",
    "* $(iv) \\space c_3 + S + 1 = O + 10 \\equiv c_3 + S = O + 9$\n",
    "\n",
    "From (iv) $\\space c_3 + S = O + 9 \\Rightarrow (c_3=0 \\land S=9, O=0) \\lor (c_3=1 \\Rightarrow S = O + 8 \\Rightarrow S \\ge 8, O \\lt 2) => O=1 \\Rightarrow \\varnothing$ ($M=1$ already).  \n",
    "Hence $\\color{blue}{O = 0}$   \n",
    "\n",
    "From (iii) $r_2 + E + 0 = N + 10.r_3 \\Rightarrow r_2 + E = N + 10.r_3$  \n",
    "$r_2 + E = N + 10.r_3$, if $r_3 = 1 \\Rightarrow r_2 + E = N + 10$, 2 cases:\n",
    "* $r_2 = 0, \\space 0 + E = N + 10 \\equiv E = N + 10$, this is impossible\n",
    "* $r_2 = 1, \\space 1 + E = N + 10 \\equiv E = N + 9 => N=0 \\land E=9$, this is impossible, because $O=0$\n",
    "\n",
    "Hence $r_3 = 0 \\land \\color{blue}{S=9}$  \n",
    "\n",
    "From (iii): $r_2 + E = N$, 2 cases:\n",
    "* $r_2 = 0, \\space E = N$, impossible\n",
    "* $r_2 = 1, \\space 1 + E = N$\n",
    "\n",
    "Hence $r_2 = 1$\n",
    "\n",
    "From (ii): $r_1 + N + R = E + 10 \\equiv r_1 + N + R = N - 1 + 10 \\equiv r_1 + R = 9$, given $S = 9$:  \n",
    "$r_1 = 1 \\land \\color{blue}{R = 8}$\n",
    "\n",
    "From (i), $D + E = Y + 10$ and $1 + E = N$:\n",
    "* $Y \\ge 1$\n",
    "* We know maximum $D + E = 13$ (as 9, 8 are already taken, so D, E would be (6, 7) or (7, 6).\n",
    "* But $E = 7 \\Rightarrow N = 8$, impossible\n",
    "* And $E = 6 \\Rightarrow N = 7 \\land D = 7$, impossible\n",
    "\n",
    "So:\n",
    "* E is 5, 4, ~3, 2, 1~ and  \n",
    "* N is 6, 5, ~4, 3, 2~ and  \n",
    "* D 7, 6 and  \n",
    "* Y = (7 + 5 - 10 =) 2, ~(6 + 4 -10) 0~  \n",
    "\n",
    "Hence $\\color{blue}{Y = 2}$ (only possibility) $\\Rightarrow \\color{blue}{E =5} \\land \\color{blue}{N=6}$\n",
    " "
   ]
  },
  {
   "cell_type": "markdown",
   "metadata": {},
   "source": [
    "Some more examples:  \n",
    "* `  D A Y S  +     T O O =   S H O R T`\n",
    "* `    T W O  +   D A Y S =     M O R E`\n",
    "* `  W A I T  +     A L L =   G I F T S`\n",
    "* `  N I N E  +   F I V E =   W I V E S`\n",
    "* `  E V E R  + S I N C E = D A R W I N` \n",
    "* `    U S A  +   U S S R =   P E A C E`\n",
    "* `P O I N T  +   Z E R O = E N E R G Y`\n",
    "* `      G O  +       T O =       O U T`\n",
    "\n",
    "* ` E A T  +  E A T  +  E A T = B E E T`"
   ]
  },
  {
   "cell_type": "code",
   "execution_count": 1,
   "metadata": {},
   "outputs": [],
   "source": [
    "using Test\n",
    "using BenchmarkTools"
   ]
  },
  {
   "cell_type": "code",
   "execution_count": 2,
   "metadata": {},
   "outputs": [
    {
     "data": {
      "text/plain": [
       "2-element Array{SubString{String},1}:\n",
       " \"SEND + MORE\"\n",
       " \"MONEY\"      "
      ]
     },
     "execution_count": 2,
     "metadata": {},
     "output_type": "execute_result"
    }
   ],
   "source": [
    "const ALL_DIGITS = [d for d in 0:9]\n",
    "\n",
    "\n",
    "_input = \"SEND + MORE = MONEY\"\n",
    "_s, _result = map(strip, split(_input, '='))"
   ]
  },
  {
   "cell_type": "code",
   "execution_count": 3,
   "metadata": {},
   "outputs": [
    {
     "data": {
      "text/plain": [
       "2-element Array{SubString{String},1}:\n",
       " \"SEND\"\n",
       " \"MORE\""
      ]
     },
     "execution_count": 3,
     "metadata": {},
     "output_type": "execute_result"
    }
   ],
   "source": [
    "_summands = map(strip, split(_s, \"+\"))"
   ]
  },
  {
   "cell_type": "code",
   "execution_count": 7,
   "metadata": {},
   "outputs": [
    {
     "data": {
      "text/plain": [
       "words_result (generic function with 1 method)"
      ]
     },
     "execution_count": 7,
     "metadata": {},
     "output_type": "execute_result"
    }
   ],
   "source": [
    "function words_result(str::String)\n",
    "    s, result = map(strip, split(str, '='))\n",
    "    summands = map(strip, split(s, \"+\"))\n",
    "    return (result=split(result, \"\"), \n",
    "            summands=map(s -> split(s, \"\"), summands))\n",
    "end"
   ]
  },
  {
   "cell_type": "code",
   "execution_count": 8,
   "metadata": {},
   "outputs": [
    {
     "data": {
      "text/plain": [
       "(result = SubString{String}[\"M\", \"O\", \"N\", \"E\", \"Y\"], summands = Array{SubString{String},1}[[\"S\", \"E\", \"N\", \"D\"], [\"M\", \"O\", \"R\", \"E\"]])"
      ]
     },
     "execution_count": 8,
     "metadata": {},
     "output_type": "execute_result"
    }
   ],
   "source": [
    "words_result(\"SEND + MORE = MONEY\")"
   ]
  },
  {
   "cell_type": "code",
   "execution_count": 9,
   "metadata": {},
   "outputs": [
    {
     "data": {
      "text/plain": [
       "wr_tuple_rev (generic function with 1 method)"
      ]
     },
     "execution_count": 9,
     "metadata": {},
     "output_type": "execute_result"
    }
   ],
   "source": [
    "function wr_tuple_rev(wr_tuple)\n",
    "    \"\"\"\n",
    "    ```jldoctest\n",
    "    julia> wr_tuple = (result = [\"M\", \"O\", \"N\", \"E\", \"Y\"], summands = [[\"S\", \"E\", \"N\", \"D\"], [\"M\", \"O\", \"R\", \"E\"]])\n",
    "    julia> wr_tuple_rev(wr_tuple)\n",
    "    (result = [\"Y\", \"E\", \"N\", \"O\", \"M\"], summands = [[\"D\", \"N\", \"E\", \"S\"], [\"E\", \"R\", \"O\", \"M\"])\n",
    "    ```\n",
    "    \"\"\"\n",
    "    res = reverse(wr_tuple.result)\n",
    "    sums = map(reverse, wr_tuple.summands)\n",
    "    return (result=res, summands=sums)\n",
    "end"
   ]
  },
  {
   "cell_type": "code",
   "execution_count": 10,
   "metadata": {},
   "outputs": [
    {
     "data": {
      "text/plain": [
       "(result = [\"Y\", \"E\", \"N\", \"O\", \"M\"], summands = Array{String,1}[[\"D\", \"N\", \"E\", \"S\"], [\"E\", \"R\", \"O\", \"M\"]])"
      ]
     },
     "execution_count": 10,
     "metadata": {},
     "output_type": "execute_result"
    }
   ],
   "source": [
    "# wr_tuple = (result = \"MONEY\", summands = [\"SEND\", \"MORE\"])\n",
    "wr_tuple = (result = [\"M\", \"O\", \"N\", \"E\", \"Y\"], summands = [[\"S\", \"E\", \"N\", \"D\"], [\"M\", \"O\", \"R\", \"E\"]])\n",
    "\n",
    "wr_tuple_rev(wr_tuple)"
   ]
  },
  {
   "cell_type": "code",
   "execution_count": 11,
   "metadata": {},
   "outputs": [
    {
     "data": {
      "text/plain": [
       "\u001b[32m\u001b[1mTest Passed\u001b[22m\u001b[39m"
      ]
     },
     "execution_count": 11,
     "metadata": {},
     "output_type": "execute_result"
    }
   ],
   "source": [
    "wr_tuple1 = (result = [\"M\", \"O\", \"N\", \"E\", \"Y\"], summands = [[\"S\", \"E\", \"N\", \"D\"], [\"M\", \"O\", \"R\", \"E\"]])\n",
    "@test wr_tuple_rev(wr_tuple1) == (result = [\"Y\", \"E\", \"N\", \"O\", \"M\"], summands = [[\"D\", \"N\", \"E\", \"S\"], [\"E\", \"R\", \"O\", \"M\"]])\n",
    "\n",
    "wr_tuple2 = (result = [\"T\", \"H\", \"I\", \"R\", \"T\", \"Y\"], summands = [[\"E\", \"L\", \"E\", \"V\", \"E\", \"N\"], [\"N\", \"I\", \"N\", \"E\"], \n",
    "        [\"F\", \"I\", \"V\", \"E\"], [\"F\", \"I\", \"V\", \"E\"]])\n",
    "@test wr_tuple_rev(wr_tuple2) == (result = [\"Y\", \"T\", \"R\", \"I\", \"H\", \"T\"], summands = \n",
    "    [[\"N\", \"E\", \"V\", \"E\", \"L\", \"E\"], [\"E\", \"N\", \"I\", \"N\"], [\"E\", \"V\", \"I\", \"F\"], [\"E\", \"V\", \"I\", \"F\"]])"
   ]
  },
  {
   "cell_type": "code",
   "execution_count": 12,
   "metadata": {},
   "outputs": [
    {
     "data": {
      "text/plain": [
       "all_letters (generic function with 1 method)"
      ]
     },
     "execution_count": 12,
     "metadata": {},
     "output_type": "execute_result"
    }
   ],
   "source": [
    "function all_letters(str::String)\n",
    "    nstr = replace(str, ['+', ' ', '='] => \"\")\n",
    "    letters = split(nstr, \"\")\n",
    "    sort!(letters)   # in-place\n",
    "    unique!(letters) # in-place \n",
    "    return letters\n",
    "end"
   ]
  },
  {
   "cell_type": "code",
   "execution_count": 13,
   "metadata": {},
   "outputs": [
    {
     "data": {
      "text/plain": [
       "8-element Array{SubString{String},1}:\n",
       " \"D\"\n",
       " \"E\"\n",
       " \"M\"\n",
       " \"N\"\n",
       " \"O\"\n",
       " \"R\"\n",
       " \"S\"\n",
       " \"Y\""
      ]
     },
     "execution_count": 13,
     "metadata": {},
     "output_type": "execute_result"
    }
   ],
   "source": [
    "all_letters(\"SEND + MORE = MONEY\")"
   ]
  },
  {
   "cell_type": "code",
   "execution_count": 14,
   "metadata": {},
   "outputs": [
    {
     "data": {
      "text/plain": [
       "\u001b[32m\u001b[1mTest Passed\u001b[22m\u001b[39m"
      ]
     },
     "execution_count": 14,
     "metadata": {},
     "output_type": "execute_result"
    }
   ],
   "source": [
    "@test all_letters(\"SEND + MORE = MONEY\") == [\"D\", \"E\", \"M\", \"N\", \"O\", \"R\", \"S\", \"Y\"]\n",
    "@test all_letters(\"ELEVEN + NINE + FIVE + FIVE = THIRTY\") == [\"E\", \"F\", \"H\", \"I\", \"L\", \"N\", \"R\", \"T\", \"V\", \"Y\"]"
   ]
  },
  {
   "cell_type": "code",
   "execution_count": 15,
   "metadata": {},
   "outputs": [],
   "source": [
    "mutable struct AExpr\n",
    "    lhs::String\n",
    "    rhs::String\n",
    "end"
   ]
  },
  {
   "cell_type": "code",
   "execution_count": 16,
   "metadata": {},
   "outputs": [],
   "source": [
    "Base.show(io::IO, aexpr::AExpr) = print(io, \"lhs: $(aexpr.lhs) = rhs: $(aexpr.rhs)\")"
   ]
  },
  {
   "cell_type": "code",
   "execution_count": 17,
   "metadata": {},
   "outputs": [
    {
     "data": {
      "text/plain": [
       "gen_constraints (generic function with 1 method)"
      ]
     },
     "execution_count": 17,
     "metadata": {},
     "output_type": "execute_result"
    }
   ],
   "source": [
    "function gen_constraints(wr_tuple_rev)::Tuple{Array{AExpr, 1}, Array{String, 1}}\n",
    "    len_res = length(wr_tuple_rev.result)\n",
    "    constraints = []\n",
    "    ix, aexpr = 1, AExpr(\"\", \"\") \n",
    "    symbols = [] # Array{String, 1}[]\n",
    "    \n",
    "    while true  \n",
    "        # lhs\n",
    "        for ary in wr_tuple_rev.summands\n",
    "            if ix <= length(ary)\n",
    "                ary[ix] in symbols || push!(symbols, ary[ix])\n",
    "                \n",
    "                if isempty(aexpr.lhs)\n",
    "                    aexpr.lhs = \"$(ary[ix])\"\n",
    "                else\n",
    "                    aexpr.lhs = \"$(aexpr.lhs) + $(ary[ix])\"\n",
    "                end\n",
    "            end\n",
    "        end\n",
    "        \n",
    "        # rhs\n",
    "        wr_tuple_rev.result[ix] in symbols || push!(symbols, wr_tuple_rev.result[ix])\n",
    "        aexpr.rhs =\n",
    "            if ix == length(wr_tuple_rev.result)\n",
    "                \"$(wr_tuple_rev.result[ix])\"\n",
    "            else\n",
    "                # carry\n",
    "                \"$(wr_tuple_rev.result[ix]) + 10 * c_$(ix)\"\n",
    "            end\n",
    "        push!(constraints, aexpr)\n",
    "        \n",
    "        # next \n",
    "        ix += 1\n",
    "        ix > len_res && break\n",
    "        \n",
    "        # next carry\n",
    "        aexpr = AExpr(\"c_$(ix - 1)\", \"\")\n",
    "        push!(symbols, \"c_$(ix - 1)\")\n",
    "    end\n",
    "    \n",
    "    return (constraints, symbols)\n",
    "end"
   ]
  },
  {
   "cell_type": "code",
   "execution_count": 18,
   "metadata": {},
   "outputs": [
    {
     "data": {
      "text/plain": [
       "(result = [\"Y\", \"E\", \"N\", \"O\", \"M\"], summands = Array{String,1}[[\"D\", \"N\", \"E\", \"S\"], [\"E\", \"R\", \"O\", \"M\"]])"
      ]
     },
     "execution_count": 18,
     "metadata": {},
     "output_type": "execute_result"
    }
   ],
   "source": [
    "wr_tuple_rev1 = wr_tuple_rev(wr_tuple1)"
   ]
  },
  {
   "cell_type": "code",
   "execution_count": 19,
   "metadata": {},
   "outputs": [
    {
     "data": {
      "text/plain": [
       "(AExpr[lhs: D + E = rhs: Y + 10 * c_1, lhs: c_1 + N + R = rhs: E + 10 * c_2, lhs: c_2 + E + O = rhs: N + 10 * c_3, lhs: c_3 + S + M = rhs: O + 10 * c_4, lhs: c_4 = rhs: M], [\"D\", \"E\", \"Y\", \"c_1\", \"N\", \"R\", \"c_2\", \"O\", \"c_3\", \"S\", \"M\", \"c_4\"])"
      ]
     },
     "execution_count": 19,
     "metadata": {},
     "output_type": "execute_result"
    }
   ],
   "source": [
    "constraint_ary, ary_symbols = gen_constraints(wr_tuple_rev1)"
   ]
  },
  {
   "cell_type": "markdown",
   "metadata": {},
   "source": [
    "Remarks:  \n",
    "* $\\forall i, c_i ∈ [0, 1]$  \n",
    "* $S \\neq 0 \\land M \\neq 0$"
   ]
  },
  {
   "cell_type": "code",
   "execution_count": 20,
   "metadata": {},
   "outputs": [
    {
     "data": {
      "text/plain": [
       "12-element Array{String,1}:\n",
       " \"D\"  \n",
       " \"E\"  \n",
       " \"Y\"  \n",
       " \"c_1\"\n",
       " \"N\"  \n",
       " \"R\"  \n",
       " \"c_2\"\n",
       " \"O\"  \n",
       " \"c_3\"\n",
       " \"S\"  \n",
       " \"M\"  \n",
       " \"c_4\""
      ]
     },
     "execution_count": 20,
     "metadata": {},
     "output_type": "execute_result"
    }
   ],
   "source": [
    "ary_symbols"
   ]
  },
  {
   "cell_type": "code",
   "execution_count": 21,
   "metadata": {},
   "outputs": [
    {
     "data": {
      "text/plain": [
       "Tuple{Symbol,Symbol}"
      ]
     },
     "execution_count": 21,
     "metadata": {},
     "output_type": "execute_result"
    }
   ],
   "source": [
    "const ETYPES = (:carry, :var)  # Symbol Expression type either :carry or :var\n",
    "typeof(ETYPES)"
   ]
  },
  {
   "cell_type": "code",
   "execution_count": 22,
   "metadata": {},
   "outputs": [],
   "source": [
    "mutable struct Elem\n",
    "    symbol::String\n",
    "    value::Union{Nothing, Int}\n",
    "    pvalues::Set{Int}\n",
    "    etype::Symbol\n",
    "end"
   ]
  },
  {
   "cell_type": "code",
   "execution_count": 23,
   "metadata": {},
   "outputs": [
    {
     "data": {
      "text/plain": [
       "Dict{String,Elem} with 12 entries:\n",
       "  \"c_4\" => Elem(\"c_4\", nothing, Set([0, 1]), :carry)\n",
       "  \"O\"   => Elem(\"O\", nothing, Set([0, 4, 7, 9, 2, 3, 5, 8, 6, 1]), :var)\n",
       "  \"M\"   => Elem(\"M\", nothing, Set([0, 4, 7, 9, 2, 3, 5, 8, 6, 1]), :var)\n",
       "  \"N\"   => Elem(\"N\", nothing, Set([0, 4, 7, 9, 2, 3, 5, 8, 6, 1]), :var)\n",
       "  \"c_1\" => Elem(\"c_1\", nothing, Set([0, 1]), :carry)\n",
       "  \"c_2\" => Elem(\"c_2\", nothing, Set([0, 1]), :carry)\n",
       "  \"D\"   => Elem(\"D\", nothing, Set([0, 4, 7, 9, 2, 3, 5, 8, 6, 1]), :var)\n",
       "  \"E\"   => Elem(\"E\", nothing, Set([0, 4, 7, 9, 2, 3, 5, 8, 6, 1]), :var)\n",
       "  \"Y\"   => Elem(\"Y\", nothing, Set([0, 4, 7, 9, 2, 3, 5, 8, 6, 1]), :var)\n",
       "  \"S\"   => Elem(\"S\", nothing, Set([0, 4, 7, 9, 2, 3, 5, 8, 6, 1]), :var)\n",
       "  \"R\"   => Elem(\"R\", nothing, Set([0, 4, 7, 9, 2, 3, 5, 8, 6, 1]), :var)\n",
       "  \"c_3\" => Elem(\"c_3\", nothing, Set([0, 1]), :carry)"
      ]
     },
     "execution_count": 23,
     "metadata": {},
     "output_type": "execute_result"
    }
   ],
   "source": [
    "hsymbols = Dict{String, Elem}()\n",
    "\n",
    "for k in ary_symbols\n",
    "    cond = match(r\"\\Ac_\\d+\", k) != nothing\n",
    "    hsymbols[k] = Elem(\n",
    "        k, \n",
    "        nothing, \n",
    "        cond ? Set([0, 1]) : Set(collect(0:9)),\n",
    "        cond ? ETYPES[1] : ETYPES[2] # ETYPES][1] == :carry, ETYPES][2] == :var\n",
    "    )\n",
    "end\n",
    "\n",
    "hsymbols"
   ]
  },
  {
   "cell_type": "code",
   "execution_count": 24,
   "metadata": {},
   "outputs": [
    {
     "data": {
      "text/plain": [
       "Dict{String,Nothing} with 12 entries:\n",
       "  \"c_4\" => nothing\n",
       "  \"O\"   => nothing\n",
       "  \"M\"   => nothing\n",
       "  \"N\"   => nothing\n",
       "  \"c_1\" => nothing\n",
       "  \"c_2\" => nothing\n",
       "  \"D\"   => nothing\n",
       "  \"E\"   => nothing\n",
       "  \"Y\"   => nothing\n",
       "  \"S\"   => nothing\n",
       "  \"R\"   => nothing\n",
       "  \"c_3\" => nothing"
      ]
     },
     "execution_count": 24,
     "metadata": {},
     "output_type": "execute_result"
    }
   ],
   "source": [
    "symbols = Dict(k => nothing for k in keys(hsymbols)) # short version"
   ]
  },
  {
   "cell_type": "code",
   "execution_count": 25,
   "metadata": {},
   "outputs": [
    {
     "data": {
      "text/plain": [
       "gen_constraints_as_expr (generic function with 1 method)"
      ]
     },
     "execution_count": 25,
     "metadata": {},
     "output_type": "execute_result"
    }
   ],
   "source": [
    "function gen_constraints_as_expr(ary::Array{AExpr, 1})::Array{NamedTuple{(:lhs, :rhs),T} where T<:Tuple,1}\n",
    "    return map(aexpr -> (lhs=Meta.parse(aexpr.lhs), rhs=Meta.parse(aexpr.rhs)), ary)\n",
    "end"
   ]
  },
  {
   "cell_type": "code",
   "execution_count": 28,
   "metadata": {},
   "outputs": [
    {
     "data": {
      "text/plain": [
       "5-element Array{NamedTuple{(:lhs, :rhs),T} where T<:Tuple,1}:\n",
       " (lhs = :(D + E), rhs = :(Y + 10c_1))      \n",
       " (lhs = :(c_1 + N + R), rhs = :(E + 10c_2))\n",
       " (lhs = :(c_2 + E + O), rhs = :(N + 10c_3))\n",
       " (lhs = :(c_3 + S + M), rhs = :(O + 10c_4))\n",
       " (lhs = :c_4, rhs = :M)                    "
      ]
     },
     "execution_count": 28,
     "metadata": {},
     "output_type": "execute_result"
    }
   ],
   "source": [
    "const AEXPR_LST = gen_constraints_as_expr(constraint_ary)"
   ]
  },
  {
   "cell_type": "markdown",
   "metadata": {},
   "source": [
    "### Evaluation"
   ]
  },
  {
   "cell_type": "code",
   "execution_count": 29,
   "metadata": {},
   "outputs": [
    {
     "data": {
      "text/plain": [
       "eval_aexpr (generic function with 1 method)"
      ]
     },
     "execution_count": 29,
     "metadata": {},
     "output_type": "execute_result"
    }
   ],
   "source": [
    "function eval_aexpr(aexpr_lst::Array{NamedTuple{(:lhs, :rhs),T} where T<:Tuple,1}, d_env)\n",
    "    # set the env\n",
    "    [@eval $(Symbol(\"$(k)\")) = ($v) for (k, v) in d_env]\n",
    "    \n",
    "    for aexpr in aexpr_lst\n",
    "        try\n",
    "            lhs = eval(aexpr.lhs)\n",
    "            rhs = eval(aexpr.rhs)\n",
    "        \n",
    "            if (lhs != rhs) \n",
    "                println(\"eval: $(aexpr.lhs)[==$(lhs)] != $(aexpr.rhs)[==$(rhs)] - false / stop\")\n",
    "                return false\n",
    "            else\n",
    "                println(\"eval: $(aexpr.lhs)[==$(lhs)] == $(aexpr.rhs)[==$(rhs)] - true / continue\")\n",
    "            end\n",
    "            \n",
    "        catch ex\n",
    "            println(\"[!] lhs: $(aexpr.lhs) / rhs: $(aexpr.rhs) - not eval-uable\")\n",
    "            continue\n",
    "        end\n",
    "    end\n",
    "    \n",
    "    return true\n",
    "end"
   ]
  },
  {
   "cell_type": "code",
   "execution_count": 30,
   "metadata": {},
   "outputs": [
    {
     "name": "stdout",
     "output_type": "stream",
     "text": [
      "eval: D + E[==11] != Y + 10c_1[==3] - false / stop\n"
     ]
    },
    {
     "data": {
      "text/plain": [
       "false"
      ]
     },
     "execution_count": 30,
     "metadata": {},
     "output_type": "execute_result"
    }
   ],
   "source": [
    "eval_aexpr(AEXPR_LST, \n",
    "    merge(hsymbols, Dict(\"D\" => 9, \"E\" => 2, \"Y\" => 3, \"c_1\" => 0)))"
   ]
  },
  {
   "cell_type": "code",
   "execution_count": 31,
   "metadata": {},
   "outputs": [
    {
     "name": "stdout",
     "output_type": "stream",
     "text": [
      "eval: D + E[==11] == Y + 10c_1[==11] - true / continue\n",
      "[!] lhs: c_1 + N + R / rhs: E + 10c_2 - not eval-uable\n",
      "[!] lhs: c_2 + E + O / rhs: N + 10c_3 - not eval-uable\n",
      "[!] lhs: c_3 + S + M / rhs: O + 10c_4 - not eval-uable\n",
      "[!] lhs: c_4 / rhs: M - not eval-uable\n"
     ]
    },
    {
     "data": {
      "text/plain": [
       "true"
      ]
     },
     "execution_count": 31,
     "metadata": {},
     "output_type": "execute_result"
    }
   ],
   "source": [
    "eval_aexpr(AEXPR_LST, \n",
    "    merge(hsymbols, Dict(\"D\" => 9, \"E\" => 2, \"Y\" => 1, \"c_1\" => 1)))"
   ]
  },
  {
   "cell_type": "code",
   "execution_count": 32,
   "metadata": {},
   "outputs": [
    {
     "name": "stdout",
     "output_type": "stream",
     "text": [
      "[!] lhs: D + E / rhs: Y + 10c_1 - not eval-uable\n",
      "[!] lhs: c_1 + N + R / rhs: E + 10c_2 - not eval-uable\n",
      "[!] lhs: c_2 + E + O / rhs: N + 10c_3 - not eval-uable\n",
      "[!] lhs: c_3 + S + M / rhs: O + 10c_4 - not eval-uable\n",
      "eval: c_4[==1] == M[==1] - true / continue\n"
     ]
    },
    {
     "data": {
      "text/plain": [
       "true"
      ]
     },
     "execution_count": 32,
     "metadata": {},
     "output_type": "execute_result"
    }
   ],
   "source": [
    "eval_aexpr(AEXPR_LST, \n",
    "    merge(hsymbols, Dict(\"c_4\" => 1, \"M\" => 1)))"
   ]
  },
  {
   "cell_type": "code",
   "execution_count": 33,
   "metadata": {},
   "outputs": [
    {
     "name": "stdout",
     "output_type": "stream",
     "text": [
      "eval: D + E[==4] != Y + 10c_1[==5] - false / stop\n"
     ]
    },
    {
     "data": {
      "text/plain": [
       "false"
      ]
     },
     "execution_count": 33,
     "metadata": {},
     "output_type": "execute_result"
    }
   ],
   "source": [
    "eval_aexpr(AEXPR_LST, \n",
    "    merge(hsymbols, Dict(\"c_4\" => 1, \"M\" => 2, \"D\" => 3, \"E\" => 1, \"Y\" => 5, \"c_1\" => 0)))"
   ]
  },
  {
   "cell_type": "code",
   "execution_count": 34,
   "metadata": {},
   "outputs": [
    {
     "name": "stdout",
     "output_type": "stream",
     "text": [
      "eval: D + E[==5] == Y + 10c_1[==5] - true / continue\n",
      "[!] lhs: c_1 + N + R / rhs: E + 10c_2 - not eval-uable\n",
      "[!] lhs: c_2 + E + O / rhs: N + 10c_3 - not eval-uable\n",
      "[!] lhs: c_3 + S + M / rhs: O + 10c_4 - not eval-uable\n",
      "eval: c_4[==1] != M[==2] - false / stop\n"
     ]
    },
    {
     "data": {
      "text/plain": [
       "false"
      ]
     },
     "execution_count": 34,
     "metadata": {},
     "output_type": "execute_result"
    }
   ],
   "source": [
    "eval_aexpr(AEXPR_LST, \n",
    "    merge(shymbols, Dict(\"c_4\" => 1, \"M\" => 2, \"D\" => 4, \"E\" => 1, \"Y\" => 5, \"c_1\" => 0)))"
   ]
  },
  {
   "cell_type": "code",
   "execution_count": 35,
   "metadata": {},
   "outputs": [
    {
     "name": "stdout",
     "output_type": "stream",
     "text": [
      "eval: D + E[==7] == Y + 10c_1[==7] - true / continue\n",
      "[!] lhs: c_1 + N + R / rhs: E + 10c_2 - not eval-uable\n",
      "[!] lhs: c_2 + E + O / rhs: N + 10c_3 - not eval-uable\n",
      "[!] lhs: c_3 + S + M / rhs: O + 10c_4 - not eval-uable\n",
      "eval: c_4[==1] == M[==1] - true / continue\n"
     ]
    },
    {
     "data": {
      "text/plain": [
       "true"
      ]
     },
     "execution_count": 35,
     "metadata": {},
     "output_type": "execute_result"
    }
   ],
   "source": [
    "eval_aexpr(AEXPR_LST, \n",
    "    merge(hsymbols, Dict(\"c_4\" => 1, \"M\" => 1, \"D\" => 5, \"E\" => 2, \"Y\" => 7, \"c_1\" => 0)))"
   ]
  },
  {
   "cell_type": "markdown",
   "metadata": {},
   "source": [
    "### System\n",
    "\n",
    "Possible Strategy:\n",
    "* Start with equation with less constraints (in term of length and number of constraints\n",
    "* LHS (1 symb) = RHS (1 symb) and LHS $\\neq$ RHS $\\Rightarrow$ solution = LHS $\\cap$ RHS \n",
    "\n",
    "Constraints:\n",
    "* Leftmost symbols cannot be 0\n",
    "* All Symbols have different values"
   ]
  },
  {
   "cell_type": "code",
   "execution_count": 36,
   "metadata": {},
   "outputs": [
    {
     "data": {
      "text/plain": [
       "5-element Array{NamedTuple{(:lhs, :rhs),T} where T<:Tuple,1}:\n",
       " (lhs = :(D + E), rhs = :(Y + 10c_1))      \n",
       " (lhs = :(c_1 + N + R), rhs = :(E + 10c_2))\n",
       " (lhs = :(c_2 + E + O), rhs = :(N + 10c_3))\n",
       " (lhs = :(c_3 + S + M), rhs = :(O + 10c_4))\n",
       " (lhs = :c_4, rhs = :M)                    "
      ]
     },
     "execution_count": 36,
     "metadata": {},
     "output_type": "execute_result"
    }
   ],
   "source": [
    "AEXPR_LST"
   ]
  },
  {
   "cell_type": "code",
   "execution_count": 43,
   "metadata": {},
   "outputs": [
    {
     "data": {
      "text/plain": [
       "2-element Array{Any,1}:\n",
       " :Y      \n",
       " :(10c_1)"
      ]
     },
     "execution_count": 43,
     "metadata": {},
     "output_type": "execute_result"
    }
   ],
   "source": [
    "t = AEXPR_LST[1]\n",
    "typeof(t.lhs)   # Expr\n",
    "t.lhs.head      # :call\n",
    "t.lhs.args      # 3-element Array{Any,1}:\n",
    "# :+\n",
    "# :D\n",
    "# :E\n",
    "t.lhs.args[2:end] # 2-element Array{Any,1}:\n",
    "# :D\n",
    "# :E\n",
    "t.rhs.args[2:end] # 2-element Array{Any,1}:\n",
    "# :Y\n",
    "# :(10c_1)"
   ]
  },
  {
   "cell_type": "code",
   "execution_count": 44,
   "metadata": {},
   "outputs": [
    {
     "data": {
      "text/plain": [
       "4-element Array{Any,1}:\n",
       " :D      \n",
       " :E      \n",
       " :Y      \n",
       " :(10c_1)"
      ]
     },
     "execution_count": 44,
     "metadata": {},
     "output_type": "execute_result"
    }
   ],
   "source": [
    "cat(t.lhs.args[2:end], t.rhs.args[2:end]; dims=1)"
   ]
  },
  {
   "cell_type": "code",
   "execution_count": 45,
   "metadata": {},
   "outputs": [
    {
     "data": {
      "text/plain": [
       "4-element Array{Any,1}:\n",
       " :D      \n",
       " :E      \n",
       " :Y      \n",
       " :(10c_1)"
      ]
     },
     "execution_count": 45,
     "metadata": {},
     "output_type": "execute_result"
    }
   ],
   "source": [
    "vcat(t.lhs.args[2:end], t.rhs.args[2:end])"
   ]
  },
  {
   "cell_type": "code",
   "execution_count": 46,
   "metadata": {},
   "outputs": [
    {
     "data": {
      "text/plain": [
       ":c_4"
      ]
     },
     "execution_count": 46,
     "metadata": {},
     "output_type": "execute_result"
    }
   ],
   "source": [
    "t_last = aexpr_lst[end]\n",
    "typeof(t_last.lhs) # Symbol\n",
    "t_last.lhs         # :c_4"
   ]
  },
  {
   "cell_type": "code",
   "execution_count": 47,
   "metadata": {},
   "outputs": [
    {
     "data": {
      "text/plain": [
       "find_eqn_with_less_contraints (generic function with 1 method)"
      ]
     },
     "execution_count": 47,
     "metadata": {},
     "output_type": "execute_result"
    }
   ],
   "source": [
    "function find_eqn_with_less_contraints(aexpr_lst)\n",
    "    \"\"\"\n",
    "    Find equation in given aexpr_lst, which has the less element(s)\n",
    "    returns first equation if all equations have same number of elements (or members) \n",
    "    \"\"\"\n",
    "    ary, nmin = fill(0, 3), 10_000_000\n",
    "    \n",
    "    for (ix, t) in enumerate(aexpr_lst)\n",
    "        _ary = fill(ix, 3)\n",
    "        for (jx, ths) in enumerate(t)\n",
    "            hs = \n",
    "                if typeof(ths) == Expr\n",
    "                    length(ths.args[2:end])\n",
    "                elseif typeof(ths) == Symbol\n",
    "                    1\n",
    "                end\n",
    "            _ary[jx + 1] = hs\n",
    "        end    \n",
    "        n = _ary[2] + _ary[end]\n",
    "        if n < nmin\n",
    "            nmin = n\n",
    "            for i in 1:3\n",
    "                ary[i] = _ary[i]\n",
    "            end\n",
    "        end\n",
    "    end\n",
    "    return ary\n",
    "end"
   ]
  },
  {
   "cell_type": "code",
   "execution_count": 49,
   "metadata": {},
   "outputs": [
    {
     "data": {
      "text/plain": [
       "3-element Array{Int64,1}:\n",
       " 5\n",
       " 1\n",
       " 1"
      ]
     },
     "execution_count": 49,
     "metadata": {},
     "output_type": "execute_result"
    }
   ],
   "source": [
    "ary = find_eqn_with_less_contraints(AEXPR_LST)  # [ix, len(lhs), len(rhs)], here [5, 1, 1]"
   ]
  },
  {
   "cell_type": "code",
   "execution_count": 50,
   "metadata": {},
   "outputs": [
    {
     "data": {
      "text/plain": [
       "non_leading_0! (generic function with 1 method)"
      ]
     },
     "execution_count": 50,
     "metadata": {},
     "output_type": "execute_result"
    }
   ],
   "source": [
    "# wr_tuple = (result = [\"M\", \"O\", \"N\", \"E\", \"Y\"], summands = [[\"S\", \"E\", \"N\", \"D\"], [\"M\", \"O\", \"R\", \"E\"]])\n",
    "function non_leading_0!(hsymbols, wr_tuple)\n",
    "    sym = wr_tuple.result[1]\n",
    "    hsymbols[sym].pvalues = Set(collect(1:9))\n",
    "    \n",
    "    for s in wr_tuple.summands\n",
    "        hsymbols[s[1]].pvalues = Set(collect(1:9))\n",
    "    end\n",
    "    \n",
    "    hsymbols\n",
    "end"
   ]
  },
  {
   "cell_type": "code",
   "execution_count": 51,
   "metadata": {},
   "outputs": [
    {
     "data": {
      "text/plain": [
       "Dict{String,Elem} with 12 entries:\n",
       "  \"c_4\" => Elem(\"c_4\", nothing, Set([0, 1]), :carry)\n",
       "  \"O\"   => Elem(\"O\", nothing, Set([0, 4, 7, 9, 2, 3, 5, 8, 6, 1]), :var)\n",
       "  \"M\"   => Elem(\"M\", nothing, Set([7, 4, 9, 2, 3, 5, 8, 6, 1]), :var)\n",
       "  \"N\"   => Elem(\"N\", nothing, Set([0, 4, 7, 9, 2, 3, 5, 8, 6, 1]), :var)\n",
       "  \"c_1\" => Elem(\"c_1\", nothing, Set([0, 1]), :carry)\n",
       "  \"c_2\" => Elem(\"c_2\", nothing, Set([0, 1]), :carry)\n",
       "  \"D\"   => Elem(\"D\", nothing, Set([0, 4, 7, 9, 2, 3, 5, 8, 6, 1]), :var)\n",
       "  \"E\"   => Elem(\"E\", nothing, Set([0, 4, 7, 9, 2, 3, 5, 8, 6, 1]), :var)\n",
       "  \"Y\"   => Elem(\"Y\", nothing, Set([0, 4, 7, 9, 2, 3, 5, 8, 6, 1]), :var)\n",
       "  \"S\"   => Elem(\"S\", nothing, Set([7, 4, 9, 2, 3, 5, 8, 6, 1]), :var)\n",
       "  \"R\"   => Elem(\"R\", nothing, Set([0, 4, 7, 9, 2, 3, 5, 8, 6, 1]), :var)\n",
       "  \"c_3\" => Elem(\"c_3\", nothing, Set([0, 1]), :carry)"
      ]
     },
     "execution_count": 51,
     "metadata": {},
     "output_type": "execute_result"
    }
   ],
   "source": [
    "non_leading_0!(hsymbols, wr_tuple) # side -effect hsymbols"
   ]
  },
  {
   "cell_type": "code",
   "execution_count": 54,
   "metadata": {},
   "outputs": [
    {
     "data": {
      "text/plain": [
       "lhs_rhs_singleton! (generic function with 1 method)"
      ]
     },
     "execution_count": 54,
     "metadata": {},
     "output_type": "execute_result"
    }
   ],
   "source": [
    "# (AExpr[lhs: D + E = rhs: Y + 10 * c_1, \n",
    "#        lhs: c_1 + N + R = rhs: E + 10 * c_2, \n",
    "#        lhs: c_2 + E + O = rhs: N + 10 * c_3, \n",
    "#        lhs: c_3 + S + M = rhs: O + 10 * c_4, \n",
    "#        lhs: c_4 = rhs: M], \n",
    "#\n",
    "#  [\"D\", \"E\", \"Y\", \"c_1\", \"N\", \"R\", \"c_2\", \"O\", \"c_3\", \"S\", \"M\", \"c_4\"])\n",
    "\n",
    "function lhs_rhs_singleton!(hsymbols, aexpr_lst)\n",
    "    ix, n_l, n_r = find_eqn_with_less_contraints(aexpr_lst)\n",
    "    \n",
    "    if n_l == n_r && n_r == 1 # we have 1 equation with singleton element on both side, simplify! \n",
    "        lhs_sym = aexpr_lst[ix].lhs\n",
    "        rhs_sym = aexpr_lst[ix].rhs\n",
    "        set = intersect(hsymbols[String(lhs_sym)].pvalues, hsymbols[String(rhs_sym)].pvalues)    \n",
    "        hsymbols[String(lhs_sym)].pvalues = set\n",
    "        hsymbols[String(rhs_sym)].pvalues = set\n",
    "        \n",
    "        if length(set) == 1\n",
    "            hsymbols[String(lhs_sym)].value = first(set)\n",
    "            hsymbols[String(rhs_sym)].value = first(set)            \n",
    "            # this value needs to be remove from all pvalues of all remaining variables\n",
    "            \n",
    "            for sym in keys(hsymbols)\n",
    "                hsymbols[sym].etype == :carry && continue # ignore carries\n",
    "                hsymbols[sym].pvalues = setdiff(hsymbols[sym].pvalues, set)\n",
    "            end\n",
    "        end\n",
    "    end\n",
    "end"
   ]
  },
  {
   "cell_type": "code",
   "execution_count": 55,
   "metadata": {},
   "outputs": [
    {
     "data": {
      "text/plain": [
       "Dict{String,Elem} with 12 entries:\n",
       "  \"c_4\" => Elem(\"c_4\", 1, Set([1]), :carry)\n",
       "  \"O\"   => Elem(\"O\", nothing, Set([0, 4, 7, 9, 2, 3, 5, 8, 6]), :var)\n",
       "  \"M\"   => Elem(\"M\", 1, Set(Int64[]), :var)\n",
       "  \"N\"   => Elem(\"N\", nothing, Set([0, 4, 7, 9, 2, 3, 5, 8, 6]), :var)\n",
       "  \"c_1\" => Elem(\"c_1\", nothing, Set([0, 1]), :carry)\n",
       "  \"c_2\" => Elem(\"c_2\", nothing, Set([0, 1]), :carry)\n",
       "  \"D\"   => Elem(\"D\", nothing, Set([0, 4, 7, 9, 2, 3, 5, 8, 6]), :var)\n",
       "  \"E\"   => Elem(\"E\", nothing, Set([0, 4, 7, 9, 2, 3, 5, 8, 6]), :var)\n",
       "  \"Y\"   => Elem(\"Y\", nothing, Set([0, 4, 7, 9, 2, 3, 5, 8, 6]), :var)\n",
       "  \"S\"   => Elem(\"S\", nothing, Set([7, 4, 9, 2, 3, 5, 8, 6]), :var)\n",
       "  \"R\"   => Elem(\"R\", nothing, Set([0, 4, 7, 9, 2, 3, 5, 8, 6]), :var)\n",
       "  \"c_3\" => Elem(\"c_3\", nothing, Set([0, 1]), :carry)"
      ]
     },
     "execution_count": 55,
     "metadata": {},
     "output_type": "execute_result"
    }
   ],
   "source": [
    "lhs_rhs_singleton!(hsymbols, AEXPR_LST)\n",
    "hsymbols"
   ]
  },
  {
   "cell_type": "markdown",
   "metadata": {},
   "source": [
    "#### Evaluation given context"
   ]
  },
  {
   "cell_type": "code",
   "execution_count": 61,
   "metadata": {},
   "outputs": [
    {
     "name": "stdout",
     "output_type": "stream",
     "text": [
      "[!] lhs: D + E / rhs: Y + 10c_1 - not eval-uable\n",
      "[!] lhs: c_1 + N + R / rhs: E + 10c_2 - not eval-uable\n",
      "[!] lhs: c_2 + E + O / rhs: N + 10c_3 - not eval-uable\n",
      "[!] lhs: c_3 + S + M / rhs: O + 10c_4 - not eval-uable\n",
      "eval: c_4[==1] == M[==1] - true / continue\n"
     ]
    },
    {
     "data": {
      "text/plain": [
       "true"
      ]
     },
     "execution_count": 61,
     "metadata": {},
     "output_type": "execute_result"
    }
   ],
   "source": [
    "eval_aexpr(\n",
    "    AEXPR_LST,\n",
    "    Dict(k => hsymbols[k].value for k in keys(hsymbols))\n",
    ")\n",
    "# merge(symbols, Dict(\"D\" => 9, \"E\" => 2, \"Y\" => 3, \"c_1\" => 0)))"
   ]
  }
 ],
 "metadata": {
  "kernelspec": {
   "display_name": "Julia 1.5.3",
   "language": "julia",
   "name": "julia-1.5"
  },
  "language_info": {
   "file_extension": ".jl",
   "mimetype": "application/julia",
   "name": "julia",
   "version": "1.5.3"
  }
 },
 "nbformat": 4,
 "nbformat_minor": 2
}
