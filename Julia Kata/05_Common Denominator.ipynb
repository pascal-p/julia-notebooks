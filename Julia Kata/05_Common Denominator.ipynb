{
 "cells": [
  {
   "cell_type": "markdown",
   "metadata": {},
   "source": [
    "ref. https://www.codewars.com/kata/54d7660d2daf68c619000d95, (5 kyu) - 2019-12-05"
   ]
  },
  {
   "cell_type": "markdown",
   "metadata": {},
   "source": [
    "**Common denominators**\n",
    "\n",
    "You will have a list of rationals in the form:  \n",
    " [ ($numer_1$, $denom_1$) , ... ($numer_n$, $denom_n$) ] \n",
    "\n",
    "where all numbers are positive integers.\n",
    "\n",
    "You have to produce a result in the form\n",
    "\n",
    " ($n_1$, $d$) ... ($n_n$, $d$) \n",
    "\n",
    "in which $d$ is as small as possible and\n",
    "\n",
    " $\\frac{n_1}{d} == \\frac{numer_1}{denom_1}$ ... $\\frac{n_n}{d} == \\frac{numer_n}{denom_n}$.\n",
    "\n",
    "Example:  \n",
    "`convert_fracs([(1, 2), (1, 3), (1, 4)]) should be [(6, 12), (4, 12), (3, 12)]`\n",
    "\n",
    "Note:  \n",
    "Due to the fact that first translations were written long ago - more than 4 years - these translations have only irreducible fractions. Newer translations have some reducible fractions. To be on the safe side it is better to do a bit more work by simplifying fractions even if they don't have to be.\n"
   ]
  },
  {
   "cell_type": "code",
   "execution_count": 1,
   "metadata": {},
   "outputs": [],
   "source": [
    "using Test\n",
    "# using BenchmarkTools"
   ]
  },
  {
   "cell_type": "code",
   "execution_count": 38,
   "metadata": {},
   "outputs": [
    {
     "data": {
      "text/plain": [
       "build_frac_lst (generic function with 1 method)"
      ]
     },
     "execution_count": 38,
     "metadata": {},
     "output_type": "execute_result"
    }
   ],
   "source": [
    "T = Array{Tuple{Int, Int}, 1}\n",
    "\n",
    "function convert_fracs(frac_lst::T)::T\n",
    "    @assert size(frac_lst, 1) > 0\n",
    "    \n",
    "    # 1 - simplify all fractions if possible \n",
    "    frac_lst = _simplify(frac_lst)\n",
    "    \n",
    "    size(frac_lst, 1) == 1 && return frac_lst\n",
    "    \n",
    "    # 2 - determine common denominator\n",
    "    den_prod = common_den(frac_lst)\n",
    "    \n",
    "    # 3 - build new fractions\n",
    "    return build_frac_lst(frac_lst, den_prod)\n",
    "end\n",
    "\n",
    "function _simplify(frac_lst::T)::T\n",
    "    [(num ÷ _gcd(num, den), den ÷ _gcd(num, den)) for (num, den) in frac_lst]\n",
    "end\n",
    "\n",
    "function common_den(frac_lst::T)::Int\n",
    "    den_ary = [den for (_, den) in frac_lst]\n",
    "    \n",
    "    den_prod = _lcm(den_ary[1], den_ary[2])\n",
    "    if size(frac_lst, 1) > 2\n",
    "        for ix in 3:size(frac_lst, 1)\n",
    "            den_prod = _lcm(den_prod, den_ary[ix])\n",
    "        end\n",
    "    end\n",
    "    return den_prod\n",
    "end\n",
    "\n",
    "function build_frac_lst(frac_lst::T, den_prod::Int)::T\n",
    "    [(num * (den_prod/den), den_prod) for (num, den) in frac_lst]\n",
    "end"
   ]
  },
  {
   "cell_type": "code",
   "execution_count": 39,
   "metadata": {},
   "outputs": [
    {
     "data": {
      "text/plain": [
       "_gcd (generic function with 1 method)"
      ]
     },
     "execution_count": 39,
     "metadata": {},
     "output_type": "execute_result"
    }
   ],
   "source": [
    "function _gcd(a::T, b::T)::T where T <: Integer\n",
    "    \"\"\"\n",
    "    greatest common divisor\n",
    "    ex. \n",
    "    a=24, b=36 => 12\n",
    "    a=2, b=8 => 2\n",
    "    a=3, b=2 => 1\n",
    "    a=9, b=6 => 3\n",
    "    \"\"\"\n",
    "    a, b =  a > b ? (a, b) : (b, a)\n",
    "    \n",
    "    while true\n",
    "        r = a % b\n",
    "        if r == 1\n",
    "            return r\n",
    "        elseif r == 0\n",
    "           return b\n",
    "        else\n",
    "            a = b\n",
    "            b = r\n",
    "        end\n",
    "    end\n",
    "end"
   ]
  },
  {
   "cell_type": "code",
   "execution_count": 40,
   "metadata": {},
   "outputs": [
    {
     "data": {
      "text/plain": [
       "\u001b[32m\u001b[1mTest Passed\u001b[22m\u001b[39m"
      ]
     },
     "execution_count": 40,
     "metadata": {},
     "output_type": "execute_result"
    }
   ],
   "source": [
    "@test _gcd(3, 4) == 1\n",
    "@test _gcd(4, 3) == 1\n",
    "\n",
    "@test _gcd(24, 36) == 12\n",
    "\n",
    "@test _gcd(8, 2) == 2\n",
    "@test _gcd(3, 2) == 1\n",
    "\n",
    "@test _gcd(9, 6) == 3"
   ]
  },
  {
   "cell_type": "code",
   "execution_count": 41,
   "metadata": {},
   "outputs": [
    {
     "data": {
      "text/plain": [
       "_lcm (generic function with 1 method)"
      ]
     },
     "execution_count": 41,
     "metadata": {},
     "output_type": "execute_result"
    }
   ],
   "source": [
    "function _lcm(a::Int64, b::Int64)::Int64\n",
    "    \"\"\"\n",
    "    lowest common multiple\n",
    "    ex. \n",
    "    a=4, b=3 => 12\n",
    "    a=2, b=8 => 8\n",
    "    a=9 (3*3), b=6 (2*3) => 18\n",
    "    \"\"\"\n",
    "    return (a * b) ÷ _gcd(a, b)\n",
    "end"
   ]
  },
  {
   "cell_type": "code",
   "execution_count": 42,
   "metadata": {},
   "outputs": [
    {
     "data": {
      "text/plain": [
       "\u001b[32m\u001b[1mTest Passed\u001b[22m\u001b[39m"
      ]
     },
     "execution_count": 42,
     "metadata": {},
     "output_type": "execute_result"
    }
   ],
   "source": [
    "@test _lcm(3, 4) == 12\n",
    "@test _lcm(4, 3) == 12\n",
    "\n",
    "@test _lcm(1, 6) == 6\n",
    "@test _lcm(6, 1) == 6\n",
    "\n",
    "@test _lcm(6, 3) == 6\n",
    "\n",
    "@test _lcm(3, 5) == 15\n",
    "@test _lcm(5, 3) == 15\n",
    "\n",
    "@test _lcm(2, 7) == 14\n",
    "@test _lcm(7, 2) == 14\n",
    "\n",
    "@test _lcm(2*3, 2*2) == 12"
   ]
  },
  {
   "cell_type": "code",
   "execution_count": 43,
   "metadata": {},
   "outputs": [
    {
     "data": {
      "text/plain": [
       "3-element Array{Tuple{Int64,Int64},1}:\n",
       " (6, 12)\n",
       " (4, 12)\n",
       " (3, 12)"
      ]
     },
     "execution_count": 43,
     "metadata": {},
     "output_type": "execute_result"
    }
   ],
   "source": [
    "a = [(1, 2), (1, 3), (1, 4)]\n",
    "\n",
    "convert_fracs(a)"
   ]
  },
  {
   "cell_type": "code",
   "execution_count": 44,
   "metadata": {},
   "outputs": [
    {
     "data": {
      "text/plain": [
       "3-element Array{Tuple{Int64,Int64},1}:\n",
       " (6, 12)\n",
       " (4, 12)\n",
       " (3, 12)"
      ]
     },
     "execution_count": 44,
     "metadata": {},
     "output_type": "execute_result"
    }
   ],
   "source": [
    "a = [(2, 4), (2, 6), (2, 8)]\n",
    "\n",
    "convert_fracs(a)"
   ]
  },
  {
   "cell_type": "code",
   "execution_count": 49,
   "metadata": {},
   "outputs": [
    {
     "data": {
      "text/plain": [
       "\u001b[32m\u001b[1mTest Passed\u001b[22m\u001b[39m"
      ]
     },
     "execution_count": 49,
     "metadata": {},
     "output_type": "execute_result"
    }
   ],
   "source": [
    "@test convert_fracs([(2, 4)]) == [(1, 2)]\n",
    "@test convert_fracs([(1, 2), (1, 3), (1, 4)]) == [(6, 12), (4, 12), (3, 12)]\n",
    "@test convert_fracs([(2, 4), (2, 6), (2, 8)]) == [(6, 12), (4, 12), (3, 12)]\n",
    "\n",
    "@test convert_fracs([(1, 2), (1, 3)]) == [(3, 6), (2, 6)]\n",
    "\n",
    "@test convert_fracs([(1, 3), (1, 2)]) == [(2, 6), (3, 6)]"
   ]
  },
  {
   "cell_type": "code",
   "execution_count": null,
   "metadata": {},
   "outputs": [],
   "source": []
  }
 ],
 "metadata": {
  "kernelspec": {
   "display_name": "Julia 1.2.0",
   "language": "julia",
   "name": "julia-1.2"
  },
  "language_info": {
   "file_extension": ".jl",
   "mimetype": "application/julia",
   "name": "julia",
   "version": "1.2.0"
  }
 },
 "nbformat": 4,
 "nbformat_minor": 2
}
