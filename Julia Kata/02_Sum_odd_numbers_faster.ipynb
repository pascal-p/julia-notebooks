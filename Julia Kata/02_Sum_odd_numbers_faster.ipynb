{
 "cells": [
  {
   "cell_type": "markdown",
   "metadata": {},
   "source": [
    "ref. https://www.codewars.com/kata/55fd2d567d94ac3bc9000064/train/julia (7kyu) - 2019-11-30"
   ]
  },
  {
   "cell_type": "markdown",
   "metadata": {},
   "source": [
    "Given the triangle of consecutive odd numbers:\n",
    "```sh\n",
    "                1\n",
    "             3      5\n",
    "           7     9     11\n",
    "        13    15    17    19\n",
    "     21    23    25    27     29\n",
    "  31    33    35    37    39      41 \n",
    "...\n",
    "```\n",
    "\n",
    "Calculate the row sums of this triangle from the row index (starting at index 1) e.g.:\n",
    "\n",
    "`row_sum_odd_numbers(1) # 1`  \n",
    "`row_sum_odd_numbers(2) # 3 + 5 = 8`\n",
    "\n",
    "\n",
    "Can we build this triangle?\n",
    "\n",
    "- n = 1, [1]  \n",
    "- n = 2, [3, 5]                [n+1, n+3] n is even  \n",
    "- n = 3, [7, 9, 11]            [n+4, n+6, n+8] n is odd  \n",
    "- n = 4, [13, 15, 17, 19]      [n+9, n+11, n+13, n+15] n is even  \n",
    "- n = 5, [21, 23, 25, 27, 29]  [n+16, n+18, n+20, n+22, n+24]  \n",
    "- n = 6, [31, 33, 35, 37, 39, 41]\n",
    "- n = 7, [43, 45, 47, 49, 51, 53 55] \n",
    "\n",
    "Notice upper limit is given by:  \n",
    "$$n^2 + n-1$$  \n",
    "\n",
    "which can be cheked on the follwoing (this is not a demonstration, but one can devise a recurrence)\n",
    "- $n = 1 \\Rightarrow n^2 + n-1 = 1^2 + 0 = 1$\n",
    "- $n = 2 \\Rightarrow n^2 + n-1 = 2^2 + 1 = 5$\n",
    "- $n = 3 \\Rightarrow n^2 + n-1 = 3^2 + 2 = 11$\n",
    "- $n = 4 \\Rightarrow n^2 + n-1 = 4^2 + 3 = 19$\n",
    "- $n = 5 \\Rightarrow n^2 + n-1 = 5^2 + 4 = 29$\n",
    "- $n = 6 \\Rightarrow n^2 + n-1 = 6^2 + 5 = 41$\n",
    "- $n = 7 \\Rightarrow n^2 + n-1 = 7^2 + 6 = 55$\n",
    "...\n",
    "\n",
    "Also notice that the lower bound is then given by formulae:  \n",
    "$$(n-1)^2 + n-2 + 2 \\equiv (n-1)^2 + n$$  \n",
    "- $n = 1 \\Rightarrow (n-1)^2 + n = 0 + 1 = 1$\n",
    "- $n = 2 \\Rightarrow (n-1)^2 + n = 1 + 2 = 3$\n",
    "- $n = 3 \\Rightarrow (n-1)^2 + n = 4 + 3 = 7$\n",
    "- $n = 4 \\Rightarrow (n-1)^2 + n = 9 + 4 = 13$\n",
    "- $n = 5 \\Rightarrow (n-1)^2 + n = 16 + 5 = 21$\n",
    "...\n"
   ]
  },
  {
   "cell_type": "code",
   "execution_count": 1,
   "metadata": {},
   "outputs": [],
   "source": [
    "using Test\n",
    "using BenchmarkTools"
   ]
  },
  {
   "cell_type": "code",
   "execution_count": 2,
   "metadata": {},
   "outputs": [
    {
     "data": {
      "text/plain": [
       "gen_odd_seq (generic function with 1 method)"
      ]
     },
     "execution_count": 2,
     "metadata": {},
     "output_type": "execute_result"
    }
   ],
   "source": [
    "function gen_odd_seq(n::T) where T <: Integer\n",
    "    \"\"\"\n",
    "    Calc. sequence of odd integer from (n-1)^2 + n..n^2 + (n-1) \n",
    "    \"\"\"\n",
    "    return [ix for ix in (n-1)^2+n:2:n^2+(n-1)]\n",
    "end\n",
    "\n",
    "# type stable"
   ]
  },
  {
   "cell_type": "code",
   "execution_count": 3,
   "metadata": {
    "scrolled": true
   },
   "outputs": [
    {
     "name": "stdout",
     "output_type": "stream",
     "text": [
      "Variables\n",
      "  #self#\u001b[36m::Core.Compiler.Const(gen_odd_seq, false)\u001b[39m\n",
      "  n\u001b[36m::Int64\u001b[39m\n",
      "  #3\u001b[36m::getfield(Main, Symbol(\"##3#4\"))\u001b[39m\n",
      "\n",
      "Body\u001b[36m::Array{Int64,1}\u001b[39m\n",
      "\u001b[90m1 ─\u001b[39m       (#3 = %new(Main.:(##3#4)))\n",
      "\u001b[90m│  \u001b[39m %2  = #3\u001b[36m::Core.Compiler.Const(getfield(Main, Symbol(\"##3#4\"))(), false)\u001b[39m\n",
      "\u001b[90m│  \u001b[39m %3  = (n - 1)\u001b[36m::Int64\u001b[39m\n",
      "\u001b[90m│  \u001b[39m %4  = Core.apply_type(Base.Val, 2)\u001b[36m::Core.Compiler.Const(Val{2}, false)\u001b[39m\n",
      "\u001b[90m│  \u001b[39m %5  = (%4)()\u001b[36m::Core.Compiler.Const(Val{2}(), false)\u001b[39m\n",
      "\u001b[90m│  \u001b[39m %6  = Base.literal_pow(Main.:^, %3, %5)\u001b[36m::Int64\u001b[39m\n",
      "\u001b[90m│  \u001b[39m %7  = (%6 + n)\u001b[36m::Int64\u001b[39m\n",
      "\u001b[90m│  \u001b[39m %8  = Core.apply_type(Base.Val, 2)\u001b[36m::Core.Compiler.Const(Val{2}, false)\u001b[39m\n",
      "\u001b[90m│  \u001b[39m %9  = (%8)()\u001b[36m::Core.Compiler.Const(Val{2}(), false)\u001b[39m\n",
      "\u001b[90m│  \u001b[39m %10 = Base.literal_pow(Main.:^, n, %9)\u001b[36m::Int64\u001b[39m\n",
      "\u001b[90m│  \u001b[39m %11 = (n - 1)\u001b[36m::Int64\u001b[39m\n",
      "\u001b[90m│  \u001b[39m %12 = (%10 + %11)\u001b[36m::Int64\u001b[39m\n",
      "\u001b[90m│  \u001b[39m %13 = (%7:2:%12)\u001b[36m::Core.Compiler.PartialStruct(StepRange{Int64,Int64}, Any[Int64, Core.Compiler.Const(2, false), Int64])\u001b[39m\n",
      "\u001b[90m│  \u001b[39m %14 = Base.Generator(%2, %13)\u001b[36m::Core.Compiler.PartialStruct(Base.Generator{StepRange{Int64,Int64},getfield(Main, Symbol(\"##3#4\"))}, Any[Core.Compiler.Const(getfield(Main, Symbol(\"##3#4\"))(), false), Core.Compiler.PartialStruct(StepRange{Int64,Int64}, Any[Int64, Core.Compiler.Const(2, false), Int64])])\u001b[39m\n",
      "\u001b[90m│  \u001b[39m %15 = Base.collect(%14)\u001b[36m::Array{Int64,1}\u001b[39m\n",
      "\u001b[90m└──\u001b[39m       return %15\n"
     ]
    }
   ],
   "source": [
    "@code_warntype gen_odd_seq(2)"
   ]
  },
  {
   "cell_type": "code",
   "execution_count": null,
   "metadata": {},
   "outputs": [],
   "source": [
    "a = gen_odd_seq(1)\n",
    "println(typeof(a))\n",
    "@test a == [1]"
   ]
  },
  {
   "cell_type": "code",
   "execution_count": null,
   "metadata": {},
   "outputs": [],
   "source": [
    "a = gen_odd_seq(2); println(a)\n",
    "@test a == [3, 5]"
   ]
  },
  {
   "cell_type": "code",
   "execution_count": null,
   "metadata": {},
   "outputs": [],
   "source": [
    "a = gen_odd_seq(3); println(a)\n",
    "@test a == [7, 9, 11]"
   ]
  },
  {
   "cell_type": "code",
   "execution_count": null,
   "metadata": {},
   "outputs": [],
   "source": [
    "a = gen_odd_seq(4); println(a)\n",
    "@test a == [13, 15, 17, 19]"
   ]
  },
  {
   "cell_type": "code",
   "execution_count": null,
   "metadata": {},
   "outputs": [],
   "source": [
    "a = gen_odd_seq(10); println(a)\n",
    "@test a == [91, 93, 95, 97, 99, 101, 103, 105, 107, 109]"
   ]
  },
  {
   "cell_type": "code",
   "execution_count": null,
   "metadata": {},
   "outputs": [],
   "source": [
    "println(Base.return_types(gen_odd_seq, (Int64,)))"
   ]
  },
  {
   "cell_type": "code",
   "execution_count": 4,
   "metadata": {},
   "outputs": [
    {
     "data": {
      "text/plain": [
       "row_sum_odd_numbers (generic function with 1 method)"
      ]
     },
     "execution_count": 4,
     "metadata": {},
     "output_type": "execute_result"
    }
   ],
   "source": [
    "function row_sum_odd_numbers(n::T) where T <: Integer \n",
    "  ary = gen_odd_seq(n)\n",
    "  return sum(ary)\n",
    "end"
   ]
  },
  {
   "cell_type": "code",
   "execution_count": 5,
   "metadata": {},
   "outputs": [
    {
     "name": "stdout",
     "output_type": "stream",
     "text": [
      "Variables\n",
      "  #self#\u001b[36m::Core.Compiler.Const(row_sum_odd_numbers, false)\u001b[39m\n",
      "  n\u001b[36m::Int64\u001b[39m\n",
      "  ary\u001b[36m::Array{Int64,1}\u001b[39m\n",
      "\n",
      "Body\u001b[36m::Int64\u001b[39m\n",
      "\u001b[90m1 ─\u001b[39m      (ary = Main.gen_odd_seq(n))\n",
      "\u001b[90m│  \u001b[39m %2 = Main.sum(ary)\u001b[36m::Int64\u001b[39m\n",
      "\u001b[90m└──\u001b[39m      return %2\n"
     ]
    }
   ],
   "source": [
    "@code_warntype row_sum_odd_numbers(5)"
   ]
  },
  {
   "cell_type": "code",
   "execution_count": null,
   "metadata": {},
   "outputs": [],
   "source": [
    "using Printf\n",
    "\n",
    "for ix in 1:10\n",
    "    res = @time row_sum_odd_numbers(ix)\n",
    "    @printf(\"\\t%d ==> %d\\n\", ix, res)\n",
    "end"
   ]
  },
  {
   "cell_type": "code",
   "execution_count": null,
   "metadata": {},
   "outputs": [],
   "source": [
    "@test row_sum_odd_numbers(1) == 1\n",
    "@test row_sum_odd_numbers(2) == 8"
   ]
  },
  {
   "cell_type": "code",
   "execution_count": null,
   "metadata": {},
   "outputs": [],
   "source": [
    "@test row_sum_odd_numbers(42) == 74088"
   ]
  },
  {
   "cell_type": "markdown",
   "metadata": {},
   "source": [
    "### Performance"
   ]
  },
  {
   "cell_type": "code",
   "execution_count": 6,
   "metadata": {},
   "outputs": [
    {
     "name": "stdout",
     "output_type": "stream",
     "text": [
      "  31.974 ms (17952 allocations: 382.62 MiB)\n"
     ]
    }
   ],
   "source": [
    "@btime for i in 1:10_000\n",
    "    row_sum_odd_numbers(i)\n",
    "end\n",
    "\n",
    "# Note: a lot of allocations!"
   ]
  },
  {
   "cell_type": "code",
   "execution_count": 7,
   "metadata": {},
   "outputs": [
    {
     "data": {
      "text/plain": [
       "row_sum_odd_numbers_less_space (generic function with 1 method)"
      ]
     },
     "execution_count": 7,
     "metadata": {},
     "output_type": "execute_result"
    }
   ],
   "source": [
    "function row_sum_odd_numbers_less_space(n::T) where T <: Integer \n",
    "  s = zero(eltype(n))\n",
    "  for ix in (n-1)^2+n:2:n^2+(n-1)\n",
    "      s += ix\n",
    "  end\n",
    "  return s    \n",
    "end"
   ]
  },
  {
   "cell_type": "code",
   "execution_count": null,
   "metadata": {},
   "outputs": [],
   "source": [
    "for i in 1:10\n",
    "    @test row_sum_odd_numbers(i) == row_sum_odd_numbers_less_space(i)\n",
    "end"
   ]
  },
  {
   "cell_type": "code",
   "execution_count": 8,
   "metadata": {},
   "outputs": [
    {
     "name": "stdout",
     "output_type": "stream",
     "text": [
      "  12.995 ms (38972 allocations: 765.20 KiB)\n"
     ]
    }
   ],
   "source": [
    "m = 10_000\n",
    "@btime for i in 1:m\n",
    "    row_sum_odd_numbers_less_space(i)\n",
    "end"
   ]
  },
  {
   "cell_type": "code",
   "execution_count": 9,
   "metadata": {},
   "outputs": [
    {
     "data": {
      "text/plain": [
       "allocate_n_gen_odd_seq (generic function with 1 method)"
      ]
     },
     "execution_count": 9,
     "metadata": {},
     "output_type": "execute_result"
    }
   ],
   "source": [
    "function allocate_n_gen_odd_seq(m::T) where T <: Integer\n",
    "    ary = Array{T}(undef, m)\n",
    "    \n",
    "    b_fun = function (n::T) where T <: Integer\n",
    "        ix = 1\n",
    "        for v in (n-1)^2+n:2:n^2+(n-1)\n",
    "            ary[ix] = v\n",
    "            ix += 1\n",
    "        end \n",
    "    end\n",
    "    \n",
    "    s_fun = function (n::T) where T <: Integer\n",
    "      s = zero(eltype(n))\n",
    "      for ix in 1:n\n",
    "          s += ary[ix]\n",
    "      end\n",
    "      return s    \n",
    "    end\n",
    "    \n",
    "    fun = function (n::T) where T <: Integer \n",
    "      b_fun(n)\n",
    "      return s_fun(n)\n",
    "    end\n",
    "    \n",
    "    return fun \n",
    "end"
   ]
  },
  {
   "cell_type": "code",
   "execution_count": null,
   "metadata": {},
   "outputs": [],
   "source": [
    "m = 1_00\n",
    "my_row_sum_odd_numbers_fast = allocate_n_gen_odd_seq(m)"
   ]
  },
  {
   "cell_type": "code",
   "execution_count": null,
   "metadata": {},
   "outputs": [],
   "source": [
    "for i in 1:10\n",
    "    @test row_sum_odd_numbers(i) == my_row_sum_odd_numbers_fast(i)\n",
    "end"
   ]
  },
  {
   "cell_type": "code",
   "execution_count": 10,
   "metadata": {},
   "outputs": [
    {
     "data": {
      "text/plain": [
       "#9 (generic function with 1 method)"
      ]
     },
     "execution_count": 10,
     "metadata": {},
     "output_type": "execute_result"
    }
   ],
   "source": [
    "m = 10_000 # pre-allocate\n",
    "\n",
    "my_row_sum_odd_numbers_fast = allocate_n_gen_odd_seq(m)"
   ]
  },
  {
   "cell_type": "code",
   "execution_count": 11,
   "metadata": {},
   "outputs": [
    {
     "name": "stdout",
     "output_type": "stream",
     "text": [
      "  43.932 ms (38972 allocations: 765.20 KiB)\n"
     ]
    }
   ],
   "source": [
    "@btime for i in 1:m\n",
    "    my_row_sum_odd_numbers_fast(i)\n",
    "end"
   ]
  }
 ],
 "metadata": {
  "kernelspec": {
   "display_name": "Julia 1.2.0",
   "language": "julia",
   "name": "julia-1.2"
  },
  "language_info": {
   "file_extension": ".jl",
   "mimetype": "application/julia",
   "name": "julia",
   "version": "1.2.0"
  }
 },
 "nbformat": 4,
 "nbformat_minor": 2
}
