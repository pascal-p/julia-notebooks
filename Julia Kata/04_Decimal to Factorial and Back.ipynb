{
 "cells": [
  {
   "cell_type": "markdown",
   "metadata": {},
   "source": [
    "ref. https://www.codewars.com/kata/54e320dcebe1e583250008fd (5 kyu) - 2019-12-04"
   ]
  },
  {
   "cell_type": "markdown",
   "metadata": {},
   "source": [
    "Coding decimal numbers with factorials is a way of writing out numbers in a base system that depends on factorials, rather than powers of numbers.\n",
    "\n",
    "In this system, the last digit is always 0 and is in base 0!.\n",
    "The digit before that is either 0 or 1 and is in base 1!. The digit before that is either 0, 1, or 2 and is in base 2!.\n",
    "\n",
    "More generally, the nth-to-last digit is always 0, 1, 2, ..., or n and is in base n!.\n",
    "Example :\n",
    "\n",
    "decimal number 463 is coded as \"341010\":\n",
    "* $463 (base 10) = 3×5! + 4×4! + 1×3! + 0×2! + 1×1! + 0×0!$\n",
    "\n",
    "If we are limited to digits 0...9 the biggest number we can code is $10! - 1$.\n",
    "\n",
    "So we extend 0..9 with letters A to Z. With these 36 digits we can code up to:\n",
    "* $36! − 1 = 37199332678990121746799944815083519999999910\\space(base 10)$\n",
    "\n",
    "We will code two functions:   \n",
    "1. The first one will code a decimal number and return a string with the factorial representation : `dec2fact_str(nb)`\n",
    "2. The second one will decode a string with a factorial representation and produce the decimal representation : `fact_str2dec(str)`.\n",
    "\n",
    "Given numbers will be positive.  \n",
    "Note:  \n",
    "You have tests with Big Integers in Clojure, Julia, Python, Ruby, Haskell, Ocaml, Racket but not with Java and others where the number \"nb\" in \"`dec2fact_str(nb)`\" is at most a long.\n",
    "\n",
    "Ref: http://en.wikipedia.org/wiki/Factorial_number_system"
   ]
  },
  {
   "cell_type": "code",
   "execution_count": 1,
   "metadata": {},
   "outputs": [
    {
     "data": {
      "text/plain": [
       "3628799"
      ]
     },
     "execution_count": 1,
     "metadata": {},
     "output_type": "execute_result"
    }
   ],
   "source": [
    "Base.factorial(10) - 1"
   ]
  },
  {
   "cell_type": "code",
   "execution_count": 2,
   "metadata": {},
   "outputs": [
    {
     "data": {
      "text/plain": [
       "3628799"
      ]
     },
     "execution_count": 2,
     "metadata": {},
     "output_type": "execute_result"
    }
   ],
   "source": [
    "f = 0\n",
    "for i in 1:9\n",
    "    f += i * Base.factorial(i)\n",
    "end\n",
    "f\n",
    "\n",
    "# 9 . 9! + 8 . 8! + ... + 1 . 1! + 0 . 0!"
   ]
  },
  {
   "cell_type": "code",
   "execution_count": 3,
   "metadata": {},
   "outputs": [],
   "source": [
    "using Test\n",
    "# using BenchmarkTools"
   ]
  },
  {
   "cell_type": "code",
   "execution_count": 18,
   "metadata": {},
   "outputs": [
    {
     "data": {
      "text/plain": [
       "fact_ge_21 (generic function with 1 method)"
      ]
     },
     "execution_count": 18,
     "metadata": {},
     "output_type": "execute_result"
    }
   ],
   "source": [
    "IntorBigInt = Union{Int64, BigInt}\n",
    "\n",
    "function myfact(n::T) where T <: IntorBigInt\n",
    "    if n == 0::T || n == 1::T\n",
    "        return 1::T\n",
    "\n",
    "    elseif n < 21::T\n",
    "        return fact_lt_21(n)\n",
    "        \n",
    "    else # use BigInt\n",
    "        f = fact_lt_21(20)\n",
    "        return fact_ge_21(BigInt(n), BigInt(f))\n",
    "    end\n",
    "end\n",
    "\n",
    "function fact_lt_21(n::T) where T <: Integer\n",
    "    f = 1\n",
    "    for i in 2:n\n",
    "        f *= i\n",
    "    end\n",
    "    return f\n",
    "end\n",
    "\n",
    "function fact_ge_21(n::T, f::T) where T <: BigInt\n",
    "    for i in 21:n\n",
    "        f *= BigInt(i)\n",
    "    end\n",
    "    return f\n",
    "end\n"
   ]
  },
  {
   "cell_type": "code",
   "execution_count": 19,
   "metadata": {
    "scrolled": true
   },
   "outputs": [
    {
     "name": "stdout",
     "output_type": "stream",
     "text": [
      "Variables\n",
      "  #self#\u001b[36m::Core.Compiler.Const(myfact, false)\u001b[39m\n",
      "  n\u001b[36m::Int64\u001b[39m\n",
      "  f\u001b[36m::Int64\u001b[39m\n",
      "  @_4\u001b[36m::Bool\u001b[39m\n",
      "\n",
      "Body\u001b[91m\u001b[1m::Union{Int64, BigInt}\u001b[22m\u001b[39m\n",
      "\u001b[90m1 ─\u001b[39m       Core.NewvarNode(:(f))\n",
      "\u001b[90m│  \u001b[39m %2  = Core.typeassert(0, $(Expr(:static_parameter, 1)))\u001b[36m::Core.Compiler.Const(0, false)\u001b[39m\n",
      "\u001b[90m│  \u001b[39m %3  = (n == %2)\u001b[36m::Bool\u001b[39m\n",
      "\u001b[90m└──\u001b[39m       goto #3 if not %3\n",
      "\u001b[90m2 ─\u001b[39m       (@_4 = %3)\n",
      "\u001b[90m└──\u001b[39m       goto #4\n",
      "\u001b[90m3 ─\u001b[39m %7  = Core.typeassert(1, $(Expr(:static_parameter, 1)))\u001b[36m::Core.Compiler.Const(1, false)\u001b[39m\n",
      "\u001b[90m└──\u001b[39m       (@_4 = n == %7)\n",
      "\u001b[90m4 ┄\u001b[39m       goto #6 if not @_4\n",
      "\u001b[90m5 ─\u001b[39m %10 = Core.typeassert(1, $(Expr(:static_parameter, 1)))\u001b[36m::Core.Compiler.Const(1, false)\u001b[39m\n",
      "\u001b[90m└──\u001b[39m       return %10\n",
      "\u001b[90m6 ─\u001b[39m %12 = Core.typeassert(21, $(Expr(:static_parameter, 1)))\u001b[36m::Core.Compiler.Const(21, false)\u001b[39m\n",
      "\u001b[90m│  \u001b[39m %13 = (n < %12)\u001b[36m::Bool\u001b[39m\n",
      "\u001b[90m└──\u001b[39m       goto #8 if not %13\n",
      "\u001b[90m7 ─\u001b[39m %15 = Main.fact_lt_21(n)\u001b[36m::Int64\u001b[39m\n",
      "\u001b[90m└──\u001b[39m       return %15\n",
      "\u001b[90m8 ─\u001b[39m       (f = Main.fact_lt_21(20))\n",
      "\u001b[90m│  \u001b[39m %18 = Main.BigInt(n)\u001b[36m::BigInt\u001b[39m\n",
      "\u001b[90m│  \u001b[39m %19 = Main.BigInt(f)\u001b[36m::BigInt\u001b[39m\n",
      "\u001b[90m│  \u001b[39m %20 = Main.fact_ge_21(%18, %19)\u001b[36m::BigInt\u001b[39m\n",
      "\u001b[90m└──\u001b[39m       return %20\n"
     ]
    }
   ],
   "source": [
    "@code_warntype myfact(5)"
   ]
  },
  {
   "cell_type": "code",
   "execution_count": 20,
   "metadata": {},
   "outputs": [
    {
     "data": {
      "text/plain": [
       "\u001b[32m\u001b[1mTest Passed\u001b[22m\u001b[39m"
      ]
     },
     "execution_count": 20,
     "metadata": {},
     "output_type": "execute_result"
    }
   ],
   "source": [
    "@test myfact(0) == 1\n",
    "@test myfact(1) == 1\n",
    "@test myfact(5) == 120\n",
    "@test myfact(6) == 720\n",
    "\n",
    "@test myfact(10) == 3_628_800\n",
    "@test myfact(20) == Base.factorial(big(20))\n",
    "@test myfact(21) == Base.factorial(big(21))\n",
    "@test myfact(22) == Base.factorial(big(22))\n",
    "\n",
    "@test myfact(25) == Base.factorial(big(25)) # 7_034_535_277_573_963_776\n",
    "\n",
    "@test myfact(36) == Base.factorial(big(36))\n",
    "\n",
    "@test myfact(38) == Base.factorial(big(38))\n",
    "\n",
    "@test myfact(50) == Base.factorial(big(50))"
   ]
  },
  {
   "cell_type": "code",
   "execution_count": 21,
   "metadata": {},
   "outputs": [
    {
     "data": {
      "text/plain": [
       "30414093201713378043612608166064768844377641568960512000000000000"
      ]
     },
     "execution_count": 21,
     "metadata": {},
     "output_type": "execute_result"
    }
   ],
   "source": [
    "myfact(50)"
   ]
  },
  {
   "cell_type": "code",
   "execution_count": 22,
   "metadata": {},
   "outputs": [
    {
     "data": {
      "text/plain": [
       "dec2fact_str (generic function with 1 method)"
      ]
     },
     "execution_count": 22,
     "metadata": {},
     "output_type": "execute_result"
    }
   ],
   "source": [
    "#        1    2    3    4    5    6    7    8    9    10   11\n",
    "BASE = [\"0\", \"1\", \"2\", \"3\", \"4\", \"5\", \"6\", \"7\", \"8\", \"9\", \"A\", \"B\", \"C\", \"D\", \"E\", \"F\", \"G\", \"H\", \"I\",\n",
    "\"J\", \"K\", \"L\", \"M\", \"N\", \"O\", \"P\", \"Q\", \"R\", \"S\", \"T\", \"U\", \"V\", \"W\", \"X\", \"Y\", \"Z\"]\n",
    "\n",
    "function dec2fact_str(n::T) where T <: IntorBigInt\n",
    "    div = one(eltype(n))\n",
    "    s = \"\"\n",
    "    t = eltype(n)\n",
    "    while true\n",
    "        q, r = n ÷ div, n % div\n",
    "        s = \"$(BASE[r+1])$(s)\"\n",
    "        n = q\n",
    "        div += 1\n",
    "        n == zero(t) && (return s)     \n",
    "    end\n",
    "    # throw exception?\n",
    "end"
   ]
  },
  {
   "cell_type": "code",
   "execution_count": 23,
   "metadata": {},
   "outputs": [
    {
     "data": {
      "text/plain": [
       "\"341010\""
      ]
     },
     "execution_count": 23,
     "metadata": {},
     "output_type": "execute_result"
    }
   ],
   "source": [
    "dec2fact_str(463)"
   ]
  },
  {
   "cell_type": "code",
   "execution_count": 24,
   "metadata": {},
   "outputs": [
    {
     "data": {
      "text/plain": [
       "\"10500000\""
      ]
     },
     "execution_count": 24,
     "metadata": {},
     "output_type": "execute_result"
    }
   ],
   "source": [
    "dec2fact_str(5640)"
   ]
  },
  {
   "cell_type": "code",
   "execution_count": 25,
   "metadata": {},
   "outputs": [
    {
     "data": {
      "text/plain": [
       "\"A000000000000\""
      ]
     },
     "execution_count": 25,
     "metadata": {},
     "output_type": "execute_result"
    }
   ],
   "source": [
    "dec2fact_str(4790016000)"
   ]
  },
  {
   "cell_type": "code",
   "execution_count": 26,
   "metadata": {},
   "outputs": [
    {
     "data": {
      "text/plain": [
       "\"4D505603120203100\""
      ]
     },
     "execution_count": 26,
     "metadata": {},
     "output_type": "execute_result"
    }
   ],
   "source": [
    "dec2fact_str(101129453440100)"
   ]
  },
  {
   "cell_type": "code",
   "execution_count": 27,
   "metadata": {},
   "outputs": [],
   "source": [
    "# dec2fact_str(37199332678990121746799944815083519999999910)"
   ]
  },
  {
   "cell_type": "code",
   "execution_count": 28,
   "metadata": {
    "scrolled": true
   },
   "outputs": [
    {
     "data": {
      "text/plain": [
       "10"
      ]
     },
     "execution_count": 28,
     "metadata": {},
     "output_type": "execute_result"
    }
   ],
   "source": [
    "REV_BASE = Dict(zip(BASE, [i for i in 0:36])) \n",
    "REV_BASE[\"A\"]"
   ]
  },
  {
   "cell_type": "code",
   "execution_count": 29,
   "metadata": {},
   "outputs": [
    {
     "data": {
      "text/plain": [
       "fact_str2dec (generic function with 1 method)"
      ]
     },
     "execution_count": 29,
     "metadata": {},
     "output_type": "execute_result"
    }
   ],
   "source": [
    "function fact_str2dec(s::String)::IntorBigInt\n",
    "    n = length(s) - 1\n",
    "    ary = split(s, \"\")\n",
    "    f = BigInt(REV_BASE[ary[1]] * n)\n",
    "    for d in ary[2:end]\n",
    "        n -= 1\n",
    "        if n > 0\n",
    "            f = (f + REV_BASE[d]) * n\n",
    "        else\n",
    "            f += REV_BASE[d]\n",
    "        end\n",
    "    end\n",
    "    return f\n",
    "end"
   ]
  },
  {
   "cell_type": "code",
   "execution_count": 30,
   "metadata": {},
   "outputs": [
    {
     "data": {
      "text/plain": [
       "463"
      ]
     },
     "execution_count": 30,
     "metadata": {},
     "output_type": "execute_result"
    }
   ],
   "source": [
    "fact_str2dec(\"341010\")"
   ]
  },
  {
   "cell_type": "code",
   "execution_count": 31,
   "metadata": {},
   "outputs": [
    {
     "data": {
      "text/plain": [
       "4790016000"
      ]
     },
     "execution_count": 31,
     "metadata": {},
     "output_type": "execute_result"
    }
   ],
   "source": [
    "fact_str2dec(\"A000000000000\")"
   ]
  },
  {
   "cell_type": "code",
   "execution_count": 32,
   "metadata": {},
   "outputs": [
    {
     "data": {
      "text/plain": [
       "101129453440100"
      ]
     },
     "execution_count": 32,
     "metadata": {},
     "output_type": "execute_result"
    }
   ],
   "source": [
    "fact_str2dec(\"4D505603120203100\")"
   ]
  },
  {
   "cell_type": "code",
   "execution_count": 33,
   "metadata": {},
   "outputs": [
    {
     "data": {
      "text/plain": [
       "\"10500000\""
      ]
     },
     "execution_count": 33,
     "metadata": {},
     "output_type": "execute_result"
    }
   ],
   "source": [
    "dec2fact_str(5640)"
   ]
  },
  {
   "cell_type": "code",
   "execution_count": 34,
   "metadata": {},
   "outputs": [
    {
     "data": {
      "text/plain": [
       "\u001b[32m\u001b[1mTest Passed\u001b[22m\u001b[39m"
      ]
     },
     "execution_count": 34,
     "metadata": {},
     "output_type": "execute_result"
    }
   ],
   "source": [
    "@test fact_str2dec(dec2fact_str(463)) == 463\n",
    "@test fact_str2dec(dec2fact_str(4790016000)) == 4790016000\n",
    "@test fact_str2dec(dec2fact_str(5640)) == 5640\n",
    "@test fact_str2dec(dec2fact_str(101129453440100)) == 101129453440100"
   ]
  },
  {
   "cell_type": "code",
   "execution_count": 35,
   "metadata": {},
   "outputs": [
    {
     "data": {
      "text/plain": [
       "\u001b[32m\u001b[1mTest Passed\u001b[22m\u001b[39m"
      ]
     },
     "execution_count": 35,
     "metadata": {},
     "output_type": "execute_result"
    }
   ],
   "source": [
    "@test dec2fact_str(fact_str2dec(\"341010\")) == \"341010\"\n",
    "@test dec2fact_str(fact_str2dec(\"A000000000000\")) == \"A000000000000\"\n",
    "@test dec2fact_str(fact_str2dec(\"4D505603120203100\")) == \"4D505603120203100\"\n",
    "@test dec2fact_str(fact_str2dec(\"10500000\")) == \"10500000\"\n"
   ]
  },
  {
   "cell_type": "code",
   "execution_count": null,
   "metadata": {},
   "outputs": [],
   "source": []
  }
 ],
 "metadata": {
  "kernelspec": {
   "display_name": "Julia 1.2.0",
   "language": "julia",
   "name": "julia-1.2"
  },
  "language_info": {
   "file_extension": ".jl",
   "mimetype": "application/julia",
   "name": "julia",
   "version": "1.2.0"
  }
 },
 "nbformat": 4,
 "nbformat_minor": 2
}
