{
 "cells": [
  {
   "cell_type": "markdown",
   "metadata": {},
   "source": [
    "ref. https://www.codewars.com/kata/55fd2d567d94ac3bc9000064/train/julia\n",
    "\n",
    "Given the triangle of consecutive odd numbers:\n",
    "```sh\n",
    "                1\n",
    "             3      5\n",
    "           7     9     11\n",
    "        13    15    17    19\n",
    "     21    23    25    27     29\n",
    "  31    33    35    37    39      41 \n",
    "...\n",
    "```\n",
    "\n",
    "Calculate the row sums of this triangle from the row index (starting at index 1) e.g.:\n",
    "\n",
    "`rowsumoddnumbers(1) # 1`  \n",
    "`rowsumoddnumbers(2) # 3 + 5 = 8`"
   ]
  },
  {
   "cell_type": "code",
   "execution_count": null,
   "metadata": {},
   "outputs": [],
   "source": [
    "# Can we build this triangle?\n",
    "\n",
    "# n = 1, [1]\n",
    "# n = 2, [3, 5]                [n+1, n+3] n is even\n",
    "# n = 3, [7, 9, 11]            [n+4, n+6, n+8] n is odd\n",
    "# n = 4, [13, 15, 17, 19]      [n+9, n+11, n+13, n+15] n is even \n",
    "# n = 5, [21, 23, 25, 27, 29]  [n+16, n+18, n+20, n+22, n+24]\n",
    "\n",
    "\n",
    "# 1      2        3             4                 5                         6 \n",
    "# 1, | 3, 5, | 7, 9, 11 | 13, 15, 17, 19 | 21, 23, 25, 27, 29 | 31, 33, 35, 37, 39, 41\n",
    "\n",
    "# 1, 2 | 3, 4, 5 | 6, 7, 8, 9, 10, 11 | 12, 13, 14, 15, 16, 17, 18, 19 | "
   ]
  },
  {
   "cell_type": "code",
   "execution_count": 1,
   "metadata": {},
   "outputs": [],
   "source": [
    "using Test\n",
    "using BenchmarkTools"
   ]
  },
  {
   "cell_type": "code",
   "execution_count": 2,
   "metadata": {},
   "outputs": [
    {
     "data": {
      "text/plain": [
       "gen_odd_seq (generic function with 1 method)"
      ]
     },
     "execution_count": 2,
     "metadata": {},
     "output_type": "execute_result"
    }
   ],
   "source": [
    "function gen_odd_seq(start::Int64, n::Int64)\n",
    "    \"\"\"\n",
    "    Calc. n-length sequence of successive odd number starting at start\n",
    "    \"\"\"\n",
    "    iseven(start) && (start += 1)\n",
    "    return n == 1 ? [1] : [start + 2 * j  for j in 1:n]\n",
    "end"
   ]
  },
  {
   "cell_type": "code",
   "execution_count": 3,
   "metadata": {
    "scrolled": true
   },
   "outputs": [
    {
     "name": "stdout",
     "output_type": "stream",
     "text": [
      "Variables\n",
      "  #self#\u001b[36m::Core.Compiler.Const(gen_odd_seq, false)\u001b[39m\n",
      "  start@_2\u001b[36m::Int64\u001b[39m\n",
      "  n\u001b[36m::Int64\u001b[39m\n",
      "  #3\u001b[36m::getfield(Main, Symbol(\"##3#4\"))\u001b[39m\n",
      "  start@_5\u001b[36m::Union{}\u001b[39m\n",
      "  start@_6\u001b[36m::Union{}\u001b[39m\n",
      "  start@_7\u001b[91m\u001b[1m::Union{Int64, Core.Box}\u001b[22m\u001b[39m\n",
      "\n",
      "Body\u001b[91m\u001b[1m::Array{_A,1} where _A\u001b[22m\u001b[39m\n",
      "\u001b[90m1 ──\u001b[39m       (start@_7 = start@_2)\n",
      "\u001b[90m│   \u001b[39m       (start@_7 = Core.Box(start@_7::Int64))\n",
      "\u001b[90m│   \u001b[39m       Core.NewvarNode(:(#3))\n",
      "\u001b[90m│   \u001b[39m %4  = Core.isdefined(start@_7::Core.Box, :contents)\u001b[36m::Bool\u001b[39m\n",
      "\u001b[90m└───\u001b[39m       goto #3 if not %4\n",
      "\u001b[90m2 ──\u001b[39m       goto #4\n",
      "\u001b[90m3 ──\u001b[39m       Core.NewvarNode(:(start@_5))\n",
      "\u001b[90m└───\u001b[39m       start@_5\n",
      "\u001b[90m4 ┄─\u001b[39m %9  = Core.getfield(start@_7::Core.Box, :contents)\u001b[91m\u001b[1m::Any\u001b[22m\u001b[39m\n",
      "\u001b[90m│   \u001b[39m %10 = Main.iseven(%9)\u001b[33m\u001b[1m::Union{Missing, Bool, getfield(Base, Symbol(\"##60#61\")){_A} where _A}\u001b[22m\u001b[39m\n",
      "\u001b[90m└───\u001b[39m       goto #9 if not %10\n",
      "\u001b[90m5 ──\u001b[39m %12 = Core.isdefined(start@_7::Core.Box, :contents)\u001b[36m::Bool\u001b[39m\n",
      "\u001b[90m└───\u001b[39m       goto #7 if not %12\n",
      "\u001b[90m6 ──\u001b[39m       goto #8\n",
      "\u001b[90m7 ──\u001b[39m       Core.NewvarNode(:(start@_6))\n",
      "\u001b[90m└───\u001b[39m       start@_6\n",
      "\u001b[90m8 ┄─\u001b[39m %17 = Core.getfield(start@_7::Core.Box, :contents)\u001b[91m\u001b[1m::Any\u001b[22m\u001b[39m\n",
      "\u001b[90m│   \u001b[39m %18 = (%17 + 1)\u001b[91m\u001b[1m::Any\u001b[22m\u001b[39m\n",
      "\u001b[90m│   \u001b[39m       Core.setfield!(start@_7::Core.Box, :contents, %18)\n",
      "\u001b[90m└───\u001b[39m       goto #10\n",
      "\u001b[90m9 ──\u001b[39m       false\n",
      "\u001b[90m10 ┄\u001b[39m %22 = (n == 1)\u001b[36m::Bool\u001b[39m\n",
      "\u001b[90m└───\u001b[39m       goto #12 if not %22\n",
      "\u001b[90m11 ─\u001b[39m %24 = Base.vect(1)\u001b[36m::Array{Int64,1}\u001b[39m\n",
      "\u001b[90m└───\u001b[39m       return %24\n",
      "\u001b[90m12 ─\u001b[39m       (#3 = %new(Main.:(##3#4), start@_7::Core.Box))\n",
      "\u001b[90m│   \u001b[39m %27 = #3\u001b[36m::getfield(Main, Symbol(\"##3#4\"))\u001b[39m\n",
      "\u001b[90m│   \u001b[39m %28 = (1:n)\u001b[36m::Core.Compiler.PartialStruct(UnitRange{Int64}, Any[Core.Compiler.Const(1, false), Int64])\u001b[39m\n",
      "\u001b[90m│   \u001b[39m %29 = Base.Generator(%27, %28)\u001b[36m::Core.Compiler.PartialStruct(Base.Generator{UnitRange{Int64},getfield(Main, Symbol(\"##3#4\"))}, Any[getfield(Main, Symbol(\"##3#4\")), Core.Compiler.PartialStruct(UnitRange{Int64}, Any[Core.Compiler.Const(1, false), Int64])])\u001b[39m\n",
      "\u001b[90m│   \u001b[39m %30 = Base.collect(%29)\u001b[91m\u001b[1m::Array{_A,1} where _A\u001b[22m\u001b[39m\n",
      "\u001b[90m└───\u001b[39m       return %30\n"
     ]
    }
   ],
   "source": [
    "@code_warntype gen_odd_seq(1, 1)"
   ]
  },
  {
   "cell_type": "code",
   "execution_count": 4,
   "metadata": {},
   "outputs": [
    {
     "name": "stdout",
     "output_type": "stream",
     "text": [
      "Array{Int64,1}\n"
     ]
    },
    {
     "data": {
      "text/plain": [
       "\u001b[32m\u001b[1mTest Passed\u001b[22m\u001b[39m"
      ]
     },
     "execution_count": 4,
     "metadata": {},
     "output_type": "execute_result"
    }
   ],
   "source": [
    "a = gen_odd_seq(1, 1)\n",
    "println(typeof(a))\n",
    "@test a == [1]"
   ]
  },
  {
   "cell_type": "code",
   "execution_count": 5,
   "metadata": {},
   "outputs": [
    {
     "name": "stdout",
     "output_type": "stream",
     "text": [
      "[3, 5]\n"
     ]
    },
    {
     "data": {
      "text/plain": [
       "\u001b[32m\u001b[1mTest Passed\u001b[22m\u001b[39m"
      ]
     },
     "execution_count": 5,
     "metadata": {},
     "output_type": "execute_result"
    }
   ],
   "source": [
    "a = gen_odd_seq(1, 2); println(a)\n",
    "@test a == [3, 5]"
   ]
  },
  {
   "cell_type": "code",
   "execution_count": 6,
   "metadata": {},
   "outputs": [
    {
     "name": "stdout",
     "output_type": "stream",
     "text": [
      "[7, 9, 11]\n"
     ]
    },
    {
     "data": {
      "text/plain": [
       "\u001b[32m\u001b[1mTest Passed\u001b[22m\u001b[39m"
      ]
     },
     "execution_count": 6,
     "metadata": {},
     "output_type": "execute_result"
    }
   ],
   "source": [
    "a = gen_odd_seq(5, 3); println(a)\n",
    "@test a == [7, 9, 11]"
   ]
  },
  {
   "cell_type": "code",
   "execution_count": 13,
   "metadata": {},
   "outputs": [
    {
     "name": "stdout",
     "output_type": "stream",
     "text": [
      "[13, 15, 17, 19]\n"
     ]
    },
    {
     "data": {
      "text/plain": [
       "\u001b[32m\u001b[1mTest Passed\u001b[22m\u001b[39m"
      ]
     },
     "execution_count": 13,
     "metadata": {},
     "output_type": "execute_result"
    }
   ],
   "source": [
    "a = gen_odd_seq(11, 4); println(a)\n",
    "@test a == [13, 15, 17, 19]"
   ]
  },
  {
   "cell_type": "code",
   "execution_count": 7,
   "metadata": {},
   "outputs": [
    {
     "data": {
      "text/plain": [
       "gen_odd_seq_ts (generic function with 1 method)"
      ]
     },
     "execution_count": 7,
     "metadata": {},
     "output_type": "execute_result"
    }
   ],
   "source": [
    "# t_s == type stable \n",
    "# using parametric type\n",
    "\n",
    "function gen_odd_seq_ts(start::T, n::T) where T <: Integer \n",
    "    \"\"\"\n",
    "    Calc. n-length sequence of successive odd number starting at start\n",
    "    \"\"\"\n",
    "    iseven(start) && (start += 1)\n",
    "    a = fill(1, n)\n",
    "    if n > 1\n",
    "        a = fill(1, n)\n",
    "        for jx in 1:n\n",
    "            a[jx] = start + 2*jx\n",
    "        end\n",
    "    end\n",
    "    return a\n",
    "end"
   ]
  },
  {
   "cell_type": "code",
   "execution_count": 8,
   "metadata": {
    "scrolled": true
   },
   "outputs": [
    {
     "name": "stdout",
     "output_type": "stream",
     "text": [
      "Variables\n",
      "  #self#\u001b[36m::Core.Compiler.Const(gen_odd_seq_ts, false)\u001b[39m\n",
      "  start@_2\u001b[36m::Int64\u001b[39m\n",
      "  n\u001b[36m::Int64\u001b[39m\n",
      "  a\u001b[36m::Array{Int64,1}\u001b[39m\n",
      "  @_5\u001b[33m\u001b[1m::Union{Nothing, Tuple{Int64,Int64}}\u001b[22m\u001b[39m\n",
      "  jx\u001b[36m::Int64\u001b[39m\n",
      "  start@_7\u001b[36m::Int64\u001b[39m\n",
      "\n",
      "Body\u001b[36m::Array{Int64,1}\u001b[39m\n",
      "\u001b[90m1 ─\u001b[39m       (start@_7 = start@_2)\n",
      "\u001b[90m│  \u001b[39m       Core.NewvarNode(:(a))\n",
      "\u001b[90m│  \u001b[39m       Core.NewvarNode(:(@_5))\n",
      "\u001b[90m│  \u001b[39m %4  = Main.iseven(start@_7)\u001b[36m::Bool\u001b[39m\n",
      "\u001b[90m└──\u001b[39m       goto #3 if not %4\n",
      "\u001b[90m2 ─\u001b[39m       (start@_7 = start@_7 + 1)\n",
      "\u001b[90m└──\u001b[39m       goto #4\n",
      "\u001b[90m3 ─\u001b[39m       false\n",
      "\u001b[90m4 ┄\u001b[39m       (a = Main.fill(1, n))\n",
      "\u001b[90m│  \u001b[39m %10 = (n > 1)\u001b[36m::Bool\u001b[39m\n",
      "\u001b[90m└──\u001b[39m       goto #8 if not %10\n",
      "\u001b[90m5 ─\u001b[39m       (a = Main.fill(1, n))\n",
      "\u001b[90m│  \u001b[39m %13 = (1:n)\u001b[36m::Core.Compiler.PartialStruct(UnitRange{Int64}, Any[Core.Compiler.Const(1, false), Int64])\u001b[39m\n",
      "\u001b[90m│  \u001b[39m       (@_5 = Base.iterate(%13))\n",
      "\u001b[90m│  \u001b[39m %15 = (@_5 === nothing)\u001b[36m::Bool\u001b[39m\n",
      "\u001b[90m│  \u001b[39m %16 = Base.not_int(%15)\u001b[36m::Bool\u001b[39m\n",
      "\u001b[90m└──\u001b[39m       goto #8 if not %16\n",
      "\u001b[90m6 ┄\u001b[39m %18 = @_5::Tuple{Int64,Int64}\u001b[36m::Tuple{Int64,Int64}\u001b[39m\n",
      "\u001b[90m│  \u001b[39m       (jx = Core.getfield(%18, 1))\n",
      "\u001b[90m│  \u001b[39m %20 = Core.getfield(%18, 2)\u001b[36m::Int64\u001b[39m\n",
      "\u001b[90m│  \u001b[39m %21 = start@_7\u001b[36m::Int64\u001b[39m\n",
      "\u001b[90m│  \u001b[39m %22 = (2 * jx)\u001b[36m::Int64\u001b[39m\n",
      "\u001b[90m│  \u001b[39m %23 = (%21 + %22)\u001b[36m::Int64\u001b[39m\n",
      "\u001b[90m│  \u001b[39m       Base.setindex!(a, %23, jx)\n",
      "\u001b[90m│  \u001b[39m       (@_5 = Base.iterate(%13, %20))\n",
      "\u001b[90m│  \u001b[39m %26 = (@_5 === nothing)\u001b[36m::Bool\u001b[39m\n",
      "\u001b[90m│  \u001b[39m %27 = Base.not_int(%26)\u001b[36m::Bool\u001b[39m\n",
      "\u001b[90m└──\u001b[39m       goto #8 if not %27\n",
      "\u001b[90m7 ─\u001b[39m       goto #6\n",
      "\u001b[90m8 ┄\u001b[39m       return a\n"
     ]
    }
   ],
   "source": [
    "@code_warntype gen_odd_seq_ts(1, 10)"
   ]
  },
  {
   "cell_type": "code",
   "execution_count": 9,
   "metadata": {},
   "outputs": [
    {
     "name": "stdout",
     "output_type": "stream",
     "text": [
      "Any[]\n",
      "Any[Array{Int64,1}]\n"
     ]
    }
   ],
   "source": [
    "println(Base.return_types(gen_odd_seq_ts, (Int64,)))\n",
    "println(Base.return_types(gen_odd_seq_ts, (Int64, Int64)))"
   ]
  },
  {
   "cell_type": "code",
   "execution_count": 10,
   "metadata": {},
   "outputs": [
    {
     "name": "stdout",
     "output_type": "stream",
     "text": [
      "[1]\n"
     ]
    },
    {
     "data": {
      "text/plain": [
       "\u001b[32m\u001b[1mTest Passed\u001b[22m\u001b[39m"
      ]
     },
     "execution_count": 10,
     "metadata": {},
     "output_type": "execute_result"
    }
   ],
   "source": [
    "a = gen_odd_seq_ts(1, 1); println(a)\n",
    "@test a == [1]"
   ]
  },
  {
   "cell_type": "code",
   "execution_count": 11,
   "metadata": {},
   "outputs": [
    {
     "name": "stdout",
     "output_type": "stream",
     "text": [
      "[3, 5]\n"
     ]
    },
    {
     "data": {
      "text/plain": [
       "\u001b[32m\u001b[1mTest Passed\u001b[22m\u001b[39m"
      ]
     },
     "execution_count": 11,
     "metadata": {},
     "output_type": "execute_result"
    }
   ],
   "source": [
    "a = gen_odd_seq_ts(1, 2); println(a)\n",
    "@test a == [3, 5]"
   ]
  },
  {
   "cell_type": "code",
   "execution_count": 12,
   "metadata": {},
   "outputs": [
    {
     "name": "stdout",
     "output_type": "stream",
     "text": [
      "[7, 9, 11]\n"
     ]
    },
    {
     "data": {
      "text/plain": [
       "\u001b[32m\u001b[1mTest Passed\u001b[22m\u001b[39m"
      ]
     },
     "execution_count": 12,
     "metadata": {},
     "output_type": "execute_result"
    }
   ],
   "source": [
    "a = gen_odd_seq_ts(5, 3); println(a)\n",
    "@test a == [7, 9, 11]"
   ]
  },
  {
   "cell_type": "code",
   "execution_count": 14,
   "metadata": {},
   "outputs": [
    {
     "name": "stdout",
     "output_type": "stream",
     "text": [
      "[13, 15, 17, 19]\n"
     ]
    },
    {
     "data": {
      "text/plain": [
       "\u001b[32m\u001b[1mTest Passed\u001b[22m\u001b[39m"
      ]
     },
     "execution_count": 14,
     "metadata": {},
     "output_type": "execute_result"
    }
   ],
   "source": [
    "na = gen_odd_seq_ts(11, 4); println(na)\n",
    "@test na == [13, 15, 17, 19]"
   ]
  },
  {
   "cell_type": "code",
   "execution_count": 74,
   "metadata": {},
   "outputs": [
    {
     "data": {
      "text/plain": [
       "odd_num_triangle_builder_nt (generic function with 4 methods)"
      ]
     },
     "execution_count": 74,
     "metadata": {},
     "output_type": "execute_result"
    }
   ],
   "source": [
    "function init_fun(hsh, offset)\n",
    "  if isempty(hsh)\n",
    "    println(\"is empty\")\n",
    "    hsh[1] = 1 # no modification of hsh type\n",
    "    # offset = 2\n",
    "  else\n",
    "    # hash was not empty, so compute offset as it was not set (because -1)    \n",
    "    if offset == -1 \n",
    "      offset = sort(collect(keys(hsh)))[end]\n",
    "    end\n",
    "  end\n",
    "  return hsh, offset\n",
    "end\n",
    "\n",
    "function odd_num_triangle_builder_nt(n, hsh=Dict(), offset=-1, fun=gen_odd_seq_ts)\n",
    "  println(\"offset: \", offset, \" / hsh: \", hsh)\n",
    "  @assert n >= 1\n",
    "\n",
    "  eterm = 0\n",
    "  hsh, offset = init_fun(hsh, offset) \n",
    "  offset == -1 && ((offset, eterm) = (2, -2))  \n",
    "\n",
    "  ix_s, ix_e = offset, offset+n+eterm\n",
    "  for ix in ix_s:ix_e\n",
    "    start = hsh[ix-1][end]\n",
    "    println(\"start = \", start, \" hsh: \", hsh, \" ix = \", ix)\n",
    "    ary = fun(start, ix)\n",
    "    println(\"start = \", start, \" hsh: \", hsh, \" ix = \", ix, \" / ary = \", ary)\n",
    "    hsh[ix] = ary\n",
    "  end\n",
    "  return hsh\n",
    "end"
   ]
  },
  {
   "cell_type": "code",
   "execution_count": 16,
   "metadata": {
    "collapsed": true
   },
   "outputs": [
    {
     "name": "stdout",
     "output_type": "stream",
     "text": [
      "Variables\n",
      "  #self#\u001b[36m::Core.Compiler.Const(odd_num_triangle_builder_nt, false)\u001b[39m\n",
      "  n\u001b[36m::Int64\u001b[39m\n",
      "\n",
      "Body\u001b[36m::Dict{Any,Any}\u001b[39m\n",
      "\u001b[90m1 ─\u001b[39m %1 = Main.Dict()\u001b[36m::Dict{Any,Any}\u001b[39m\n",
      "\u001b[90m│  \u001b[39m %2 = (#self#)(n, %1, -1, Main.gen_odd_seq_ts)\u001b[36m::Dict{Any,Any}\u001b[39m\n",
      "\u001b[90m└──\u001b[39m      return %2\n"
     ]
    }
   ],
   "source": [
    "@code_warntype odd_num_triangle_builder_nt(5) object of type Array{Int"
   ]
  },
  {
   "cell_type": "code",
   "execution_count": 18,
   "metadata": {},
   "outputs": [
    {
     "data": {
      "text/plain": [
       "1-element Array{Any,1}:\n",
       " Dict{Any,Any}"
      ]
     },
     "execution_count": 18,
     "metadata": {},
     "output_type": "execute_result"
    }
   ],
   "source": [
    "Base.return_types(odd_num_triangle_builder_nt, (Int64,))"
   ]
  },
  {
   "cell_type": "code",
   "execution_count": 22,
   "metadata": {},
   "outputs": [
    {
     "data": {
      "text/plain": [
       "print_sorted (generic function with 1 method)"
      ]
     },
     "execution_count": 22,
     "metadata": {},
     "output_type": "execute_result"
    }
   ],
   "source": [
    "function print_sorted(hsh)\n",
    "  for key in sort(collect(keys(hsh)))\n",
    "    println(\"$key => $(hsh[key])\")\n",
    "  end\n",
    "end"
   ]
  },
  {
   "cell_type": "code",
   "execution_count": 68,
   "metadata": {
    "scrolled": true
   },
   "outputs": [
    {
     "name": "stdout",
     "output_type": "stream",
     "text": [
      "-1\n",
      "is empty\n",
      "start = 1 hsh: Dict{Any,Any}(1 => 1) ix = 2\n",
      "start = 1 hsh: Dict{Any,Any}(1 => 1) ix = 2 / ary = [3, 5]\n",
      "start = 5 hsh: Dict{Any,Any}(2 => [3, 5],1 => 1) ix = 3\n",
      "start = 5 hsh: Dict{Any,Any}(2 => [3, 5],1 => 1) ix = 3 / ary = [7, 9, 11]\n",
      "start = 11 hsh: Dict{Any,Any}(2 => [3, 5],3 => [7, 9, 11],1 => 1) ix = 4\n",
      "start = 11 hsh: Dict{Any,Any}(2 => [3, 5],3 => [7, 9, 11],1 => 1) ix = 4 / ary = [13, 15, 17, 19]\n",
      "start = 19 hsh: Dict{Any,Any}(4 => [13, 15, 17, 19],2 => [3, 5],3 => [7, 9, 11],1 => 1) ix = 5\n",
      "start = 19 hsh: Dict{Any,Any}(4 => [13, 15, 17, 19],2 => [3, 5],3 => [7, 9, 11],1 => 1) ix = 5 / ary = [21, 23, 25, 27, 29]\n",
      "start = 29 hsh: Dict{Any,Any}(4 => [13, 15, 17, 19],2 => [3, 5],3 => [7, 9, 11],5 => [21, 23, 25, 27, 29],1 => 1) ix = 6\n",
      "start = 29 hsh: Dict{Any,Any}(4 => [13, 15, 17, 19],2 => [3, 5],3 => [7, 9, 11],5 => [21, 23, 25, 27, 29],1 => 1) ix = 6 / ary = [31, 33, 35, 37, 39, 41]\n",
      "start = 41 hsh: Dict{Any,Any}(4 => [13, 15, 17, 19],2 => [3, 5],3 => [7, 9, 11],5 => [21, 23, 25, 27, 29],6 => [31, 33, 35, 37, 39, 41],1 => 1) ix = 7\n",
      "start = 41 hsh: Dict{Any,Any}(4 => [13, 15, 17, 19],2 => [3, 5],3 => [7, 9, 11],5 => [21, 23, 25, 27, 29],6 => [31, 33, 35, 37, 39, 41],1 => 1) ix = 7 / ary = [43, 45, 47, 49, 51, 53, 55]\n",
      "start = 55 hsh: Dict{Any,Any}(7 => [43, 45, 47, 49, 51, 53, 55],4 => [13, 15, 17, 19],2 => [3, 5],3 => [7, 9, 11],5 => [21, 23, 25, 27, 29],6 => [31, 33, 35, 37, 39, 41],1 => 1) ix = 8\n",
      "start = 55 hsh: Dict{Any,Any}(7 => [43, 45, 47, 49, 51, 53, 55],4 => [13, 15, 17, 19],2 => [3, 5],3 => [7, 9, 11],5 => [21, 23, 25, 27, 29],6 => [31, 33, 35, 37, 39, 41],1 => 1) ix = 8 / ary = [57, 59, 61, 63, 65, 67, 69, 71]\n",
      "start = 71 hsh: Dict{Any,Any}(7 => [43, 45, 47, 49, 51, 53, 55],4 => [13, 15, 17, 19],2 => [3, 5],3 => [7, 9, 11],5 => [21, 23, 25, 27, 29],8 => [57, 59, 61, 63, 65, 67, 69, 71],6 => [31, 33, 35, 37, 39, 41],1 => 1) ix = 9\n",
      "start = 71 hsh: Dict{Any,Any}(7 => [43, 45, 47, 49, 51, 53, 55],4 => [13, 15, 17, 19],2 => [3, 5],3 => [7, 9, 11],5 => [21, 23, 25, 27, 29],8 => [57, 59, 61, 63, 65, 67, 69, 71],6 => [31, 33, 35, 37, 39, 41],1 => 1) ix = 9 / ary = [73, 75, 77, 79, 81, 83, 85, 87, 89]\n",
      "start = 89 hsh: Dict{Any,Any}(7 => [43, 45, 47, 49, 51, 53, 55],4 => [13, 15, 17, 19],9 => [73, 75, 77, 79, 81, 83, 85, 87, 89],2 => [3, 5],3 => [7, 9, 11],5 => [21, 23, 25, 27, 29],8 => [57, 59, 61, 63, 65, 67, 69, 71],6 => [31, 33, 35, 37, 39, 41],1 => 1) ix = 10\n",
      "start = 89 hsh: Dict{Any,Any}(7 => [43, 45, 47, 49, 51, 53, 55],4 => [13, 15, 17, 19],9 => [73, 75, 77, 79, 81, 83, 85, 87, 89],2 => [3, 5],3 => [7, 9, 11],5 => [21, 23, 25, 27, 29],8 => [57, 59, 61, 63, 65, 67, 69, 71],6 => [31, 33, 35, 37, 39, 41],1 => 1) ix = 10 / ary = [91, 93, 95, 97, 99, 101, 103, 105, 107, 109]\n",
      "1 => 1\n",
      "2 => [3, 5]\n",
      "3 => [7, 9, 11]\n",
      "4 => [13, 15, 17, 19]\n",
      "5 => [21, 23, 25, 27, 29]\n",
      "6 => [31, 33, 35, 37, 39, 41]\n",
      "7 => [43, 45, 47, 49, 51, 53, 55]\n",
      "8 => [57, 59, 61, 63, 65, 67, 69, 71]\n",
      "9 => [73, 75, 77, 79, 81, 83, 85, 87, 89]\n",
      "10 => [91, 93, 95, 97, 99, 101, 103, 105, 107, 109]\n"
     ]
    }
   ],
   "source": [
    "hash10 = odd_num_triangle_builder_nt(10)\n",
    "print_sorted(hash10)"
   ]
  },
  {
   "cell_type": "code",
   "execution_count": 69,
   "metadata": {
    "scrolled": true
   },
   "outputs": [
    {
     "name": "stdout",
     "output_type": "stream",
     "text": [
      "-1\n",
      "is empty\n",
      "start = 1 hsh: Dict{Any,Any}(1 => 1) ix = 2\n",
      "start = 1 hsh: Dict{Any,Any}(1 => 1) ix = 2 / ary = [3, 5]\n",
      "start = 5 hsh: Dict{Any,Any}(2 => [3, 5],1 => 1) ix = 3\n",
      "start = 5 hsh: Dict{Any,Any}(2 => [3, 5],1 => 1) ix = 3 / ary = [7, 9, 11]\n",
      "start = 11 hsh: Dict{Any,Any}(2 => [3, 5],3 => [7, 9, 11],1 => 1) ix = 4\n",
      "start = 11 hsh: Dict{Any,Any}(2 => [3, 5],3 => [7, 9, 11],1 => 1) ix = 4 / ary = [13, 15, 17, 19]\n",
      "start = 19 hsh: Dict{Any,Any}(4 => [13, 15, 17, 19],2 => [3, 5],3 => [7, 9, 11],1 => 1) ix = 5\n",
      "start = 19 hsh: Dict{Any,Any}(4 => [13, 15, 17, 19],2 => [3, 5],3 => [7, 9, 11],1 => 1) ix = 5 / ary = [21, 23, 25, 27, 29]\n",
      "1 => 1\n",
      "2 => [3, 5]\n",
      "3 => [7, 9, 11]\n",
      "4 => [13, 15, 17, 19]\n",
      "5 => [21, 23, 25, 27, 29]\n"
     ]
    }
   ],
   "source": [
    "hash5 = odd_num_triangle_builder_nt(5)\n",
    "print_sorted(hash5)"
   ]
  },
  {
   "cell_type": "code",
   "execution_count": 70,
   "metadata": {
    "scrolled": true
   },
   "outputs": [
    {
     "name": "stdout",
     "output_type": "stream",
     "text": [
      "-1\n",
      "start = 19 hsh: Dict{Any,Any}(4 => [13, 15, 17, 19],2 => [3, 5],3 => [7, 9, 11],5 => [21, 23, 25, 27, 29],1 => 1) ix = 5\n",
      "start = 19 hsh: Dict{Any,Any}(4 => [13, 15, 17, 19],2 => [3, 5],3 => [7, 9, 11],5 => [21, 23, 25, 27, 29],1 => 1) ix = 5 / ary = [21, 23, 25, 27, 29]\n",
      "start = 29 hsh: Dict{Any,Any}(4 => [13, 15, 17, 19],2 => [3, 5],3 => [7, 9, 11],5 => [21, 23, 25, 27, 29],1 => 1) ix = 6\n",
      "start = 29 hsh: Dict{Any,Any}(4 => [13, 15, 17, 19],2 => [3, 5],3 => [7, 9, 11],5 => [21, 23, 25, 27, 29],1 => 1) ix = 6 / ary = [31, 33, 35, 37, 39, 41]\n",
      "start = 41 hsh: Dict{Any,Any}(4 => [13, 15, 17, 19],2 => [3, 5],3 => [7, 9, 11],5 => [21, 23, 25, 27, 29],6 => [31, 33, 35, 37, 39, 41],1 => 1) ix = 7\n",
      "start = 41 hsh: Dict{Any,Any}(4 => [13, 15, 17, 19],2 => [3, 5],3 => [7, 9, 11],5 => [21, 23, 25, 27, 29],6 => [31, 33, 35, 37, 39, 41],1 => 1) ix = 7 / ary = [43, 45, 47, 49, 51, 53, 55]\n",
      "start = 55 hsh: Dict{Any,Any}(7 => [43, 45, 47, 49, 51, 53, 55],4 => [13, 15, 17, 19],2 => [3, 5],3 => [7, 9, 11],5 => [21, 23, 25, 27, 29],6 => [31, 33, 35, 37, 39, 41],1 => 1) ix = 8\n",
      "start = 55 hsh: Dict{Any,Any}(7 => [43, 45, 47, 49, 51, 53, 55],4 => [13, 15, 17, 19],2 => [3, 5],3 => [7, 9, 11],5 => [21, 23, 25, 27, 29],6 => [31, 33, 35, 37, 39, 41],1 => 1) ix = 8 / ary = [57, 59, 61, 63, 65, 67, 69, 71]\n",
      "start = 71 hsh: Dict{Any,Any}(7 => [43, 45, 47, 49, 51, 53, 55],4 => [13, 15, 17, 19],2 => [3, 5],3 => [7, 9, 11],5 => [21, 23, 25, 27, 29],8 => [57, 59, 61, 63, 65, 67, 69, 71],6 => [31, 33, 35, 37, 39, 41],1 => 1) ix = 9\n",
      "start = 71 hsh: Dict{Any,Any}(7 => [43, 45, 47, 49, 51, 53, 55],4 => [13, 15, 17, 19],2 => [3, 5],3 => [7, 9, 11],5 => [21, 23, 25, 27, 29],8 => [57, 59, 61, 63, 65, 67, 69, 71],6 => [31, 33, 35, 37, 39, 41],1 => 1) ix = 9 / ary = [73, 75, 77, 79, 81, 83, 85, 87, 89]\n",
      "start = 89 hsh: Dict{Any,Any}(7 => [43, 45, 47, 49, 51, 53, 55],4 => [13, 15, 17, 19],9 => [73, 75, 77, 79, 81, 83, 85, 87, 89],2 => [3, 5],3 => [7, 9, 11],5 => [21, 23, 25, 27, 29],8 => [57, 59, 61, 63, 65, 67, 69, 71],6 => [31, 33, 35, 37, 39, 41],1 => 1) ix = 10\n",
      "start = 89 hsh: Dict{Any,Any}(7 => [43, 45, 47, 49, 51, 53, 55],4 => [13, 15, 17, 19],9 => [73, 75, 77, 79, 81, 83, 85, 87, 89],2 => [3, 5],3 => [7, 9, 11],5 => [21, 23, 25, 27, 29],8 => [57, 59, 61, 63, 65, 67, 69, 71],6 => [31, 33, 35, 37, 39, 41],1 => 1) ix = 10 / ary = [91, 93, 95, 97, 99, 101, 103, 105, 107, 109]\n",
      "1 => 1\n",
      "2 => [3, 5]\n",
      "3 => [7, 9, 11]\n",
      "4 => [13, 15, 17, 19]\n",
      "5 => [21, 23, 25, 27, 29]\n",
      "6 => [31, 33, 35, 37, 39, 41]\n",
      "7 => [43, 45, 47, 49, 51, 53, 55]\n",
      "8 => [57, 59, 61, 63, 65, 67, 69, 71]\n",
      "9 => [73, 75, 77, 79, 81, 83, 85, 87, 89]\n",
      "10 => [91, 93, 95, 97, 99, 101, 103, 105, 107, 109]\n"
     ]
    }
   ],
   "source": [
    "hash2x5 = odd_num_triangle_builder_nt(5, hash5)\n",
    "print_sorted(hash2x5)"
   ]
  },
  {
   "cell_type": "code",
   "execution_count": 66,
   "metadata": {},
   "outputs": [
    {
     "data": {
      "text/plain": [
       "\u001b[32m\u001b[1mTest Passed\u001b[22m\u001b[39m"
      ]
     },
     "execution_count": 66,
     "metadata": {},
     "output_type": "execute_result"
    }
   ],
   "source": [
    "@test hash10 == hash2x5"
   ]
  },
  {
   "cell_type": "code",
   "execution_count": 75,
   "metadata": {},
   "outputs": [
    {
     "name": "stdout",
     "output_type": "stream",
     "text": [
      "offset: -1 / hsh: Dict{Int64,Int64}()\n",
      "is empty\n",
      "start = 1 hsh: Dict(1 => 1) ix = 2\n",
      "start = 1 hsh: Dict(1 => 1) ix = 2 / ary = [3, 5]\n"
     ]
    },
    {
     "ename": "MethodError",
     "evalue": "MethodError: Cannot `convert` an object of type Array{Int64,1} to an object of type Int64\nClosest candidates are:\n  convert(::Type{T<:Number}, !Matched::T<:Number) where T<:Number at number.jl:6\n  convert(::Type{T<:Number}, !Matched::Number) where T<:Number at number.jl:7\n  convert(::Type{T<:Integer}, !Matched::Ptr) where T<:Integer at pointer.jl:23\n  ...",
     "output_type": "error",
     "traceback": [
      "MethodError: Cannot `convert` an object of type Array{Int64,1} to an object of type Int64\nClosest candidates are:\n  convert(::Type{T<:Number}, !Matched::T<:Number) where T<:Number at number.jl:6\n  convert(::Type{T<:Number}, !Matched::Number) where T<:Number at number.jl:7\n  convert(::Type{T<:Integer}, !Matched::Ptr) where T<:Integer at pointer.jl:23\n  ...",
      "",
      "Stacktrace:",
      " [1] setindex!(::Dict{Int64,Int64}, ::Array{Int64,1}, ::Int64) at ./dict.jl:380",
      " [2] odd_num_triangle_builder_nt(::Int64, ::Dict{Int64,Int64}, ::Int64, ::typeof(gen_odd_seq_ts)) at ./In[74]:29",
      " [3] odd_num_triangle_builder_nt(::Int64, ::Dict{Int64,Int64}) at ./In[74]:16",
      " [4] top-level scope at In[75]:2"
     ]
    }
   ],
   "source": [
    "hsh10 = Dict{Int64, Int64}()\n",
    "# ofs = -1\n",
    "hsh10 = odd_num_triangle_builder_nt(10, hsh10)\n",
    "print_sorted(hsh10)"
   ]
  },
  {
   "cell_type": "code",
   "execution_count": null,
   "metadata": {},
   "outputs": [],
   "source": [
    "one(Int64)"
   ]
  },
  {
   "cell_type": "code",
   "execution_count": null,
   "metadata": {},
   "outputs": [],
   "source": [
    "hsh = odd_num_triangle_builder_nt(5) # 5 'rows'\n",
    "\n",
    "print_sorted(hsh)"
   ]
  },
  {
   "cell_type": "code",
   "execution_count": null,
   "metadata": {},
   "outputs": [],
   "source": [
    "hash = odd_num_triangle_builder_nt(5, hsh) # 5 more rows\n",
    "\n",
    "print_sorted(hash)"
   ]
  },
  {
   "cell_type": "code",
   "execution_count": null,
   "metadata": {},
   "outputs": [],
   "source": [
    "odd_num_triangle_builder_nt(0)"
   ]
  },
  {
   "cell_type": "code",
   "execution_count": null,
   "metadata": {},
   "outputs": [],
   "source": [
    "function row_sum_odd_numbers(n, hsh=Dict()) \n",
    "  hsh = odd_num_triangle_builder_nt(n, hsh) # odd_num_triangle_builder_nt\n",
    "  return sum(hsh[n]), hsh  \n",
    "end"
   ]
  },
  {
   "cell_type": "code",
   "execution_count": null,
   "metadata": {},
   "outputs": [],
   "source": [
    "@code_warntype row_sum_odd_numbers(5)"
   ]
  },
  {
   "cell_type": "code",
   "execution_count": null,
   "metadata": {},
   "outputs": [],
   "source": [
    "using Printf\n",
    "\n",
    "for i in 1:10\n",
    "    res = @time row_sum_odd_numbers(i)[1]\n",
    "    @printf(\"\\t%d ==> %d\\n\", i, res)\n",
    "end"
   ]
  },
  {
   "cell_type": "code",
   "execution_count": null,
   "metadata": {},
   "outputs": [],
   "source": [
    "using Printf\n",
    "\n",
    "hsh = Dict()\n",
    "for i in 1:10\n",
    "    res, hsh = @time row_sum_odd_numbers(i, hsh)\n",
    "    @printf(\"\\t%d ==> %d\\n\", i, res)\n",
    "end"
   ]
  },
  {
   "cell_type": "code",
   "execution_count": null,
   "metadata": {},
   "outputs": [],
   "source": [
    "using Test\n",
    "\n",
    "@test true"
   ]
  },
  {
   "cell_type": "code",
   "execution_count": null,
   "metadata": {},
   "outputs": [],
   "source": [
    "@test row_sum_odd_numbers(1)[1] == 1\n",
    "@test row_sum_odd_numbers(2)[1] == 8"
   ]
  },
  {
   "cell_type": "code",
   "execution_count": null,
   "metadata": {},
   "outputs": [],
   "source": [
    "hash = Dict()\n",
    "val, hash = row_sum_odd_numbers(42)\n",
    "\n",
    "@test val == 74088"
   ]
  },
  {
   "cell_type": "code",
   "execution_count": null,
   "metadata": {
    "scrolled": true
   },
   "outputs": [],
   "source": [
    "hash"
   ]
  },
  {
   "cell_type": "markdown",
   "metadata": {},
   "source": [
    "#### Attempt at type"
   ]
  },
  {
   "cell_type": "code",
   "execution_count": null,
   "metadata": {},
   "outputs": [],
   "source": [
    "function odd_num_triangle_builder(n::T, hsh::Dict{T, T}=Dict(), offset::T=-1, \n",
    "        fun=gen_odd_seq_ts) where T <: Integer\n",
    "    \n",
    "  # @assert n >= 1 # one(T)[1]\n",
    "  e_term = 0\n",
    "  hsh, offset = init_fun(hsh, offset) \n",
    "  offset == -1 && ((offset, e_term) = (2, -2))  \n",
    "\n",
    "  ix_s, ix_e = offset, offset + n + e_term\n",
    "  for ix in ix_s:ix_e\n",
    "    start = hsh[ix-1][end]\n",
    "    hsh[ix] = fun(start, ix)\n",
    "  end\n",
    "\n",
    "  return hsh\n",
    "end"
   ]
  },
  {
   "cell_type": "code",
   "execution_count": null,
   "metadata": {},
   "outputs": [],
   "source": [
    "@code_warntype odd_num_triangle_builder(5)"
   ]
  }
 ],
 "metadata": {
  "kernelspec": {
   "display_name": "Julia 1.2.0",
   "language": "julia",
   "name": "julia-1.2"
  },
  "language_info": {
   "file_extension": ".jl",
   "mimetype": "application/julia",
   "name": "julia",
   "version": "1.2.0"
  }
 },
 "nbformat": 4,
 "nbformat_minor": 2
}
