{
 "cells": [
  {
   "cell_type": "markdown",
   "metadata": {},
   "source": [
    "ref. https://www.codewars.com/kata/52b7ed099cdc285c300001cd, (4 kyu) - 2019-12-06"
   ]
  },
  {
   "cell_type": "markdown",
   "metadata": {},
   "source": [
    "Write a function called `sum_intervals()` that accepts an array of intervals, and returns the sum of all the interval lengths. Overlapping intervals should only be counted once.\n",
    "\n",
    "**Intervals**:  \n",
    "\n",
    "Intervals are represented by a pair of integers in the form of a tuple. The first value of the interval will always be less than the second value. Interval example: `(1, 5)` is an interval from 1 to 5. The length of this interval is 4.\n",
    "\n",
    "\n",
    "**Overlapping Intervals**:  \n",
    "List containing overlapping intervals:\n",
    "\n",
    "```julia\n",
    "[\n",
    "  (1, 4),\n",
    "  (7, 10),\n",
    "  (3, 5)\n",
    "]\n",
    "```\n",
    "\n",
    "The sum of the lengths of these intervals is 7. Since `(1, 4)` and `(3, 5)` overlap, we can treat the interval as `(1, 5)`, which has a length of 4.\n",
    "\n",
    "\n",
    "**Examples**:  \n",
    "\n",
    "```julia\n",
    "sum_intervals([\n",
    "   (1, 2),\n",
    "   (6, 10),\n",
    "   (11, 15)\n",
    "]); # => 9\n",
    "\n",
    "sum_intervals([\n",
    "   (1, 4),\n",
    "   (7, 10),\n",
    "   (3, 5)\n",
    "]); # => 7\n",
    "\n",
    "sum_intervals([\n",
    "   (1, 5),\n",
    "   (10, 20),\n",
    "   (1, 6),\n",
    "   (16, 19),\n",
    "   (5, 11)\n",
    "]); # => 19\n",
    "```\n"
   ]
  },
  {
   "cell_type": "markdown",
   "metadata": {},
   "source": [
    "Ok, let's use a a `struct` with parametric type  "
   ]
  },
  {
   "cell_type": "code",
   "execution_count": 1,
   "metadata": {},
   "outputs": [],
   "source": [
    "using Test\n",
    "using BenchmarkTools"
   ]
  },
  {
   "cell_type": "markdown",
   "metadata": {},
   "source": [
    "#### Defining parametric type interval"
   ]
  },
  {
   "cell_type": "code",
   "execution_count": 2,
   "metadata": {},
   "outputs": [],
   "source": [
    "struct Interval{T <: Integer}\n",
    "    lb::T  # lower bound\n",
    "    ub::T  # upper bound\n",
    "\n",
    "    Interval{T}(lb, ub) where {T <: Integer} = lb > ub ? new(ub, lb) : new(lb, ub)\n",
    "end"
   ]
  },
  {
   "cell_type": "code",
   "execution_count": 3,
   "metadata": {},
   "outputs": [
    {
     "data": {
      "text/plain": [
       "Interval{Int64}"
      ]
     },
     "execution_count": 3,
     "metadata": {},
     "output_type": "execute_result"
    }
   ],
   "source": [
    "IntervInt64 = Interval{Int64}"
   ]
  },
  {
   "cell_type": "code",
   "execution_count": 4,
   "metadata": {},
   "outputs": [
    {
     "data": {
      "text/plain": [
       "Interval{Int64}(1, 3)"
      ]
     },
     "execution_count": 4,
     "metadata": {},
     "output_type": "execute_result"
    }
   ],
   "source": [
    "# interv1(lb::Int64, ub::Int64) = Interval(2, 1)\n",
    "interv1 = IntervInt64(3, 1)"
   ]
  },
  {
   "cell_type": "markdown",
   "metadata": {},
   "source": [
    "##### Compute length of an interval"
   ]
  },
  {
   "cell_type": "code",
   "execution_count": 5,
   "metadata": {},
   "outputs": [
    {
     "data": {
      "text/plain": [
       "interv_length (generic function with 1 method)"
      ]
     },
     "execution_count": 5,
     "metadata": {},
     "output_type": "execute_result"
    }
   ],
   "source": [
    "function interv_length(interv::Interval{T})::T where T <: Integer \n",
    "    return interv.ub - interv.lb\n",
    "end"
   ]
  },
  {
   "cell_type": "markdown",
   "metadata": {},
   "source": [
    "##### Instanciate a concrete type interval"
   ]
  },
  {
   "cell_type": "code",
   "execution_count": 6,
   "metadata": {},
   "outputs": [
    {
     "data": {
      "text/plain": [
       "\u001b[32m\u001b[1mTest Passed\u001b[22m\u001b[39m"
      ]
     },
     "execution_count": 6,
     "metadata": {},
     "output_type": "execute_result"
    }
   ],
   "source": [
    "interv1 = IntervInt64(3, 1)\n",
    "@test interv_length(interv1) == 2\n",
    "\n",
    "interv2 = IntervInt64(4, 7)\n",
    "@test interv_length(interv2) == 3\n",
    "\n",
    "interv3 = IntervInt64(1, 1)\n",
    "@test interv_length(interv3) == 0\n",
    "\n",
    "interv4 = IntervInt64(5, 1) # re-order as IntervInt64(1, 5)\n",
    "@test interv_length(interv4) == 4"
   ]
  },
  {
   "cell_type": "markdown",
   "metadata": {},
   "source": [
    "#### Compute if two intervals overlap"
   ]
  },
  {
   "cell_type": "code",
   "execution_count": 7,
   "metadata": {},
   "outputs": [
    {
     "data": {
      "text/plain": [
       "interv_inter (generic function with 1 method)"
      ]
     },
     "execution_count": 7,
     "metadata": {},
     "output_type": "execute_result"
    }
   ],
   "source": [
    "function interv_inter(interv1::Interval{T}, interv2::Interval{T})::Bool where T <: Integer\n",
    "   lb1, ub1 = interv1.lb, interv1.ub\n",
    "   lb2, ub2 = interv2.lb, interv2.ub\n",
    "\n",
    "   (lb1 ≤ lb2 ≤ ub2 ≤ ub1) || \n",
    "     (lb2 ≤ lb1 ≤ ub1 ≤ ub2) ||\n",
    "     (lb1 ≤ lb2 ≤ ub1 ≤ ub2) ||\n",
    "     (lb2 ≤ lb1 ≤ ub2 ≤ ub1)\n",
    "end"
   ]
  },
  {
   "cell_type": "code",
   "execution_count": 8,
   "metadata": {},
   "outputs": [
    {
     "data": {
      "text/plain": [
       "\u001b[32m\u001b[1mTest Passed\u001b[22m\u001b[39m"
      ]
     },
     "execution_count": 8,
     "metadata": {},
     "output_type": "execute_result"
    }
   ],
   "source": [
    "interv_1 = IntervInt64(1, 10)\n",
    "interv_2 = IntervInt64(3, 7)\n",
    "@test interv_inter(interv_1, interv_2)\n",
    "\n",
    "interv_1 = IntervInt64(3, 7)\n",
    "interv_2 = IntervInt64(1, 8)\n",
    "@test interv_inter(interv_1, interv_2)\n",
    "\n",
    "interv_1 = IntervInt64(1, 6)\n",
    "interv_2 = IntervInt64(3, 9)\n",
    "@test interv_inter(interv_1, interv_2)\n",
    "\n",
    "interv_1 = IntervInt64(1, 5)\n",
    "interv_2 = IntervInt64(3, 4)\n",
    "@test interv_inter(interv_1, interv_2)\n",
    "\n",
    "interv_1 = IntervInt64(1, 5)\n",
    "interv_2 = IntervInt64(5, 6)\n",
    "@test interv_inter(interv_1, interv_2)\n",
    "\n",
    "interv_1 = IntervInt64(6, 10)\n",
    "interv_2 = IntervInt64(5, 8)\n",
    "@test interv_inter(interv_1, interv_2)\n",
    "\n",
    "interv_1 = IntervInt64(1, 5)\n",
    "interv_2 = IntervInt64(6, 8)\n",
    "@test !interv_inter(interv_1, interv_2)\n",
    "\n",
    "interv_1 = IntervInt64(1, 5)\n",
    "interv_2 = IntervInt64(10, 20)\n",
    "@test !interv_inter(interv_1, interv_2)"
   ]
  },
  {
   "cell_type": "markdown",
   "metadata": {},
   "source": [
    "####  Adding two interval length"
   ]
  },
  {
   "cell_type": "code",
   "execution_count": 9,
   "metadata": {},
   "outputs": [
    {
     "data": {
      "text/plain": [
       "add_interv_len (generic function with 1 method)"
      ]
     },
     "execution_count": 9,
     "metadata": {},
     "output_type": "execute_result"
    }
   ],
   "source": [
    "function add_interv_len(interv1::Interval{T}, interv2::Interval{T})::T where T <: Integer\n",
    "   lb1, ub1 = interv1.lb, interv1.ub\n",
    "   lb2, ub2 = interv2.lb, interv2.ub\n",
    "\n",
    "   (lb1 ≤ lb2 ≤ ub2 ≤ ub1) && return ub1 - lb1 # interv1 encompasses interv2\n",
    "   (lb2 ≤ lb1 ≤ ub1 ≤ ub2) && return ub2 - lb2 # interv2 encompasses interv1 - symmetry\n",
    "     \n",
    "   sum_inter = interv_length(interv1) + interv_length(interv2)\n",
    "    \n",
    "   (lb1 ≤ lb2 ≤ ub1 ≤ ub2) && return sum_inter - (ub1 - lb2)\n",
    "   (lb2 ≤ lb1 ≤ ub2 ≤ ub1) && return sum_inter - (ub2 - lb1) # symmetry\n",
    "    \n",
    "   return sum_inter\n",
    "end"
   ]
  },
  {
   "cell_type": "code",
   "execution_count": 10,
   "metadata": {},
   "outputs": [
    {
     "data": {
      "text/plain": [
       "\u001b[32m\u001b[1mTest Passed\u001b[22m\u001b[39m"
      ]
     },
     "execution_count": 10,
     "metadata": {},
     "output_type": "execute_result"
    }
   ],
   "source": [
    "interv_1 = IntervInt64(1, 10)\n",
    "interv_2 = IntervInt64(3, 7)\n",
    "@test add_interv_len(interv_1, interv_2) == 9\n",
    "\n",
    "interv_1 = IntervInt64(3, 7)\n",
    "interv_2 = IntervInt64(1, 8)\n",
    "@test add_interv_len(interv_1, interv_2) == 7\n",
    "\n",
    "interv_1 = IntervInt64(1, 6)\n",
    "interv_2 = IntervInt64(3, 9)\n",
    "@test add_interv_len(interv_1, interv_2) == 8\n",
    "\n",
    "\n",
    "interv_1 = IntervInt64(6, 10)\n",
    "interv_2 = IntervInt64(5, 8)\n",
    "@test add_interv_len(interv_1, interv_2) == 5\n",
    "\n",
    "interv_1 = IntervInt64(1, 5)\n",
    "interv_2 = IntervInt64(6, 8)\n",
    "@test add_interv_len(interv_1, interv_2) == 6"
   ]
  },
  {
   "cell_type": "markdown",
   "metadata": {},
   "source": [
    "#### Adding interval (length) and a length"
   ]
  },
  {
   "cell_type": "code",
   "execution_count": 11,
   "metadata": {},
   "outputs": [
    {
     "data": {
      "text/plain": [
       "add_intervlen_len (generic function with 2 methods)"
      ]
     },
     "execution_count": 11,
     "metadata": {},
     "output_type": "execute_result"
    }
   ],
   "source": [
    "function add_intervlen_len(interv::Interval{T}, len::T)::T where T <: Integer\n",
    "   return interv_length(interv) + len\n",
    "end\n",
    "\n",
    "function add_intervlen_len(len::T, interv::Interval{T})::T where T <: Integer\n",
    "   return interv_length(interv) + len\n",
    "end"
   ]
  },
  {
   "cell_type": "code",
   "execution_count": 12,
   "metadata": {},
   "outputs": [
    {
     "data": {
      "text/plain": [
       "\u001b[32m\u001b[1mTest Passed\u001b[22m\u001b[39m"
      ]
     },
     "execution_count": 12,
     "metadata": {},
     "output_type": "execute_result"
    }
   ],
   "source": [
    "interv_1 = IntervInt64(1, 10)\n",
    "@test add_intervlen_len(interv_1, 10) == 19\n",
    "\n",
    "interv_1 = IntervInt64(2, 10)\n",
    "@test add_intervlen_len(6, interv_1) == 14"
   ]
  },
  {
   "cell_type": "markdown",
   "metadata": {},
   "source": [
    "#### Sorting an array of Intervals\n",
    "\n",
    "We will sort on ascending order given the lower bound. "
   ]
  },
  {
   "cell_type": "code",
   "execution_count": 13,
   "metadata": {},
   "outputs": [
    {
     "data": {
      "text/plain": [
       "7-element Array{Interval{Int64},1}:\n",
       " Interval{Int64}(1, 5)\n",
       " Interval{Int64}(1, 3)\n",
       " Interval{Int64}(2, 4)\n",
       " Interval{Int64}(3, 7)\n",
       " Interval{Int64}(4, 8)\n",
       " Interval{Int64}(5, 11)\n",
       " Interval{Int64}(8, 10)"
      ]
     },
     "execution_count": 13,
     "metadata": {},
     "output_type": "execute_result"
    }
   ],
   "source": [
    "# Sorting\n",
    "ary = [\n",
    "    IntervInt64(2, 4), IntervInt64(8, 10), IntervInt64(1, 5),\n",
    "    IntervInt64(1, 3), IntervInt64(4, 8), IntervInt64(3, 7),\n",
    "    IntervInt64(5, 11)\n",
    "]\n",
    "\n",
    "sort!(ary, by = interv -> interv.lb)"
   ]
  },
  {
   "cell_type": "markdown",
   "metadata": {},
   "source": [
    "#### Merging overlapping intervals (in linear time)"
   ]
  },
  {
   "cell_type": "code",
   "execution_count": 14,
   "metadata": {},
   "outputs": [
    {
     "data": {
      "text/plain": [
       "merge_interv (generic function with 1 method)"
      ]
     },
     "execution_count": 14,
     "metadata": {},
     "output_type": "execute_result"
    }
   ],
   "source": [
    "function merge_interv(interv_lst::Array{Interval{T}, 1})::Array{Interval{T}, 1} where T <: Integer\n",
    "  \"\"\"\n",
    "  merge all overlapping intervals from given list(array)     \n",
    "  \"\"\"\n",
    "  size(interv_lst, 1) == 1 && return interv_lst\n",
    "    \n",
    "  i1, ix = interv_lst[1], 2\n",
    "  n_interv_lst = []\n",
    "  \n",
    "  # complexity linear in length of array\n",
    "  n = size(interv_lst, 1)\n",
    "  while ix <= n\n",
    "    i2 = interv_lst[ix]\n",
    "    if interv_inter(i1, i2)\n",
    "      i1 = IntervInt64(min(i1.lb, i2.lb), max(i1.ub, i2.ub))\n",
    "    else   \n",
    "      push!(n_interv_lst, i1)\n",
    "      i1 = i2\n",
    "    end\n",
    "    ix += 1\n",
    "  end\n",
    "  push!(n_interv_lst, i1)  \n",
    "  return n_interv_lst\n",
    "end"
   ]
  },
  {
   "cell_type": "code",
   "execution_count": 15,
   "metadata": {},
   "outputs": [
    {
     "data": {
      "text/plain": [
       "6-element Array{Interval{Int64},1}:\n",
       " Interval{Int64}(1, 5)\n",
       " Interval{Int64}(2, 4)\n",
       " Interval{Int64}(3, 7)\n",
       " Interval{Int64}(8, 10)\n",
       " Interval{Int64}(11, 15)\n",
       " Interval{Int64}(17, 20)"
      ]
     },
     "execution_count": 15,
     "metadata": {},
     "output_type": "execute_result"
    }
   ],
   "source": [
    "ary1 = [\n",
    "    IntervInt64(2, 4), IntervInt64(8, 10), IntervInt64(1, 5),\n",
    "    IntervInt64(1, 3), IntervInt64(4, 8), IntervInt64(3, 7),\n",
    "    IntervInt64(5, 11)\n",
    "]\n",
    "\n",
    "sort!(ary1, by = interv -> interv.lb)\n",
    "\n",
    "ary2 = [\n",
    "    IntervInt64(2, 4), IntervInt64(8, 10), IntervInt64(1, 5),\n",
    "    IntervInt64(17, 20), IntervInt64(11, 15), IntervInt64(3, 7),\n",
    "]\n",
    "\n",
    "sort!(ary2, by = interv -> interv.lb)"
   ]
  },
  {
   "cell_type": "code",
   "execution_count": 16,
   "metadata": {},
   "outputs": [
    {
     "data": {
      "text/plain": [
       "\u001b[32m\u001b[1mTest Passed\u001b[22m\u001b[39m"
      ]
     },
     "execution_count": 16,
     "metadata": {},
     "output_type": "execute_result"
    }
   ],
   "source": [
    "@test merge_interv(ary1) == [IntervInt64(1, 11)]"
   ]
  },
  {
   "cell_type": "code",
   "execution_count": 17,
   "metadata": {},
   "outputs": [
    {
     "data": {
      "text/plain": [
       "\u001b[32m\u001b[1mTest Passed\u001b[22m\u001b[39m"
      ]
     },
     "execution_count": 17,
     "metadata": {},
     "output_type": "execute_result"
    }
   ],
   "source": [
    "@test merge_interv(ary2) == [IntervInt64(1, 7), IntervInt64(8, 10), \n",
    "    IntervInt64(11, 15), IntervInt64(17, 20)]"
   ]
  },
  {
   "cell_type": "code",
   "execution_count": 18,
   "metadata": {},
   "outputs": [
    {
     "data": {
      "text/plain": [
       "\u001b[32m\u001b[1mTest Passed\u001b[22m\u001b[39m"
      ]
     },
     "execution_count": 18,
     "metadata": {},
     "output_type": "execute_result"
    }
   ],
   "source": [
    "ary3 = [IntervInt64(1, 2), IntervInt64(11, 15)]\n",
    "sort!(ary3, by = interv -> interv.lb)\n",
    "@test merge_interv(ary3) == ary3 # Identity"
   ]
  },
  {
   "cell_type": "code",
   "execution_count": 19,
   "metadata": {},
   "outputs": [
    {
     "name": "stdout",
     "output_type": "stream",
     "text": [
      "  1.340 μs (22 allocations: 832 bytes)\n"
     ]
    },
    {
     "data": {
      "text/plain": [
       "1-element Array{Interval{Int64},1}:\n",
       " Interval{Int64}(1, 11)"
      ]
     },
     "execution_count": 19,
     "metadata": {},
     "output_type": "execute_result"
    }
   ],
   "source": [
    "@btime merge_interv(ary1)"
   ]
  },
  {
   "cell_type": "code",
   "execution_count": 20,
   "metadata": {},
   "outputs": [
    {
     "name": "stdout",
     "output_type": "stream",
     "text": [
      "  596.153 ns (13 allocations: 592 bytes)\n"
     ]
    },
    {
     "data": {
      "text/plain": [
       "4-element Array{Interval{Int64},1}:\n",
       " Interval{Int64}(1, 7)\n",
       " Interval{Int64}(8, 10)\n",
       " Interval{Int64}(11, 15)\n",
       " Interval{Int64}(17, 20)"
      ]
     },
     "execution_count": 20,
     "metadata": {},
     "output_type": "execute_result"
    }
   ],
   "source": [
    "@btime merge_interv(ary2)"
   ]
  },
  {
   "cell_type": "markdown",
   "metadata": {},
   "source": [
    "#### Merging overlapping intervals (in linear time) - ALT"
   ]
  },
  {
   "cell_type": "code",
   "execution_count": 21,
   "metadata": {},
   "outputs": [
    {
     "data": {
      "text/plain": [
       "merge_interv_alt (generic function with 1 method)"
      ]
     },
     "execution_count": 21,
     "metadata": {},
     "output_type": "execute_result"
    }
   ],
   "source": [
    "const VT{T <: Integer} = Vector{Interval{T}}\n",
    "\n",
    "function merge_interv_alt(il::VT{T})::VT{T} where T <: Integer\n",
    "\t\"\"\"\n",
    "\tMerge all the intervals from given vector\n",
    "\t\"\"\"\n",
    "\t\n",
    "\tsize(il, 1) == 1 && return il   ## identity\n",
    "\t\n",
    "\tn = size(il, 1)\n",
    "\tn_il = VT{T}(undef, n)  ## at most the size of given vector\n",
    "\ti₁, jx = il[1], 1\n",
    "\t\n",
    "\tfor ix ∈ 2:n\n",
    "\t\ti₂ = il[ix]\n",
    "\t\tif interv_inter(i₁, i₂)\n",
    "\t\t\ti₁ = Interval{T}(min(i₁.lb, i₂.lb), max(i₁.ub, i₂.ub))\n",
    "\t\telse\n",
    "\t\t\tn_il[jx] = i₁\n",
    "\t\t\tjx += 1\n",
    "\t\t\ti₁ = i₂\n",
    "\t\tend\n",
    "\tend\n",
    "\t\n",
    "\tn_il[jx] = i₁\n",
    "\tview(n_il, 1:jx)\n",
    "end"
   ]
  },
  {
   "cell_type": "code",
   "execution_count": 22,
   "metadata": {},
   "outputs": [
    {
     "data": {
      "text/plain": [
       "6-element Array{Interval{Int64},1}:\n",
       " Interval{Int64}(1, 5)\n",
       " Interval{Int64}(2, 4)\n",
       " Interval{Int64}(3, 7)\n",
       " Interval{Int64}(8, 10)\n",
       " Interval{Int64}(11, 15)\n",
       " Interval{Int64}(17, 20)"
      ]
     },
     "execution_count": 22,
     "metadata": {},
     "output_type": "execute_result"
    }
   ],
   "source": [
    "ary1 = [\n",
    "    IntervInt64(2, 4), IntervInt64(8, 10), IntervInt64(1, 5),\n",
    "    IntervInt64(1, 3), IntervInt64(4, 8), IntervInt64(3, 7),\n",
    "    IntervInt64(5, 11)\n",
    "]\n",
    "\n",
    "sort!(ary1, by = interv -> interv.lb)\n",
    "\n",
    "ary2 = [\n",
    "    IntervInt64(2, 4), IntervInt64(8, 10), IntervInt64(1, 5),\n",
    "    IntervInt64(17, 20), IntervInt64(11, 15), IntervInt64(3, 7),\n",
    "]\n",
    "\n",
    "sort!(ary2, by = interv -> interv.lb)"
   ]
  },
  {
   "cell_type": "code",
   "execution_count": 23,
   "metadata": {},
   "outputs": [
    {
     "data": {
      "text/plain": [
       "\u001b[32m\u001b[1mTest Passed\u001b[22m\u001b[39m"
      ]
     },
     "execution_count": 23,
     "metadata": {},
     "output_type": "execute_result"
    }
   ],
   "source": [
    "@test merge_interv_alt(ary1) == [IntervInt64(1, 11)]"
   ]
  },
  {
   "cell_type": "code",
   "execution_count": 24,
   "metadata": {},
   "outputs": [
    {
     "data": {
      "text/plain": [
       "\u001b[32m\u001b[1mTest Passed\u001b[22m\u001b[39m"
      ]
     },
     "execution_count": 24,
     "metadata": {},
     "output_type": "execute_result"
    }
   ],
   "source": [
    "@test merge_interv(ary2) == [IntervInt64(1, 7), IntervInt64(8, 10), \n",
    "    IntervInt64(11, 15), IntervInt64(17, 20)]"
   ]
  },
  {
   "cell_type": "code",
   "execution_count": 25,
   "metadata": {},
   "outputs": [
    {
     "data": {
      "text/plain": [
       "\u001b[32m\u001b[1mTest Passed\u001b[22m\u001b[39m"
      ]
     },
     "execution_count": 25,
     "metadata": {},
     "output_type": "execute_result"
    }
   ],
   "source": [
    "ary3 = [IntervInt64(1, 2), IntervInt64(11, 15)]\n",
    "sort!(ary3, by = interv -> interv.lb)\n",
    "@test merge_interv(ary3) == ary3 # Identity"
   ]
  },
  {
   "cell_type": "code",
   "execution_count": 26,
   "metadata": {},
   "outputs": [
    {
     "name": "stdout",
     "output_type": "stream",
     "text": [
      "  82.979 ns (2 allocations: 288 bytes)\n"
     ]
    },
    {
     "data": {
      "text/plain": [
       "1-element Array{Interval{Int64},1}:\n",
       " Interval{Int64}(1, 11)"
      ]
     },
     "execution_count": 26,
     "metadata": {},
     "output_type": "execute_result"
    }
   ],
   "source": [
    "@btime merge_interv_alt(ary1)"
   ]
  },
  {
   "cell_type": "code",
   "execution_count": 27,
   "metadata": {},
   "outputs": [
    {
     "name": "stdout",
     "output_type": "stream",
     "text": [
      "  85.869 ns (2 allocations: 320 bytes)\n"
     ]
    },
    {
     "data": {
      "text/plain": [
       "4-element Array{Interval{Int64},1}:\n",
       " Interval{Int64}(1, 7)\n",
       " Interval{Int64}(8, 10)\n",
       " Interval{Int64}(11, 15)\n",
       " Interval{Int64}(17, 20)"
      ]
     },
     "execution_count": 27,
     "metadata": {},
     "output_type": "execute_result"
    }
   ],
   "source": [
    "@btime merge_interv_alt(ary2)"
   ]
  },
  {
   "cell_type": "markdown",
   "metadata": {},
   "source": [
    "This version is more efficient in term of space and speed (expected with Julia)."
   ]
  },
  {
   "cell_type": "markdown",
   "metadata": {},
   "source": [
    "#### Extend +"
   ]
  },
  {
   "cell_type": "code",
   "execution_count": 28,
   "metadata": {},
   "outputs": [
    {
     "data": {
      "text/plain": [
       "convert (generic function with 184 methods)"
      ]
     },
     "execution_count": 28,
     "metadata": {},
     "output_type": "execute_result"
    }
   ],
   "source": [
    "import Base: +, convert #promote_rule\n",
    "\n",
    "# overload: \n",
    "+(i1::Interval{T}, i2::Interval{T})  where T <: Integer = add_interv_len(i1, i2)\n",
    "\n",
    "+(len::T, iv::Interval{T})  where T <: Integer = add_intervlen_len(len, iv)\n",
    "+(iv::Interval{T}, len::T)  where T <: Integer = add_intervlen_len(iv, len)\n",
    "\n",
    "convert(::Type{T}, i1::Interval{T}) where T <: Integer = i1.ub - i1.lb\n",
    "# promote_rule(::Interval{T}, ::Interval{<:Integer}) = T"
   ]
  },
  {
   "cell_type": "code",
   "execution_count": 29,
   "metadata": {},
   "outputs": [
    {
     "data": {
      "text/plain": [
       "\u001b[32m\u001b[1mTest Passed\u001b[22m\u001b[39m"
      ]
     },
     "execution_count": 29,
     "metadata": {},
     "output_type": "execute_result"
    }
   ],
   "source": [
    "@test IntervInt64(2, 4) + IntervInt64(8, 10) == 4\n",
    "\n",
    "@test IntervInt64(2, 4) + 3 == 5\n",
    "@test 3 + IntervInt64(2, 4) == 5"
   ]
  },
  {
   "cell_type": "markdown",
   "metadata": {},
   "source": [
    "#### Compute Sum of Interval array - 1"
   ]
  },
  {
   "cell_type": "code",
   "execution_count": 30,
   "metadata": {},
   "outputs": [
    {
     "data": {
      "text/plain": [
       "sum_intervals_1 (generic function with 2 methods)"
      ]
     },
     "execution_count": 30,
     "metadata": {},
     "output_type": "execute_result"
    }
   ],
   "source": [
    "function sum_intervals_1(interv_lst::Array{Interval{T}, 1},\n",
    "        merger_fun=merge_interv)::T where T <: Integer\n",
    "    size(interv_lst, 1) == 1 && return interv_length(interv_lst[1])\n",
    "    \n",
    "    sort!(interv_lst, by = interv -> interv.lb)\n",
    "    n_interv_lst = merger_fun(interv_lst)\n",
    "    s = interv_length(n_interv_lst[1])\n",
    "    for iv in n_interv_lst[2:end]\n",
    "        s += interv_length(iv)\n",
    "    end\n",
    "    return s\n",
    "end"
   ]
  },
  {
   "cell_type": "code",
   "execution_count": 31,
   "metadata": {},
   "outputs": [
    {
     "data": {
      "text/plain": [
       "sum_intervals_1_alt (generic function with 2 methods)"
      ]
     },
     "execution_count": 31,
     "metadata": {},
     "output_type": "execute_result"
    }
   ],
   "source": [
    "function sum_intervals_1_alt(interv_lst::Array{Interval{T}, 1},\n",
    "        merger_fun=merge_interv_alt)::T where T <: Integer\n",
    "  return sum_intervals_1(interv_lst, merger_fun)\n",
    "end"
   ]
  },
  {
   "cell_type": "code",
   "execution_count": 32,
   "metadata": {},
   "outputs": [
    {
     "data": {
      "text/plain": [
       "\u001b[32m\u001b[1mTest Passed\u001b[22m\u001b[39m"
      ]
     },
     "execution_count": 32,
     "metadata": {},
     "output_type": "execute_result"
    }
   ],
   "source": [
    "ary = [\n",
    "    IntervInt64(2, 4), IntervInt64(8, 10), IntervInt64(1, 5),\n",
    "    IntervInt64(1, 3), IntervInt64(4, 8), IntervInt64(3, 7),\n",
    "    IntervInt64(5, 11)\n",
    "]\n",
    "\n",
    "c_ary = [\n",
    "    IntervInt64(2, 4), IntervInt64(8, 10), IntervInt64(1, 5),\n",
    "    IntervInt64(1, 3), IntervInt64(4, 8), IntervInt64(3, 7),\n",
    "    IntervInt64(5, 11)\n",
    "]\n",
    "\n",
    "@test sum_intervals_1(ary) == sum_intervals_1_alt(c_ary) # um_intervals_1_alt( side-effects c_ary"
   ]
  },
  {
   "cell_type": "code",
   "execution_count": 33,
   "metadata": {},
   "outputs": [
    {
     "data": {
      "text/plain": [
       "\u001b[32m\u001b[1mTest Passed\u001b[22m\u001b[39m"
      ]
     },
     "execution_count": 33,
     "metadata": {},
     "output_type": "execute_result"
    }
   ],
   "source": [
    "ary1 = [IntervInt64(1, 2), IntervInt64(11, 15)]\n",
    "@test sum_intervals_1(ary1) == 5\n",
    "\n",
    "ary2 = [IntervInt64(1, 2), IntervInt64(11, 15), IntervInt64(6, 10)]\n",
    "@test sum_intervals_1(ary2) == 9\n",
    "\n",
    "ary3 = [\n",
    "    IntervInt64(1, 5), IntervInt64(10, 20), IntervInt64(1, 6),\n",
    "    IntervInt64(16, 19), IntervInt64(5, 11)\n",
    "]\n",
    "@test sum_intervals_1(ary3) == 19"
   ]
  },
  {
   "cell_type": "code",
   "execution_count": 34,
   "metadata": {},
   "outputs": [
    {
     "data": {
      "text/plain": [
       "\u001b[32m\u001b[1mTest Passed\u001b[22m\u001b[39m"
      ]
     },
     "execution_count": 34,
     "metadata": {},
     "output_type": "execute_result"
    }
   ],
   "source": [
    "ary1 = [IntervInt64(1, 2), IntervInt64(11, 15)]\n",
    "@test sum_intervals_1_alt(ary1) == 5\n",
    "\n",
    "ary2 = [IntervInt64(1, 2), IntervInt64(11, 15), IntervInt64(6, 10)]\n",
    "@test sum_intervals_1_alt(ary2) == 9\n",
    "\n",
    "ary3 = [\n",
    "    IntervInt64(1, 5), IntervInt64(10, 20), IntervInt64(1, 6),\n",
    "    IntervInt64(16, 19), IntervInt64(5, 11)\n",
    "]\n",
    "@test sum_intervals_1_alt(ary3) == 19"
   ]
  },
  {
   "cell_type": "code",
   "execution_count": 35,
   "metadata": {},
   "outputs": [
    {
     "name": "stdout",
     "output_type": "stream",
     "text": [
      "  1.001 μs (18 allocations: 800 bytes)\n"
     ]
    },
    {
     "data": {
      "text/plain": [
       "19"
      ]
     },
     "execution_count": 35,
     "metadata": {},
     "output_type": "execute_result"
    }
   ],
   "source": [
    "ary3 = [\n",
    "    IntervInt64(1, 5), IntervInt64(10, 20), IntervInt64(1, 6),\n",
    "    IntervInt64(16, 19), IntervInt64(5, 11)\n",
    "]\n",
    "\n",
    "@btime sum_intervals_1(ary3)"
   ]
  },
  {
   "cell_type": "code",
   "execution_count": 36,
   "metadata": {},
   "outputs": [
    {
     "name": "stdout",
     "output_type": "stream",
     "text": [
      "  145.813 ns (4 allocations: 416 bytes)\n"
     ]
    },
    {
     "data": {
      "text/plain": [
       "19"
      ]
     },
     "execution_count": 36,
     "metadata": {},
     "output_type": "execute_result"
    }
   ],
   "source": [
    "ary3 = [\n",
    "    IntervInt64(1, 5), IntervInt64(10, 20), IntervInt64(1, 6),\n",
    "    IntervInt64(16, 19), IntervInt64(5, 11)\n",
    "]\n",
    "\n",
    "@btime sum_intervals_1_alt(ary3)"
   ]
  },
  {
   "cell_type": "markdown",
   "metadata": {},
   "source": [
    "#### Compute Sum of Interval array - 2"
   ]
  },
  {
   "cell_type": "code",
   "execution_count": 37,
   "metadata": {},
   "outputs": [
    {
     "data": {
      "text/plain": [
       "sum_intervals_2 (generic function with 2 methods)"
      ]
     },
     "execution_count": 37,
     "metadata": {},
     "output_type": "execute_result"
    }
   ],
   "source": [
    "function sum_intervals_2(interv_lst::Array{Interval{T}, 1}, merger_fn=merge_interv)::T where T <: Integer\n",
    "  size(interv_lst, 1) == 1 && return interv_length(interv_lst[1])\n",
    "    \n",
    "  n_interv_lst = merger_fn(sort(interv_lst, by = interv -> interv.lb))\n",
    "  sum(map(iv -> interv_length(iv), \n",
    "      n_interv_lst))\n",
    "end"
   ]
  },
  {
   "cell_type": "code",
   "execution_count": 38,
   "metadata": {},
   "outputs": [
    {
     "data": {
      "text/plain": [
       "sum_intervals_2_alt (generic function with 2 methods)"
      ]
     },
     "execution_count": 38,
     "metadata": {},
     "output_type": "execute_result"
    }
   ],
   "source": [
    "function sum_intervals_2_alt(interv_lst::Array{Interval{T}, 1}, \n",
    "        merger_fun=merge_interv_alt)::T where T <: Integer\n",
    "  return sum_intervals_2(interv_lst, merger_fun)\n",
    "end"
   ]
  },
  {
   "cell_type": "code",
   "execution_count": 39,
   "metadata": {},
   "outputs": [
    {
     "data": {
      "text/plain": [
       "true"
      ]
     },
     "execution_count": 39,
     "metadata": {},
     "output_type": "execute_result"
    }
   ],
   "source": [
    "ary1 = [\n",
    "    IntervInt64(2, 4), IntervInt64(8, 10), IntervInt64(1, 5),\n",
    "    IntervInt64(1, 3), IntervInt64(4, 8), IntervInt64(3, 7),\n",
    "    IntervInt64(5, 11)\n",
    "]\n",
    "\n",
    "# real copy\n",
    "cary1 =  [\n",
    "    IntervInt64(2, 4), IntervInt64(8, 10), IntervInt64(1, 5),\n",
    "    IntervInt64(1, 3), IntervInt64(4, 8), IntervInt64(3, 7),\n",
    "    IntervInt64(5, 11)\n",
    "]\n",
    "\n",
    "sum_intervals_2(ary1) == sum_intervals_2_alt(cary1)  # sum_intervals_2_alt side-effects input array!"
   ]
  },
  {
   "cell_type": "code",
   "execution_count": 40,
   "metadata": {},
   "outputs": [
    {
     "data": {
      "text/plain": [
       "\u001b[32m\u001b[1mTest Passed\u001b[22m\u001b[39m"
      ]
     },
     "execution_count": 40,
     "metadata": {},
     "output_type": "execute_result"
    }
   ],
   "source": [
    "ary1 = [IntervInt64(1, 2), IntervInt64(11, 15)]\n",
    "@test sum_intervals_2(ary1) == 5\n",
    "\n",
    "ary2 = [IntervInt64(1, 2), IntervInt64(11, 15), IntervInt64(6, 10)]\n",
    "@test sum_intervals_2(ary2) == 9\n",
    "\n",
    "ary3 = [\n",
    "    IntervInt64(1, 5), IntervInt64(10, 20), IntervInt64(1, 6),\n",
    "    IntervInt64(16, 19), IntervInt64(5, 11)\n",
    "]\n",
    "@test sum_intervals_2(ary3) == 19"
   ]
  },
  {
   "cell_type": "code",
   "execution_count": 41,
   "metadata": {},
   "outputs": [
    {
     "data": {
      "text/plain": [
       "\u001b[32m\u001b[1mTest Passed\u001b[22m\u001b[39m"
      ]
     },
     "execution_count": 41,
     "metadata": {},
     "output_type": "execute_result"
    }
   ],
   "source": [
    "ary1 = [IntervInt64(1, 2), IntervInt64(11, 15)]\n",
    "@test sum_intervals_2_alt(ary1) == 5\n",
    "\n",
    "ary2 = [IntervInt64(1, 2), IntervInt64(11, 15), IntervInt64(6, 10)]\n",
    "@test sum_intervals_2_alt(ary2) == 9\n",
    "\n",
    "ary3 = [\n",
    "    IntervInt64(1, 5), IntervInt64(10, 20), IntervInt64(1, 6),\n",
    "    IntervInt64(16, 19), IntervInt64(5, 11)\n",
    "]\n",
    "@test sum_intervals_2_alt(ary3) == 19"
   ]
  },
  {
   "cell_type": "code",
   "execution_count": 42,
   "metadata": {},
   "outputs": [
    {
     "name": "stdout",
     "output_type": "stream",
     "text": [
      "  185.952 ns (5 allocations: 656 bytes)\n"
     ]
    },
    {
     "data": {
      "text/plain": [
       "10"
      ]
     },
     "execution_count": 42,
     "metadata": {},
     "output_type": "execute_result"
    }
   ],
   "source": [
    "ary1 = [\n",
    "    IntervInt64(2, 4), IntervInt64(8, 10), IntervInt64(1, 5),\n",
    "    IntervInt64(1, 3), IntervInt64(4, 8), IntervInt64(3, 7),\n",
    "    IntervInt64(5, 11)\n",
    "]\n",
    "\n",
    "@btime sum_intervals_2_alt(ary1)"
   ]
  },
  {
   "cell_type": "code",
   "execution_count": 43,
   "metadata": {},
   "outputs": [
    {
     "name": "stdout",
     "output_type": "stream",
     "text": [
      "  1.383 μs (25 allocations: 1.17 KiB)\n"
     ]
    },
    {
     "data": {
      "text/plain": [
       "10"
      ]
     },
     "execution_count": 43,
     "metadata": {},
     "output_type": "execute_result"
    }
   ],
   "source": [
    "ary1 = [\n",
    "    IntervInt64(2, 4), IntervInt64(8, 10), IntervInt64(1, 5),\n",
    "    IntervInt64(1, 3), IntervInt64(4, 8), IntervInt64(3, 7),\n",
    "    IntervInt64(5, 11)\n",
    "]\n",
    "\n",
    "@btime sum_intervals_2(ary1)"
   ]
  },
  {
   "cell_type": "markdown",
   "metadata": {},
   "source": [
    "#### Compute Sum of Interval array - 3"
   ]
  },
  {
   "cell_type": "code",
   "execution_count": 44,
   "metadata": {},
   "outputs": [
    {
     "data": {
      "text/plain": [
       "sum_intervals_3 (generic function with 2 methods)"
      ]
     },
     "execution_count": 44,
     "metadata": {},
     "output_type": "execute_result"
    }
   ],
   "source": [
    "function sum_intervals_3(interv_lst::Array{Interval{T}, 1},\n",
    "        merger_fun=merge_interv)::T where T <: Integer\n",
    "  size(interv_lst, 1) == 1 && return interv_length(interv_lst[1])\n",
    "    \n",
    "  sort!(interv_lst, by = interv -> interv.lb)\n",
    "  n_interv_lst = merger_fun(interv_lst)\n",
    "    \n",
    "  return reduce(+, n_interv_lst)\n",
    "end"
   ]
  },
  {
   "cell_type": "code",
   "execution_count": 45,
   "metadata": {},
   "outputs": [
    {
     "data": {
      "text/plain": [
       "sum_intervals_3_alt (generic function with 2 methods)"
      ]
     },
     "execution_count": 45,
     "metadata": {},
     "output_type": "execute_result"
    }
   ],
   "source": [
    "function sum_intervals_3_alt(interv_lst::Array{Interval{T}, 1},\n",
    "        merger_fun=merge_interv_alt)::T where T <: Integer\n",
    "    return sum_intervals_3(interv_lst, merger_fun)\n",
    "end"
   ]
  },
  {
   "cell_type": "code",
   "execution_count": 46,
   "metadata": {},
   "outputs": [
    {
     "data": {
      "text/plain": [
       "\u001b[32m\u001b[1mTest Passed\u001b[22m\u001b[39m"
      ]
     },
     "execution_count": 46,
     "metadata": {},
     "output_type": "execute_result"
    }
   ],
   "source": [
    "ary = [IntervInt64(1, 2), IntervInt64(11, 15)]\n",
    "@test sum_intervals_3(ary) == 5\n",
    "\n",
    "ary = [IntervInt64(1, 2), IntervInt64(11, 15), IntervInt64(6, 10)]\n",
    "@test sum_intervals_3(ary) == 9\n",
    "\n",
    "ary = [\n",
    "    IntervInt64(1, 5), IntervInt64(10, 20), IntervInt64(1, 6),\n",
    "    IntervInt64(16, 19), IntervInt64(5, 11)\n",
    "]\n",
    "@test sum_intervals_3(ary) == 19"
   ]
  },
  {
   "cell_type": "code",
   "execution_count": 47,
   "metadata": {},
   "outputs": [
    {
     "data": {
      "text/plain": [
       "\u001b[32m\u001b[1mTest Passed\u001b[22m\u001b[39m"
      ]
     },
     "execution_count": 47,
     "metadata": {},
     "output_type": "execute_result"
    }
   ],
   "source": [
    "ary = [IntervInt64(1, 2), IntervInt64(11, 15)]\n",
    "@test sum_intervals_3_alt(ary) == 5\n",
    "\n",
    "ary = [IntervInt64(1, 2), IntervInt64(11, 15), IntervInt64(6, 10)]\n",
    "@test sum_intervals_3_alt(ary) == 9\n",
    "\n",
    "ary = [\n",
    "    IntervInt64(1, 5), IntervInt64(10, 20), IntervInt64(1, 6),\n",
    "    IntervInt64(16, 19), IntervInt64(5, 11)\n",
    "]\n",
    "@test sum_intervals_3_alt(ary) == 19"
   ]
  },
  {
   "cell_type": "code",
   "execution_count": 48,
   "metadata": {},
   "outputs": [
    {
     "data": {
      "text/plain": [
       "10"
      ]
     },
     "execution_count": 48,
     "metadata": {},
     "output_type": "execute_result"
    }
   ],
   "source": [
    "ary = [\n",
    "    IntervInt64(2, 4), IntervInt64(8, 10), IntervInt64(1, 5),\n",
    "    IntervInt64(1, 3), IntervInt64(4, 8), IntervInt64(3, 7),\n",
    "    IntervInt64(5, 11)\n",
    "]\n",
    "\n",
    "sum_intervals_3(ary)"
   ]
  },
  {
   "cell_type": "code",
   "execution_count": 49,
   "metadata": {},
   "outputs": [
    {
     "name": "stdout",
     "output_type": "stream",
     "text": [
      "  1.398 μs (23 allocations: 912 bytes)\n"
     ]
    },
    {
     "data": {
      "text/plain": [
       "10"
      ]
     },
     "execution_count": 49,
     "metadata": {},
     "output_type": "execute_result"
    }
   ],
   "source": [
    "@btime sum_intervals_3(ary)"
   ]
  },
  {
   "cell_type": "code",
   "execution_count": 50,
   "metadata": {},
   "outputs": [
    {
     "name": "stdout",
     "output_type": "stream",
     "text": [
      "  129.613 ns (3 allocations: 368 bytes)\n"
     ]
    },
    {
     "data": {
      "text/plain": [
       "10"
      ]
     },
     "execution_count": 50,
     "metadata": {},
     "output_type": "execute_result"
    }
   ],
   "source": [
    "ary = [\n",
    "    IntervInt64(2, 4), IntervInt64(8, 10), IntervInt64(1, 5),\n",
    "    IntervInt64(1, 3), IntervInt64(4, 8), IntervInt64(3, 7),\n",
    "    IntervInt64(5, 11)\n",
    "]\n",
    "\n",
    "@btime sum_intervals_3_alt(ary)"
   ]
  },
  {
   "cell_type": "markdown",
   "metadata": {},
   "source": [
    "#### Compute Sum of Interval array - 4"
   ]
  },
  {
   "cell_type": "code",
   "execution_count": 51,
   "metadata": {},
   "outputs": [
    {
     "data": {
      "text/plain": [
       "sum_intervals_4 (generic function with 2 methods)"
      ]
     },
     "execution_count": 51,
     "metadata": {},
     "output_type": "execute_result"
    }
   ],
   "source": [
    "function sum_intervals_4(interv_lst::Array{Interval{T}, 1},\n",
    "        merger_fun=merge_interv)::T where T <: Integer\n",
    "  size(interv_lst, 1) == 1 && return interv_length(interv_lst[1])\n",
    "    \n",
    "  sort!(interv_lst, by = interv -> interv.lb)\n",
    "  n_interv_lst = merger_fun(interv_lst)\n",
    "    \n",
    "  return sum(interv_length.(n_interv_lst))\n",
    "end"
   ]
  },
  {
   "cell_type": "code",
   "execution_count": 52,
   "metadata": {},
   "outputs": [
    {
     "data": {
      "text/plain": [
       "sum_intervals_4_alt (generic function with 2 methods)"
      ]
     },
     "execution_count": 52,
     "metadata": {},
     "output_type": "execute_result"
    }
   ],
   "source": [
    "function sum_intervals_4_alt(interv_lst::Array{Interval{T}, 1},\n",
    "        merger_fun=merge_interv_alt)::T where T <: Integer\n",
    "    return sum_intervals_4(interv_lst, merger_fun)\n",
    "end"
   ]
  },
  {
   "cell_type": "code",
   "execution_count": 53,
   "metadata": {},
   "outputs": [
    {
     "data": {
      "text/plain": [
       "\u001b[32m\u001b[1mTest Passed\u001b[22m\u001b[39m"
      ]
     },
     "execution_count": 53,
     "metadata": {},
     "output_type": "execute_result"
    }
   ],
   "source": [
    "ary = [IntervInt64(1, 2), IntervInt64(11, 15)]\n",
    "@test sum_intervals_4(ary) == 5\n",
    "\n",
    "ary = [IntervInt64(1, 2), IntervInt64(11, 15), IntervInt64(6, 10)]\n",
    "@test sum_intervals_4(ary) == 9\n",
    "\n",
    "ary = [\n",
    "    IntervInt64(1, 5), IntervInt64(10, 20), IntervInt64(1, 6),\n",
    "    IntervInt64(16, 19), IntervInt64(5, 11)\n",
    "]\n",
    "@test sum_intervals_4(ary) == 19"
   ]
  },
  {
   "cell_type": "code",
   "execution_count": 54,
   "metadata": {},
   "outputs": [
    {
     "data": {
      "text/plain": [
       "\u001b[32m\u001b[1mTest Passed\u001b[22m\u001b[39m"
      ]
     },
     "execution_count": 54,
     "metadata": {},
     "output_type": "execute_result"
    }
   ],
   "source": [
    "ary = [IntervInt64(1, 2), IntervInt64(11, 15)]\n",
    "@test sum_intervals_4_alt(ary) == 5\n",
    "\n",
    "ary = [IntervInt64(1, 2), IntervInt64(11, 15), IntervInt64(6, 10)]\n",
    "@test sum_intervals_4_alt(ary) == 9\n",
    "\n",
    "ary = [\n",
    "    IntervInt64(1, 5), IntervInt64(10, 20), IntervInt64(1, 6),\n",
    "    IntervInt64(16, 19), IntervInt64(5, 11)\n",
    "]\n",
    "@test sum_intervals_4_alt(ary) == 19"
   ]
  },
  {
   "cell_type": "code",
   "execution_count": 55,
   "metadata": {},
   "outputs": [
    {
     "data": {
      "text/plain": [
       "10"
      ]
     },
     "execution_count": 55,
     "metadata": {},
     "output_type": "execute_result"
    }
   ],
   "source": [
    "ary = [\n",
    "    IntervInt64(2, 4), IntervInt64(8, 10), IntervInt64(1, 5),\n",
    "    IntervInt64(1, 3), IntervInt64(4, 8), IntervInt64(3, 7),\n",
    "    IntervInt64(5, 11)\n",
    "]\n",
    "\n",
    "sum_intervals_4(ary)"
   ]
  },
  {
   "cell_type": "code",
   "execution_count": 56,
   "metadata": {},
   "outputs": [
    {
     "name": "stdout",
     "output_type": "stream",
     "text": [
      "  1.410 μs (24 allocations: 1008 bytes)\n"
     ]
    },
    {
     "data": {
      "text/plain": [
       "10"
      ]
     },
     "execution_count": 56,
     "metadata": {},
     "output_type": "execute_result"
    }
   ],
   "source": [
    "@btime sum_intervals_4(ary)"
   ]
  },
  {
   "cell_type": "code",
   "execution_count": 57,
   "metadata": {},
   "outputs": [
    {
     "name": "stdout",
     "output_type": "stream",
     "text": [
      "  153.737 ns (4 allocations: 464 bytes)\n"
     ]
    },
    {
     "data": {
      "text/plain": [
       "10"
      ]
     },
     "execution_count": 57,
     "metadata": {},
     "output_type": "execute_result"
    }
   ],
   "source": [
    "ary = [\n",
    "    IntervInt64(2, 4), IntervInt64(8, 10), IntervInt64(1, 5),\n",
    "    IntervInt64(1, 3), IntervInt64(4, 8), IntervInt64(3, 7),\n",
    "    IntervInt64(5, 11)\n",
    "]\n",
    "\n",
    "@btime sum_intervals_4_alt(ary)"
   ]
  }
 ],
 "metadata": {
  "kernelspec": {
   "display_name": "Julia 1.5.3",
   "language": "julia",
   "name": "julia-1.5"
  },
  "language_info": {
   "file_extension": ".jl",
   "mimetype": "application/julia",
   "name": "julia",
   "version": "1.5.3"
  }
 },
 "nbformat": 4,
 "nbformat_minor": 2
}
