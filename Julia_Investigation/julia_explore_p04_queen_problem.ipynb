{
 "cells": [
  {
   "cell_type": "markdown",
   "metadata": {},
   "source": [
    "## Queen placement problem"
   ]
  },
  {
   "cell_type": "code",
   "execution_count": 1,
   "metadata": {},
   "outputs": [
    {
     "data": {
      "text/plain": [
       "Array{Point{T},1} where T<:Integer"
      ]
     },
     "execution_count": 1,
     "metadata": {},
     "output_type": "execute_result"
    }
   ],
   "source": [
    "struct Point{T <: Integer}\n",
    "  x::T\n",
    "  y::T\n",
    "end\n",
    "\n",
    "const VP{T} = Vector{Point{T}} where {T <: Integer}"
   ]
  },
  {
   "cell_type": "code",
   "execution_count": 2,
   "metadata": {},
   "outputs": [
    {
     "data": {
      "text/plain": [
       "qadd (generic function with 1 method)"
      ]
     },
     "execution_count": 2,
     "metadata": {},
     "output_type": "execute_result"
    }
   ],
   "source": [
    "qadd(board::VP, p::Point) = push!(copy(board), p)"
   ]
  },
  {
   "cell_type": "code",
   "execution_count": 3,
   "metadata": {},
   "outputs": [],
   "source": [
    "qhit(board::VP, p::Point) = any(map(o_p -> qhit_hlpr(p, o_p), board))\n",
    "\n",
    "Base.:-(p₁::Point, p₂::Point) = (p₁.x - p₂.x, p₁.y - p₂.y)\n",
    "Base.abs(p::Point) = (abs(p.x), abs(p.y))"
   ]
  },
  {
   "cell_type": "code",
   "execution_count": 4,
   "metadata": {},
   "outputs": [],
   "source": [
    "## Iterator\n",
    "Base.collect(p::Point) = [p.x, p.y]\n",
    "\n",
    "function Base.iterate(iter::Point, state=(collect(iter), 1))\n",
    "  comp, ix = state\n",
    "  comp === nothing && return nothing     ## are we done?\n",
    "  ix == length(comp) && return (comp[ix], (nothing, ix))\n",
    "  (comp[ix], (collect(iter), ix + 1))\n",
    "end\n",
    "\n",
    "Base.length(iter::Point) where T = length(collect(iter))\n",
    "Base.eltype(::Point{T}) where T = T"
   ]
  },
  {
   "cell_type": "code",
   "execution_count": 5,
   "metadata": {},
   "outputs": [
    {
     "data": {
      "text/plain": [
       "qhit_hlpr (generic function with 1 method)"
      ]
     },
     "execution_count": 5,
     "metadata": {},
     "output_type": "execute_result"
    }
   ],
   "source": [
    "qhit_hlpr(p₁::Point, p₂::Point) = \n",
    "    any(p₁ .== p₂) || abs((p₁ - p₂)[1]) == abs((p₁ - p₂)[2])\n",
    "#   check for ≠ row/col or ≠ diags"
   ]
  },
  {
   "cell_type": "code",
   "execution_count": 6,
   "metadata": {},
   "outputs": [
    {
     "data": {
      "text/plain": [
       "queen_solver (generic function with 1 method)"
      ]
     },
     "execution_count": 6,
     "metadata": {},
     "output_type": "execute_result"
    }
   ],
   "source": [
    "function queen_solver(n::Int; m::Int=n, board=VP{Int}())\n",
    "    m < 1 && return board \n",
    "    for x = 1:n, y = 1:n\n",
    "      p = Point(x, y)\n",
    "      if ! qhit(board, p)\n",
    "          ## then place queen at position Point(x, y)\n",
    "          s = queen_solver(n; m=m-1, board=qadd(board, p))\n",
    "          s != nothing && return s\n",
    "      end\n",
    "    end\n",
    "  \n",
    "    return nothing\n",
    "end"
   ]
  },
  {
   "cell_type": "code",
   "execution_count": 7,
   "metadata": {},
   "outputs": [
    {
     "data": {
      "text/html": [
       "# 1 method for generic function <b>queen_solver</b>:<ul><li> queen_solver(n::<b>Int64</b>; <i>m, board</i>) in Main at In[6]:1</li> </ul>"
      ],
      "text/plain": [
       "# 1 method for generic function \"queen_solver\":\n",
       "[1] queen_solver(n::Int64; m, board) in Main at In[6]:1"
      ]
     },
     "execution_count": 7,
     "metadata": {},
     "output_type": "execute_result"
    }
   ],
   "source": [
    "methods(queen_solver)"
   ]
  },
  {
   "cell_type": "code",
   "execution_count": 8,
   "metadata": {},
   "outputs": [
    {
     "data": {
      "text/plain": [
       "8-element Array{Point{Int64},1}:\n",
       " Point{Int64}(1, 1)\n",
       " Point{Int64}(2, 5)\n",
       " Point{Int64}(3, 8)\n",
       " Point{Int64}(4, 6)\n",
       " Point{Int64}(5, 3)\n",
       " Point{Int64}(6, 7)\n",
       " Point{Int64}(7, 2)\n",
       " Point{Int64}(8, 4)"
      ]
     },
     "execution_count": 8,
     "metadata": {},
     "output_type": "execute_result"
    }
   ],
   "source": [
    "n = 8\n",
    "queen_solver(n) # for 8 queens"
   ]
  },
  {
   "cell_type": "code",
   "execution_count": null,
   "metadata": {},
   "outputs": [],
   "source": []
  }
 ],
 "metadata": {
  "kernelspec": {
   "display_name": "Julia 1.5.3",
   "language": "julia",
   "name": "julia-1.5"
  },
  "language_info": {
   "file_extension": ".jl",
   "mimetype": "application/julia",
   "name": "julia",
   "version": "1.5.3"
  }
 },
 "nbformat": 4,
 "nbformat_minor": 2
}
