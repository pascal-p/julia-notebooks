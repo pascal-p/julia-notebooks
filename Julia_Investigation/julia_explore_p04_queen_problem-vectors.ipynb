{
 "cells": [
  {
   "cell_type": "markdown",
   "metadata": {},
   "source": [
    "## Queen placement problem"
   ]
  },
  {
   "cell_type": "code",
   "execution_count": 1,
   "metadata": {},
   "outputs": [
    {
     "data": {
      "text/plain": [
       "Array{Array{Int64,1},1}"
      ]
     },
     "execution_count": 1,
     "metadata": {},
     "output_type": "execute_result"
    }
   ],
   "source": [
    "const VInt = Vector{Int}\n",
    "const MInt = Vector{Vector{Int}}"
   ]
  },
  {
   "cell_type": "code",
   "execution_count": 7,
   "metadata": {},
   "outputs": [
    {
     "data": {
      "text/plain": [
       "qadd (generic function with 1 method)"
      ]
     },
     "execution_count": 7,
     "metadata": {},
     "output_type": "execute_result"
    }
   ],
   "source": [
    "qadd(board::MInt, qrow::VInt) = push!(copy(board), qrow)"
   ]
  },
  {
   "cell_type": "code",
   "execution_count": 8,
   "metadata": {},
   "outputs": [
    {
     "data": {
      "text/plain": [
       "qhit_hlpr (generic function with 1 method)"
      ]
     },
     "execution_count": 8,
     "metadata": {},
     "output_type": "execute_result"
    }
   ],
   "source": [
    "## check whole board\n",
    "qhit(board::MInt, pos::VInt) = \n",
    "    any(map(o_pos -> qhit_hlpr(pos, o_pos), board))\n",
    "\n",
    "qhit_hlpr(pos::VInt, o_pos::VInt) = \n",
    "    any(pos .== o_pos) || abs((pos - o_pos)[1]) == abs((pos - o_pos)[2])\n",
    "#   check for ≠ row/col or ≠ diags"
   ]
  },
  {
   "cell_type": "code",
   "execution_count": 9,
   "metadata": {},
   "outputs": [
    {
     "data": {
      "text/plain": [
       "queen_solver (generic function with 1 method)"
      ]
     },
     "execution_count": 9,
     "metadata": {},
     "output_type": "execute_result"
    }
   ],
   "source": [
    "function queen_solver(n::Int; m::Int=n, board=MInt())\n",
    "    m < 1 && return board \n",
    "    for x = 1:n, y = 1:n\n",
    "      if ! qhit(board, [x, y])\n",
    "          ## then place queen in position x, y\n",
    "          s = queen_solver(n; m=m-1, board=qadd(board, [x, y]))\n",
    "          s != nothing && return s\n",
    "      end\n",
    "    end\n",
    "  \n",
    "    return nothing\n",
    "end"
   ]
  },
  {
   "cell_type": "code",
   "execution_count": 10,
   "metadata": {},
   "outputs": [
    {
     "data": {
      "text/html": [
       "# 1 method for generic function <b>queen_solver</b>:<ul><li> queen_solver(n::<b>Int64</b>; <i>m, board</i>) in Main at In[9]:1</li> </ul>"
      ],
      "text/plain": [
       "# 1 method for generic function \"queen_solver\":\n",
       "[1] queen_solver(n::Int64; m, board) in Main at In[9]:1"
      ]
     },
     "execution_count": 10,
     "metadata": {},
     "output_type": "execute_result"
    }
   ],
   "source": [
    "methods(queen_solver)"
   ]
  },
  {
   "cell_type": "code",
   "execution_count": 11,
   "metadata": {},
   "outputs": [
    {
     "data": {
      "text/plain": [
       "8-element Array{Array{Int64,1},1}:\n",
       " [1, 1]\n",
       " [2, 5]\n",
       " [3, 8]\n",
       " [4, 6]\n",
       " [5, 3]\n",
       " [6, 7]\n",
       " [7, 2]\n",
       " [8, 4]"
      ]
     },
     "execution_count": 11,
     "metadata": {},
     "output_type": "execute_result"
    }
   ],
   "source": [
    "n = 8\n",
    "queen_solver(n) # for 8 queens"
   ]
  }
 ],
 "metadata": {
  "kernelspec": {
   "display_name": "Julia 1.5.3",
   "language": "julia",
   "name": "julia-1.5"
  },
  "language_info": {
   "file_extension": ".jl",
   "mimetype": "application/julia",
   "name": "julia",
   "version": "1.5.3"
  }
 },
 "nbformat": 4,
 "nbformat_minor": 2
}
