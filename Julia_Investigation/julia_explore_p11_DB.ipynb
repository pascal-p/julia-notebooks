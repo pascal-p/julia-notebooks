{
 "cells": [
  {
   "cell_type": "markdown",
   "metadata": {},
   "source": [
    "# JuliaDB - tutorial\n",
    "\n",
    "ref. https://www.youtube.com/watch?v=pv5zfIs2lyU, Using table  \n",
    "ref. https://www.youtube.com/watch?v=eQORf4m_8Hk, Selections in JuliaDB  \n",
    "ref. https://www.youtube.com/watch?v=tCVgn9m2ajM, Reductions in JuliaDB  \n",
    "ref. https://www.youtube.com/watch?v=hU7N-EWnC2A, Grouping in JuliaDB to calculate descriptive statistics  \n",
    "ref. https://www.youtube.com/watch?v=CIBxY7PUjc0, Joining 2 tables  \n",
    "ref. https://www.youtube.com/watch?v=slL_oj5Dmzc, Importing a csv file in JuliaDB  \n",
    "\n",
    "ref. https://juliacomputing.github.io/JuliaDB"
   ]
  },
  {
   "cell_type": "code",
   "execution_count": 1,
   "metadata": {
    "scrolled": true
   },
   "outputs": [
    {
     "name": "stdout",
     "output_type": "stream",
     "text": [
      "\u001b[32m\u001b[1m    Status\u001b[22m\u001b[39m `~/.julia/environments/v1.2/Project.toml`\n",
      " \u001b[90m [fbb218c0]\u001b[39m\u001b[37m BSON v0.2.4\u001b[39m\n",
      " \u001b[90m [6e4b80f9]\u001b[39m\u001b[37m BenchmarkTools v0.4.3\u001b[39m\n",
      " \u001b[90m [336ed68f]\u001b[39m\u001b[37m CSV v0.5.14\u001b[39m\n",
      " \u001b[90m [3895d2a7]\u001b[39m\u001b[37m CUDAapi v1.2.0\u001b[39m\n",
      " \u001b[90m [c5f51814]\u001b[39m\u001b[37m CUDAdrv v4.0.3\u001b[39m\n",
      " \u001b[90m [be33ccc6]\u001b[39m\u001b[37m CUDAnative v2.5.4\u001b[39m\n",
      " \u001b[90m [944b1d66]\u001b[39m\u001b[37m CodecZlib v0.6.0\u001b[39m\n",
      " \u001b[90m [5ae59095]\u001b[39m\u001b[37m Colors v0.9.6\u001b[39m\n",
      " \u001b[90m [a81c6b42]\u001b[39m\u001b[37m Compose v0.7.3\u001b[39m\n",
      " \u001b[90m [8f4d0f93]\u001b[39m\u001b[37m Conda v1.3.0\u001b[39m\n",
      " \u001b[90m [3a865a2d]\u001b[39m\u001b[37m CuArrays v1.4.4\u001b[39m\n",
      " \u001b[90m [a93c6f00]\u001b[39m\u001b[37m DataFrames v0.19.4\u001b[39m\n",
      " \u001b[90m [aaf54ef3]\u001b[39m\u001b[37m DistributedArrays v0.6.4\u001b[39m\n",
      " \u001b[90m [31c24e10]\u001b[39m\u001b[37m Distributions v0.21.9\u001b[39m\n",
      " \u001b[90m [7876af07]\u001b[39m\u001b[37m Example v0.5.3\u001b[39m\n",
      " \u001b[90m [587475ba]\u001b[39m\u001b[37m Flux v0.10.0\u001b[39m\n",
      " \u001b[90m [f6369f11]\u001b[39m\u001b[37m ForwardDiff v0.10.6\u001b[39m\n",
      " \u001b[90m [c91e804a]\u001b[39m\u001b[37m Gadfly v1.0.1\u001b[39m\n",
      " \u001b[90m [708ec375]\u001b[39m\u001b[37m Gumbo v0.5.1\u001b[39m\n",
      " \u001b[90m [cd3eb016]\u001b[39m\u001b[37m HTTP v0.8.8\u001b[39m\n",
      " \u001b[90m [0e44f5e4]\u001b[39m\u001b[37m Hwloc v1.0.3\u001b[39m\n",
      " \u001b[90m [7073ff75]\u001b[39m\u001b[37m IJulia v1.20.2\u001b[39m\n",
      " \u001b[90m [6218d12a]\u001b[39m\u001b[37m ImageMagick v0.7.5\u001b[39m\n",
      " \u001b[90m [916415d5]\u001b[39m\u001b[37m Images v0.18.0\u001b[39m\n",
      " \u001b[90m [033835bb]\u001b[39m\u001b[37m JLD2 v0.1.3\u001b[39m\n",
      " \u001b[90m [682c06a0]\u001b[39m\u001b[37m JSON v0.21.0\u001b[39m\n",
      " \u001b[90m [18b7da76]\u001b[39m\u001b[37m JuliaAcademyData v0.1.0 #master (https://github.com/JuliaComputing/JuliaAcademyData.jl)\u001b[39m\n",
      " \u001b[90m [a93385a2]\u001b[39m\u001b[37m JuliaDB v0.13.0\u001b[39m\n",
      " \u001b[90m [1902f260]\u001b[39m\u001b[37m Knet v1.3.1\u001b[39m\n",
      " \u001b[90m [7eb4fadd]\u001b[39m\u001b[37m Match v1.0.2\u001b[39m\n",
      " \u001b[90m [a15396b6]\u001b[39m\u001b[37m OnlineStats v1.0.2\u001b[39m\n",
      " \u001b[90m [91a5bcdd]\u001b[39m\u001b[37m Plots v0.27.0\u001b[39m\n",
      " \u001b[90m [27ebfcd6]\u001b[39m\u001b[37m Primes v0.4.0\u001b[39m\n",
      " \u001b[90m [c46f51b8]\u001b[39m\u001b[37m ProfileView v0.5.0\u001b[39m\n",
      " \u001b[90m [92933f4c]\u001b[39m\u001b[37m ProgressMeter v1.1.0\u001b[39m\n",
      " \u001b[90m [438e738f]\u001b[39m\u001b[37m PyCall v1.91.2\u001b[39m\n",
      " \u001b[90m [d330b81b]\u001b[39m\u001b[37m PyPlot v2.8.2\u001b[39m\n",
      " \u001b[90m [ce6b1742]\u001b[39m\u001b[37m RDatasets v0.6.1\u001b[39m\n",
      " \u001b[90m [24249f21]\u001b[39m\u001b[37m SymPy v1.0.7\u001b[39m\n",
      " \u001b[90m [28d57a85]\u001b[39m\u001b[37m Transducers v0.4.4\u001b[39m\n",
      " \u001b[90m [b8865327]\u001b[39m\u001b[37m UnicodePlots v1.1.0\u001b[39m\n",
      " \u001b[90m [9abbd945]\u001b[39m\u001b[37m Profile \u001b[39m\n",
      " \u001b[90m [10745b16]\u001b[39m\u001b[37m Statistics \u001b[39m\n"
     ]
    }
   ],
   "source": [
    "import Pkg;\n",
    "Pkg.status()"
   ]
  },
  {
   "cell_type": "code",
   "execution_count": 2,
   "metadata": {},
   "outputs": [
    {
     "name": "stderr",
     "output_type": "stream",
     "text": [
      "┌ Info: Recompiling stale cache file /home/pascal/.julia/compiled/v1.2/Distributions/xILW0.ji for Distributions [31c24e10-a181-5473-b8eb-7969acd0382f]\n",
      "└ @ Base loading.jl:1240\n"
     ]
    }
   ],
   "source": [
    "using JuliaDB, Distributions, OnlineStats"
   ]
  },
  {
   "cell_type": "markdown",
   "metadata": {},
   "source": [
    "## The `table()` function\n",
    "\n",
    "ref. https://www.youtube.com/watch?v=pv5zfIs2lyU, Using table"
   ]
  },
  {
   "cell_type": "code",
   "execution_count": 4,
   "metadata": {},
   "outputs": [],
   "source": [
    "ids = collect(1:10)\n",
    "ages = round.(Int8, rand(Normal(50, 20), 10)); # Normal distribution with μ=50 and σ^2 = 20"
   ]
  },
  {
   "cell_type": "code",
   "execution_count": 5,
   "metadata": {},
   "outputs": [
    {
     "data": {
      "text/plain": [
       "(10, 10)"
      ]
     },
     "execution_count": 5,
     "metadata": {},
     "output_type": "execute_result"
    }
   ],
   "source": [
    "length(ids), length(ages)"
   ]
  },
  {
   "cell_type": "code",
   "execution_count": 6,
   "metadata": {},
   "outputs": [
    {
     "data": {
      "text/plain": [
       "(Array{Int64,1}, Array{Int8,1})"
      ]
     },
     "execution_count": 6,
     "metadata": {},
     "output_type": "execute_result"
    }
   ],
   "source": [
    "typeof(ids), typeof(ages)"
   ]
  },
  {
   "cell_type": "code",
   "execution_count": 7,
   "metadata": {},
   "outputs": [
    {
     "data": {
      "text/plain": [
       "Table with 10 rows, 2 columns:\n",
       "ID  AGE\n",
       "───────\n",
       "1   39\n",
       "2   38\n",
       "3   54\n",
       "4   40\n",
       "5   51\n",
       "6   77\n",
       "7   28\n",
       "8   95\n",
       "9   70\n",
       "10  62"
      ]
     },
     "execution_count": 7,
     "metadata": {},
     "output_type": "execute_result"
    }
   ],
   "source": [
    "# Create table using previously defined\n",
    "table_1 = table(ids, ages, names = [:ID, :AGE])"
   ]
  },
  {
   "cell_type": "code",
   "execution_count": 8,
   "metadata": {},
   "outputs": [
    {
     "data": {
      "text/plain": [
       "(ID = 3, AGE = 54)"
      ]
     },
     "execution_count": 8,
     "metadata": {},
     "output_type": "execute_result"
    }
   ],
   "source": [
    "subject_3 = table_1[3]"
   ]
  },
  {
   "cell_type": "code",
   "execution_count": 9,
   "metadata": {},
   "outputs": [
    {
     "data": {
      "text/plain": [
       "54"
      ]
     },
     "execution_count": 9,
     "metadata": {},
     "output_type": "execute_result"
    }
   ],
   "source": [
    "subject_3.AGE"
   ]
  },
  {
   "cell_type": "code",
   "execution_count": 10,
   "metadata": {},
   "outputs": [
    {
     "data": {
      "text/plain": [
       "Table with 3 rows, 2 columns:\n",
       "ID  AGE\n",
       "───────\n",
       "3   54\n",
       "4   40\n",
       "5   51"
      ]
     },
     "execution_count": 10,
     "metadata": {},
     "output_type": "execute_result"
    }
   ],
   "source": [
    "table_1[3:5]"
   ]
  },
  {
   "cell_type": "code",
   "execution_count": 12,
   "metadata": {},
   "outputs": [
    {
     "data": {
      "text/plain": [
       "Table with 3 rows, 2 columns:\n",
       "ID  AGE\n",
       "───────\n",
       "3   54\n",
       "5   51\n",
       "8   95"
      ]
     },
     "execution_count": 12,
     "metadata": {},
     "output_type": "execute_result"
    }
   ],
   "source": [
    "table_1[[3, 5, 8]]"
   ]
  },
  {
   "cell_type": "code",
   "execution_count": 20,
   "metadata": {},
   "outputs": [
    {
     "data": {
      "text/plain": [
       "Table with 10 rows, 4 columns:\n",
       "\u001b[1mID  \u001b[22mGROUP  HB    WCC\n",
       "─────────────────────\n",
       "1   \"I\"    14.5  8.1\n",
       "2   \"I\"    15.5  13.6\n",
       "3   \"II\"   10.3  15.1\n",
       "4   \"III\"  22.3  18.0\n",
       "5   \"III\"  17.7  12.6\n",
       "6   \"II\"   24.2  13.5\n",
       "7   \"I\"    15.4  9.5\n",
       "8   \"III\"  20.8  4.7\n",
       "9   \"II\"   18.3  11.3\n",
       "10  \"I\"    14.6  12.5"
      ]
     },
     "execution_count": 20,
     "metadata": {},
     "output_type": "execute_result"
    }
   ],
   "source": [
    "table_2 = table(ids,\n",
    "    [\"I\", \"I\", \"II\", \"III\", \"III\", \"II\", \"I\", \"III\", \"II\", \"I\"],\n",
    "    round.(rand(Normal(16, 4), 10), digits=1), # # Normal distribution with μ=16 and σ^2 = 4, 1 dec place\n",
    "    round.(rand(Normal(12, 3), 10), digits=1), # Normal distribution with μ=12 and σ^2 = 3, 1 dec place\n",
    "    names = [:ID, :GROUP, :HB, :WCC], pkey = :ID)"
   ]
  },
  {
   "cell_type": "code",
   "execution_count": 22,
   "metadata": {},
   "outputs": [
    {
     "data": {
      "text/plain": [
       "Table with 10 rows, 2 columns:\n",
       "\u001b[1mID  \u001b[22mCRP\n",
       "───────\n",
       "1   107\n",
       "2   99\n",
       "3   86\n",
       "4   100\n",
       "5   72\n",
       "6   86\n",
       "7   53\n",
       "8   99\n",
       "9   100\n",
       "10  110"
      ]
     },
     "execution_count": 22,
     "metadata": {},
     "output_type": "execute_result"
    }
   ],
   "source": [
    "table_3 = table(Columns(ID = ids, CRP = round.(Int16, rand(Normal(100, 20), 10))), pkey = :ID)"
   ]
  },
  {
   "cell_type": "markdown",
   "metadata": {},
   "source": [
    "## Selections\n",
    "\n",
    "ref. https://www.youtube.com/watch?v=eQORf4m_8Hk, Selections in JuliaDB"
   ]
  },
  {
   "cell_type": "code",
   "execution_count": 23,
   "metadata": {},
   "outputs": [
    {
     "data": {
      "text/plain": [
       "Table with 4 rows, 4 columns:\n",
       "\u001b[1mID  \u001b[22mGROUP  HB    WCC\n",
       "─────────────────────\n",
       "1   \"I\"    14.5  8.1\n",
       "2   \"I\"    15.5  13.6\n",
       "7   \"I\"    15.4  9.5\n",
       "10  \"I\"    14.6  12.5"
      ]
     },
     "execution_count": 23,
     "metadata": {},
     "output_type": "execute_result"
    }
   ],
   "source": [
    "# create new (sub-)table, using filter function passing a lambda and a table\n",
    "grouped_by_I = filter(t -> t.GROUP == \"I\", table_2)"
   ]
  },
  {
   "cell_type": "code",
   "execution_count": 24,
   "metadata": {},
   "outputs": [
    {
     "data": {
      "text/plain": [
       "IndexedTable{StructArrays.StructArray{NamedTuple{(:ID, :GROUP, :HB, :WCC),Tuple{Int64,String,Float64,Float64}},1,NamedTuple{(:ID, :GROUP, :HB, :WCC),Tuple{Array{Int64,1},Array{String,1},Array{Float64,1},Array{Float64,1}}},Int64}}"
      ]
     },
     "execution_count": 24,
     "metadata": {},
     "output_type": "execute_result"
    }
   ],
   "source": [
    "typeof(grouped_by_I)"
   ]
  },
  {
   "cell_type": "code",
   "execution_count": 25,
   "metadata": {},
   "outputs": [
    {
     "data": {
      "text/plain": [
       "Table with 3 rows, 4 columns:\n",
       "\u001b[1mID  \u001b[22mGROUP  HB    WCC\n",
       "─────────────────────\n",
       "3   \"II\"   10.3  15.1\n",
       "6   \"II\"   24.2  13.5\n",
       "9   \"II\"   18.3  11.3"
      ]
     },
     "execution_count": 25,
     "metadata": {},
     "output_type": "execute_result"
    }
   ],
   "source": [
    "grouped_by_II = filter(t -> t.GROUP == \"II\", table_2)"
   ]
  },
  {
   "cell_type": "code",
   "execution_count": 26,
   "metadata": {},
   "outputs": [
    {
     "data": {
      "text/plain": [
       "Table with 3 rows, 4 columns:\n",
       "\u001b[1mID  \u001b[22mGROUP  HB    WCC\n",
       "─────────────────────\n",
       "4   \"III\"  22.3  18.0\n",
       "5   \"III\"  17.7  12.6\n",
       "8   \"III\"  20.8  4.7"
      ]
     },
     "execution_count": 26,
     "metadata": {},
     "output_type": "execute_result"
    }
   ],
   "source": [
    "grouped_by_III = filter(t -> t.GROUP == \"III\", table_2)"
   ]
  },
  {
   "cell_type": "code",
   "execution_count": 27,
   "metadata": {},
   "outputs": [
    {
     "data": {
      "text/plain": [
       "Table with 6 rows, 4 columns:\n",
       "\u001b[1mID  \u001b[22mGROUP  HB    WCC\n",
       "─────────────────────\n",
       "2   \"I\"    15.5  13.6\n",
       "3   \"II\"   10.3  15.1\n",
       "4   \"III\"  22.3  18.0\n",
       "5   \"III\"  17.7  12.6\n",
       "6   \"II\"   24.2  13.5\n",
       "10  \"I\"    14.6  12.5"
      ]
     },
     "execution_count": 27,
     "metadata": {},
     "output_type": "execute_result"
    }
   ],
   "source": [
    "high_WCC = filter(t -> t.WCC > 12, table_2)"
   ]
  },
  {
   "cell_type": "markdown",
   "metadata": {},
   "source": [
    "## Reductions\n",
    "\n",
    "ref. https://www.youtube.com/watch?v=eQORf4m_8Hk, Selections in JuliaDB "
   ]
  },
  {
   "cell_type": "code",
   "execution_count": 28,
   "metadata": {},
   "outputs": [
    {
     "data": {
      "text/plain": [
       "Table with 10 rows, 4 columns:\n",
       "\u001b[1mID  \u001b[22mGROUP  HB    WCC\n",
       "─────────────────────\n",
       "1   \"I\"    14.5  8.1\n",
       "2   \"I\"    15.5  13.6\n",
       "3   \"II\"   10.3  15.1\n",
       "4   \"III\"  22.3  18.0\n",
       "5   \"III\"  17.7  12.6\n",
       "6   \"II\"   24.2  13.5\n",
       "7   \"I\"    15.4  9.5\n",
       "8   \"III\"  20.8  4.7\n",
       "9   \"II\"   18.3  11.3\n",
       "10  \"I\"    14.6  12.5"
      ]
     },
     "execution_count": 28,
     "metadata": {},
     "output_type": "execute_result"
    }
   ],
   "source": [
    "table_2"
   ]
  },
  {
   "cell_type": "code",
   "execution_count": 29,
   "metadata": {},
   "outputs": [
    {
     "data": {
      "text/plain": [
       "118.89999999999999"
      ]
     },
     "execution_count": 29,
     "metadata": {},
     "output_type": "execute_result"
    }
   ],
   "source": [
    "# sum on column :WCC\n",
    "reduce(+, table_2, select = :WCC)"
   ]
  },
  {
   "cell_type": "code",
   "execution_count": 33,
   "metadata": {},
   "outputs": [
    {
     "data": {
      "text/plain": [
       "(min = 4.7, max = 18.0)"
      ]
     },
     "execution_count": 33,
     "metadata": {},
     "output_type": "execute_result"
    }
   ],
   "source": [
    "# min and max values on column :WCC\n",
    "# NOTE: we pass a tuple to reduce\n",
    "\n",
    "reduce((min, max), table_2, select = :WCC)"
   ]
  },
  {
   "cell_type": "code",
   "execution_count": 41,
   "metadata": {},
   "outputs": [
    {
     "data": {
      "text/plain": [
       "(Mean = Mean: n=10 | value=11.89, Variance = Variance: n=10 | value=14.0166)"
      ]
     },
     "execution_count": 41,
     "metadata": {},
     "output_type": "execute_result"
    }
   ],
   "source": [
    "reduce((Mean(), Variance()), table_2, select = :WCC) # using function from OnlineStats package"
   ]
  },
  {
   "cell_type": "markdown",
   "metadata": {},
   "source": [
    "## Grouping\n",
    "\n",
    "ref. https://www.youtube.com/watch?v=hU7N-EWnC2A, Grouping in JuliaDB to calculate descriptive statistics  "
   ]
  },
  {
   "cell_type": "code",
   "execution_count": 42,
   "metadata": {},
   "outputs": [
    {
     "data": {
      "text/plain": [
       "Table with 3 rows, 2 columns:\n",
       "\u001b[1mGROUP  \u001b[22mMean\n",
       "────────────────────────────────\n",
       "\"I\"    Mean: n=4 | value=15.0\n",
       "\"II\"   Mean: n=3 | value=17.6\n",
       "\"III\"  Mean: n=3 | value=20.2667"
      ]
     },
     "execution_count": 42,
     "metadata": {},
     "output_type": "execute_result"
    }
   ],
   "source": [
    "# Calculate the mean of HB per group\n",
    "groupreduce(Mean(), table_2, :GROUP, select = :HB)"
   ]
  },
  {
   "cell_type": "code",
   "execution_count": 44,
   "metadata": {},
   "outputs": [
    {
     "data": {
      "text/plain": [
       "Table with 3 rows, 2 columns:\n",
       "\u001b[1mGROUP  \u001b[22mVariance\n",
       "─────────────────────────────────────\n",
       "\"I\"    Variance: n=4 | value=0.273333\n",
       "\"II\"   Variance: n=3 | value=48.67\n",
       "\"III\"  Variance: n=3 | value=5.50333"
      ]
     },
     "execution_count": 44,
     "metadata": {},
     "output_type": "execute_result"
    }
   ],
   "source": [
    "groupreduce(Variance(), table_2, :GROUP, select = :HB)"
   ]
  },
  {
   "cell_type": "code",
   "execution_count": 45,
   "metadata": {},
   "outputs": [
    {
     "name": "stderr",
     "output_type": "stream",
     "text": [
      "┌ Warning: `quantile(v::AbstractArray{<:Real})` is deprecated, use `quantile(v, [0.0, 0.25, 0.5, 0.75, 1.0])` instead.\n",
      "│   caller = _apply at columns.jl:582 [inlined]\n",
      "└ @ Core /home/pascal/.julia/packages/IndexedTables/5U0Ap/src/columns.jl:582\n"
     ]
    },
    {
     "data": {
      "text/plain": [
       "Table with 3 rows, 6 columns:\n",
       "\u001b[1mGROUP  \u001b[22mmean     median  std       var       quantile\n",
       "──────────────────────────────────────────────────────────────────────────────\n",
       "\"I\"    15.0     15.0    0.522813  0.273333  [14.5, 14.575, 15.0, 15.425, 15.5]\n",
       "\"II\"   17.6     18.3    6.97639   48.67     [10.3, 14.3, 18.3, 21.25, 24.2]\n",
       "\"III\"  20.2667  20.8    2.34592   5.50333   [17.7, 19.25, 20.8, 21.55, 22.3]"
      ]
     },
     "execution_count": 45,
     "metadata": {},
     "output_type": "execute_result"
    }
   ],
   "source": [
    "groupby((mean, median, std, var, quantile), table_2, :GROUP, select = :HB)"
   ]
  },
  {
   "cell_type": "markdown",
   "metadata": {},
   "source": [
    "## Joining 2 tables\n",
    "\n",
    "ref. https://www.youtube.com/watch?v=CIBxY7PUjc0, Joining 2 tables  "
   ]
  },
  {
   "cell_type": "code",
   "execution_count": 46,
   "metadata": {},
   "outputs": [
    {
     "data": {
      "text/plain": [
       "Table with 10 rows, 2 columns:\n",
       "\u001b[1mID  \u001b[22mAGE\n",
       "───────\n",
       "1   39\n",
       "2   38\n",
       "3   54\n",
       "4   40\n",
       "5   51\n",
       "6   77\n",
       "7   28\n",
       "8   95\n",
       "9   70\n",
       "10  62"
      ]
     },
     "execution_count": 46,
     "metadata": {},
     "output_type": "execute_result"
    }
   ],
   "source": [
    "left_table = table(ids, ages, names = [:ID, :AGE], pkey = :ID)"
   ]
  },
  {
   "cell_type": "code",
   "execution_count": 48,
   "metadata": {},
   "outputs": [
    {
     "data": {
      "text/plain": [
       "Table with 15 rows, 2 columns:\n",
       "\u001b[1mID  \u001b[22mGROUP\n",
       "─────────\n",
       "1   132\n",
       "2   99\n",
       "3   107\n",
       "4   101\n",
       "5   140\n",
       "6   92\n",
       "7   130\n",
       "8   128\n",
       "9   89\n",
       "10  98\n",
       "11  89\n",
       "12  105\n",
       "13  103\n",
       "14  122\n",
       "15  81"
      ]
     },
     "execution_count": 48,
     "metadata": {},
     "output_type": "execute_result"
    }
   ],
   "source": [
    "right_table = table(collect(1:15), round.(Int16, rand(Normal(100, 20), 15)), names = [:ID, :GROUP], pkey = :ID)"
   ]
  },
  {
   "cell_type": "code",
   "execution_count": 49,
   "metadata": {},
   "outputs": [
    {
     "data": {
      "text/plain": [
       "Table with 10 rows, 3 columns:\n",
       "\u001b[1mID  \u001b[22mAGE  GROUP\n",
       "──────────────\n",
       "1   39   132\n",
       "2   38   99\n",
       "3   54   107\n",
       "4   40   101\n",
       "5   51   140\n",
       "6   77   92\n",
       "7   28   130\n",
       "8   95   128\n",
       "9   70   89\n",
       "10  62   98"
      ]
     },
     "execution_count": 49,
     "metadata": {},
     "output_type": "execute_result"
    }
   ],
   "source": [
    "join(left_table, right_table) # inner-join the 2 tables on ID"
   ]
  },
  {
   "cell_type": "code",
   "execution_count": 50,
   "metadata": {},
   "outputs": [
    {
     "data": {
      "text/plain": [
       "Table with 10 rows, 3 columns:\n",
       "\u001b[1mID  \u001b[22mGROUP  AGE\n",
       "──────────────\n",
       "1   132    39\n",
       "2   99     38\n",
       "3   107    54\n",
       "4   101    40\n",
       "5   140    51\n",
       "6   92     77\n",
       "7   130    28\n",
       "8   128    95\n",
       "9   89     70\n",
       "10  98     62"
      ]
     },
     "execution_count": 50,
     "metadata": {},
     "output_type": "execute_result"
    }
   ],
   "source": [
    "join(right_table, left_table) # inner-join the 2 tables on ID"
   ]
  },
  {
   "cell_type": "code",
   "execution_count": 51,
   "metadata": {},
   "outputs": [
    {
     "data": {
      "text/plain": [
       "Table with 10 rows, 3 columns:\n",
       "\u001b[1mID  \u001b[22mAGE  GROUP\n",
       "──────────────\n",
       "1   39   132\n",
       "2   38   99\n",
       "3   54   107\n",
       "4   40   101\n",
       "5   51   140\n",
       "6   77   92\n",
       "7   28   130\n",
       "8   95   128\n",
       "9   70   89\n",
       "10  62   98"
      ]
     },
     "execution_count": 51,
     "metadata": {},
     "output_type": "execute_result"
    }
   ],
   "source": [
    "join(left_table, right_table, how = :left) # inner-join the 2 tables on ID, from left table"
   ]
  },
  {
   "cell_type": "code",
   "execution_count": 52,
   "metadata": {},
   "outputs": [
    {
     "data": {
      "text/plain": [
       "Table with 15 rows, 3 columns:\n",
       "\u001b[1mID  \u001b[22mAGE      GROUP\n",
       "──────────────────\n",
       "1   39       132\n",
       "2   38       99\n",
       "3   54       107\n",
       "4   40       101\n",
       "5   51       140\n",
       "6   77       92\n",
       "7   28       130\n",
       "8   95       128\n",
       "9   70       89\n",
       "10  62       98\n",
       "11  missing  89\n",
       "12  missing  105\n",
       "13  missing  103\n",
       "14  missing  122\n",
       "15  missing  81"
      ]
     },
     "execution_count": 52,
     "metadata": {},
     "output_type": "execute_result"
    }
   ],
   "source": [
    "join(left_table, right_table, how = :outer) # outer-join left and right table on ID "
   ]
  },
  {
   "cell_type": "code",
   "execution_count": 53,
   "metadata": {},
   "outputs": [
    {
     "data": {
      "text/plain": [
       "Table with 5 rows, 2 columns:\n",
       "\u001b[1mID  \u001b[22mGROUP\n",
       "─────────\n",
       "11  89\n",
       "12  105\n",
       "13  103\n",
       "14  122\n",
       "15  81"
      ]
     },
     "execution_count": 53,
     "metadata": {},
     "output_type": "execute_result"
    }
   ],
   "source": [
    "join(right_table, left_table, how = :anti) # only tuple that have no id in right table"
   ]
  },
  {
   "cell_type": "markdown",
   "metadata": {},
   "source": [
    "## Loading a CSV file\n",
    "\n",
    "ref. https://www.youtube.com/watch?v=slL_oj5Dmzc, Importing a csv file in JuliaDB  "
   ]
  },
  {
   "cell_type": "code",
   "execution_count": 71,
   "metadata": {},
   "outputs": [
    {
     "data": {
      "text/plain": [
       "Table with 506 rows, 14 columns:\n",
       "Columns:\n",
       "\u001b[1m#   \u001b[22m\u001b[1mcolname  \u001b[22m\u001b[1mtype\u001b[22m\n",
       "────────────────────\n",
       "1   506      Float64\n",
       "2   13       Float64\n",
       "3   CRIM     Float64\n",
       "4   ZN       Int64\n",
       "5   INDUS    Float64\n",
       "6   CHAS     Float64\n",
       "7   NOX      Float64\n",
       "8   RM       Float64\n",
       "9   AGE      Int64\n",
       "10  DIS      Int64\n",
       "11  RAD      Float64\n",
       "12  TAX      Float64\n",
       "13  PTRATIO  Float64\n",
       "14  B        Float64"
      ]
     },
     "execution_count": 71,
     "metadata": {},
     "output_type": "execute_result"
    }
   ],
   "source": [
    "# csv file is in the current directory\n",
    "db = loadtable(\"Data.csv\", header_exists = true)"
   ]
  },
  {
   "cell_type": "code",
   "execution_count": 70,
   "metadata": {},
   "outputs": [
    {
     "data": {
      "text/plain": [
       "(506 = 0.00632, 13 = 18.0, CRIM = 2.31, ZN = 0, INDUS = 0.538, CHAS = 6.575, NOX = 65.2, RM = 4.09, AGE = 1, DIS = 296, RAD = 15.3, TAX = 396.9, PTRATIO = 4.98, B = 24.0)"
      ]
     },
     "execution_count": 70,
     "metadata": {},
     "output_type": "execute_result"
    }
   ],
   "source": [
    "db[1]"
   ]
  },
  {
   "cell_type": "code",
   "execution_count": 78,
   "metadata": {},
   "outputs": [
    {
     "data": {
      "text/plain": [
       "Table with 455 rows, 6 columns:\n",
       "Columns:\n",
       "\u001b[1m#  \u001b[22m\u001b[1mcolname   \u001b[22m\u001b[1mtype\u001b[22m\n",
       "─────────────────────────────\n",
       "1  PTRATIO   Float64\n",
       "2  mean      Float64\n",
       "3  median    Float64\n",
       "4  std       Float64\n",
       "5  var       Float64\n",
       "6  quantile  Array{Float64,1}"
      ]
     },
     "execution_count": 78,
     "metadata": {},
     "output_type": "execute_result"
    }
   ],
   "source": [
    "t = groupby((mean, median, std, var, quantile), db, 13, select = :CRIM)"
   ]
  },
  {
   "cell_type": "code",
   "execution_count": 81,
   "metadata": {},
   "outputs": [
    {
     "data": {
      "text/plain": [
       "455"
      ]
     },
     "execution_count": 81,
     "metadata": {},
     "output_type": "execute_result"
    }
   ],
   "source": [
    "length(t)"
   ]
  },
  {
   "cell_type": "code",
   "execution_count": 79,
   "metadata": {},
   "outputs": [
    {
     "data": {
      "text/plain": [
       "(PTRATIO = 1.92, mean = 19.58, median = 19.58, std = NaN, var = NaN, quantile = [19.58, 19.58, 19.58, 19.58, 19.58])"
      ]
     },
     "execution_count": 79,
     "metadata": {},
     "output_type": "execute_result"
    }
   ],
   "source": [
    "t[2]"
   ]
  },
  {
   "cell_type": "code",
   "execution_count": 80,
   "metadata": {},
   "outputs": [
    {
     "data": {
      "text/plain": [
       "(PTRATIO = 1.73, mean = 19.58, median = 19.58, std = NaN, var = NaN, quantile = [19.58, 19.58, 19.58, 19.58, 19.58])"
      ]
     },
     "execution_count": 80,
     "metadata": {},
     "output_type": "execute_result"
    }
   ],
   "source": [
    "t[1]"
   ]
  },
  {
   "cell_type": "code",
   "execution_count": 82,
   "metadata": {},
   "outputs": [
    {
     "data": {
      "text/plain": [
       "Table with 10 rows, 6 columns:\n",
       "\u001b[1mPTRATIO  \u001b[22mmean   median  std  var  quantile\n",
       "─────────────────────────────────────────────────────────────────────\n",
       "1.73     19.58  19.58   NaN  NaN  [19.58, 19.58, 19.58, 19.58, 19.58]\n",
       "1.92     19.58  19.58   NaN  NaN  [19.58, 19.58, 19.58, 19.58, 19.58]\n",
       "1.98     2.95   2.95    NaN  NaN  [2.95, 2.95, 2.95, 2.95, 2.95]\n",
       "2.47     6.2    6.2     NaN  NaN  [6.2, 6.2, 6.2, 6.2, 6.2]\n",
       "2.87     3.44   3.44    NaN  NaN  [3.44, 3.44, 3.44, 3.44, 3.44]\n",
       "2.88     2.68   2.68    NaN  NaN  [2.68, 2.68, 2.68, 2.68, 2.68]\n",
       "2.94     2.18   2.18    NaN  NaN  [2.18, 2.18, 2.18, 2.18, 2.18]\n",
       "2.96     18.1   18.1    NaN  NaN  [18.1, 18.1, 18.1, 18.1, 18.1]\n",
       "2.97     0.46   0.46    NaN  NaN  [0.46, 0.46, 0.46, 0.46, 0.46]\n",
       "2.98     6.41   6.41    NaN  NaN  [6.41, 6.41, 6.41, 6.41, 6.41]"
      ]
     },
     "execution_count": 82,
     "metadata": {},
     "output_type": "execute_result"
    }
   ],
   "source": [
    "t[1:10]"
   ]
  },
  {
   "cell_type": "code",
   "execution_count": 93,
   "metadata": {},
   "outputs": [
    {
     "data": {
      "text/plain": [
       "Table with 486 rows, 14 columns:\n",
       "Columns:\n",
       "\u001b[1m#   \u001b[22m\u001b[1mcolname  \u001b[22m\u001b[1mtype\u001b[22m\n",
       "────────────────────\n",
       "1   506      Float64\n",
       "2   13       Float64\n",
       "3   CRIM     Float64\n",
       "4   ZN       Int64\n",
       "5   INDUS    Float64\n",
       "6   CHAS     Float64\n",
       "7   NOX      Float64\n",
       "8   RM       Float64\n",
       "9   AGE      Int64\n",
       "10  DIS      Int64\n",
       "11  RAD      Float64\n",
       "12  TAX      Float64\n",
       "13  PTRATIO  Float64\n",
       "14  B        Float64"
      ]
     },
     "execution_count": 93,
     "metadata": {},
     "output_type": "execute_result"
    }
   ],
   "source": [
    "n_t = filter(t -> t.CRIM > 2., db)"
   ]
  },
  {
   "cell_type": "code",
   "execution_count": 96,
   "metadata": {},
   "outputs": [
    {
     "data": {
      "text/plain": [
       "(486, IndexedTable{StructArrays.StructArray{NamedTuple{(Symbol(\"506\"), Symbol(\"13\"), :CRIM, :ZN, :INDUS, :CHAS, :NOX, :RM, :AGE, :DIS, :RAD, :TAX, :PTRATIO, :B),Tuple{Float64,Float64,Float64,Int64,Float64,Float64,Float64,Float64,Int64,Int64,Float64,Float64,Float64,Float64}},1,NamedTuple{(Symbol(\"506\"), Symbol(\"13\"), :CRIM, :ZN, :INDUS, :CHAS, :NOX, :RM, :AGE, :DIS, :RAD, :TAX, :PTRATIO, :B),Tuple{Array{Float64,1},Array{Float64,1},Array{Float64,1},Array{Int64,1},Array{Float64,1},Array{Float64,1},Array{Float64,1},Array{Float64,1},Array{Int64,1},Array{Int64,1},Array{Float64,1},Array{Float64,1},Array{Float64,1},Array{Float64,1}}},Int64}})"
      ]
     },
     "execution_count": 96,
     "metadata": {},
     "output_type": "execute_result"
    }
   ],
   "source": [
    "length(n_t), typeof(n_t)"
   ]
  },
  {
   "cell_type": "code",
   "execution_count": 95,
   "metadata": {},
   "outputs": [
    {
     "data": {
      "text/plain": [
       "Table with 10 rows, 14 columns:\n",
       "Columns:\n",
       "\u001b[1m#   \u001b[22m\u001b[1mcolname  \u001b[22m\u001b[1mtype\u001b[22m\n",
       "────────────────────\n",
       "1   506      Float64\n",
       "2   13       Float64\n",
       "3   CRIM     Float64\n",
       "4   ZN       Int64\n",
       "5   INDUS    Float64\n",
       "6   CHAS     Float64\n",
       "7   NOX      Float64\n",
       "8   RM       Float64\n",
       "9   AGE      Int64\n",
       "10  DIS      Int64\n",
       "11  RAD      Float64\n",
       "12  TAX      Float64\n",
       "13  PTRATIO  Float64\n",
       "14  B        Float64"
      ]
     },
     "execution_count": 95,
     "metadata": {},
     "output_type": "execute_result"
    }
   ],
   "source": [
    "n_t[1:10]"
   ]
  },
  {
   "cell_type": "code",
   "execution_count": 97,
   "metadata": {},
   "outputs": [
    {
     "data": {
      "text/plain": [
       "Table with 4 rows, 3 columns:\n",
       "\u001b[1ma  \u001b[22m\u001b[1mb  \u001b[22mc\n",
       "───────\n",
       "1  1  1\n",
       "1  2  2\n",
       "2  1  3\n",
       "2  2  4"
      ]
     },
     "execution_count": 97,
     "metadata": {},
     "output_type": "execute_result"
    }
   ],
   "source": [
    "t = table([1,1,2,2], [1,2,1,2], [1,2,3,4], names=[:a,:b,:c], pkey = (:a, :b))"
   ]
  },
  {
   "cell_type": "code",
   "execution_count": 98,
   "metadata": {},
   "outputs": [
    {
     "data": {
      "text/plain": [
       "4-element StructArray(::Array{Int64,1}, ::Array{Int64,1}, ::Array{Int64,1}) with eltype NamedTuple{(:a, :b, :c),Tuple{Int64,Int64,Int64}}:\n",
       " (a = 1, b = 1, c = 1)\n",
       " (a = 1, b = 2, c = 2)\n",
       " (a = 2, b = 1, c = 3)\n",
       " (a = 2, b = 2, c = 4)"
      ]
     },
     "execution_count": 98,
     "metadata": {},
     "output_type": "execute_result"
    }
   ],
   "source": [
    "rows(t)"
   ]
  },
  {
   "cell_type": "code",
   "execution_count": 99,
   "metadata": {},
   "outputs": [
    {
     "data": {
      "text/plain": [
       "Table with 7 rows, 3 columns:\n",
       "\u001b[1ma  \u001b[22m\u001b[1mb  \u001b[22mc\n",
       "────────\n",
       "1  1  1\n",
       "1  2  2\n",
       "2  1  3\n",
       "2  2  4\n",
       "5  3  10\n",
       "5  6  20\n",
       "7  3  30"
      ]
     },
     "execution_count": 99,
     "metadata": {},
     "output_type": "execute_result"
    }
   ],
   "source": [
    "n_t = merge(t, \n",
    "        table([5,5,7], [3,6,3], [10,20,30], names=[:a,:b,:c], pkey = (:a, :b)))"
   ]
  },
  {
   "cell_type": "code",
   "execution_count": null,
   "metadata": {},
   "outputs": [],
   "source": []
  }
 ],
 "metadata": {
  "kernelspec": {
   "display_name": "Julia 1.5.3",
   "language": "julia",
   "name": "julia-1.5"
  },
  "language_info": {
   "file_extension": ".jl",
   "mimetype": "application/julia",
   "name": "julia",
   "version": "1.5.3"
  }
 },
 "nbformat": 4,
 "nbformat_minor": 2
}
