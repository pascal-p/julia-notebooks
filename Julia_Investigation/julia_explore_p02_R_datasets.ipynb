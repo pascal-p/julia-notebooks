{
 "cells": [
  {
   "cell_type": "markdown",
   "metadata": {},
   "source": [
    "## Using RDataset package"
   ]
  },
  {
   "cell_type": "code",
   "execution_count": 1,
   "metadata": {
    "scrolled": true
   },
   "outputs": [
    {
     "name": "stderr",
     "output_type": "stream",
     "text": [
      "┌ Info: Precompiling RDatasets [ce6b1742-4840-55fa-b093-852dadbb1d8b]\n",
      "└ @ Base loading.jl:1278\n"
     ]
    },
    {
     "data": {
      "text/html": [
       "<table class=\"data-frame\"><thead><tr><th></th><th>Package</th><th>Dataset</th><th>Title</th><th>Rows</th><th>Columns</th></tr><tr><th></th><th>String</th><th>String</th><th>String</th><th>Int64</th><th>Int64</th></tr></thead><tbody><p>763 rows × 5 columns</p><tr><th>1</th><td>COUNT</td><td>affairs</td><td>affairs</td><td>601</td><td>18</td></tr><tr><th>2</th><td>COUNT</td><td>azdrg112</td><td>azdrg112</td><td>1798</td><td>4</td></tr><tr><th>3</th><td>COUNT</td><td>azpro</td><td>azpro</td><td>3589</td><td>6</td></tr><tr><th>4</th><td>COUNT</td><td>badhealth</td><td>badhealth</td><td>1127</td><td>3</td></tr><tr><th>5</th><td>COUNT</td><td>fasttrakg</td><td>fasttrakg</td><td>15</td><td>9</td></tr><tr><th>6</th><td>COUNT</td><td>lbw</td><td>lbw</td><td>189</td><td>10</td></tr><tr><th>7</th><td>COUNT</td><td>lbwgrp</td><td>lbwgrp</td><td>6</td><td>7</td></tr><tr><th>8</th><td>COUNT</td><td>loomis</td><td>loomis</td><td>410</td><td>11</td></tr><tr><th>9</th><td>COUNT</td><td>mdvis</td><td>mdvis</td><td>2227</td><td>13</td></tr><tr><th>10</th><td>COUNT</td><td>medpar</td><td>medpar</td><td>1495</td><td>10</td></tr><tr><th>11</th><td>COUNT</td><td>rwm</td><td>rwm</td><td>27326</td><td>4</td></tr><tr><th>12</th><td>COUNT</td><td>rwm5yr</td><td>rwm5yr</td><td>19609</td><td>17</td></tr><tr><th>13</th><td>COUNT</td><td>ships</td><td>ships</td><td>40</td><td>7</td></tr><tr><th>14</th><td>COUNT</td><td>titanic</td><td>titanic</td><td>1316</td><td>4</td></tr><tr><th>15</th><td>COUNT</td><td>titanicgrp</td><td>titanicgrp</td><td>12</td><td>5</td></tr><tr><th>16</th><td>Ecdat</td><td>Accident</td><td>Ship Accidents</td><td>40</td><td>5</td></tr><tr><th>17</th><td>Ecdat</td><td>Airline</td><td>Cost for U.S. Airlines</td><td>90</td><td>6</td></tr><tr><th>18</th><td>Ecdat</td><td>Airq</td><td>Air Quality for Californian Metropolitan Areas</td><td>30</td><td>6</td></tr><tr><th>19</th><td>Ecdat</td><td>Benefits</td><td>Unemployement of Blue Collar Workers</td><td>4877</td><td>18</td></tr><tr><th>20</th><td>Ecdat</td><td>Bids</td><td>Bids Received By U.S. Firms</td><td>126</td><td>12</td></tr><tr><th>21</th><td>Ecdat</td><td>BudgetFood</td><td>Budget Share of Food for Spanish Households</td><td>23972</td><td>6</td></tr><tr><th>22</th><td>Ecdat</td><td>BudgetItaly</td><td>Budget Shares for Italian Households</td><td>1729</td><td>11</td></tr><tr><th>23</th><td>Ecdat</td><td>BudgetUK</td><td>Budget Shares of British Households</td><td>1519</td><td>10</td></tr><tr><th>24</th><td>Ecdat</td><td>Bwages</td><td>Wages in Belgium</td><td>1472</td><td>4</td></tr><tr><th>25</th><td>Ecdat</td><td>CPSch3</td><td>Earnings from the Current Population Survey</td><td>11130</td><td>3</td></tr><tr><th>26</th><td>Ecdat</td><td>Capm</td><td>Stock Market Data</td><td>516</td><td>5</td></tr><tr><th>27</th><td>Ecdat</td><td>Car</td><td>Stated Preferences for Car Choice</td><td>4654</td><td>70</td></tr><tr><th>28</th><td>Ecdat</td><td>Caschool</td><td>The California Test Score Data Set</td><td>420</td><td>17</td></tr><tr><th>29</th><td>Ecdat</td><td>Catsup</td><td>Choice of Brand for Catsup</td><td>2798</td><td>14</td></tr><tr><th>30</th><td>Ecdat</td><td>Cigar</td><td>Cigarette Consumption</td><td>1380</td><td>9</td></tr><tr><th>&vellip;</th><td>&vellip;</td><td>&vellip;</td><td>&vellip;</td><td>&vellip;</td><td>&vellip;</td></tr></tbody></table>"
      ],
      "text/latex": [
       "\\begin{tabular}{r|ccccc}\n",
       "\t& Package & Dataset & Title & Rows & Columns\\\\\n",
       "\t\\hline\n",
       "\t& String & String & String & Int64 & Int64\\\\\n",
       "\t\\hline\n",
       "\t1 & COUNT & affairs & affairs & 601 & 18 \\\\\n",
       "\t2 & COUNT & azdrg112 & azdrg112 & 1798 & 4 \\\\\n",
       "\t3 & COUNT & azpro & azpro & 3589 & 6 \\\\\n",
       "\t4 & COUNT & badhealth & badhealth & 1127 & 3 \\\\\n",
       "\t5 & COUNT & fasttrakg & fasttrakg & 15 & 9 \\\\\n",
       "\t6 & COUNT & lbw & lbw & 189 & 10 \\\\\n",
       "\t7 & COUNT & lbwgrp & lbwgrp & 6 & 7 \\\\\n",
       "\t8 & COUNT & loomis & loomis & 410 & 11 \\\\\n",
       "\t9 & COUNT & mdvis & mdvis & 2227 & 13 \\\\\n",
       "\t10 & COUNT & medpar & medpar & 1495 & 10 \\\\\n",
       "\t11 & COUNT & rwm & rwm & 27326 & 4 \\\\\n",
       "\t12 & COUNT & rwm5yr & rwm5yr & 19609 & 17 \\\\\n",
       "\t13 & COUNT & ships & ships & 40 & 7 \\\\\n",
       "\t14 & COUNT & titanic & titanic & 1316 & 4 \\\\\n",
       "\t15 & COUNT & titanicgrp & titanicgrp & 12 & 5 \\\\\n",
       "\t16 & Ecdat & Accident & Ship Accidents & 40 & 5 \\\\\n",
       "\t17 & Ecdat & Airline & Cost for U.S. Airlines & 90 & 6 \\\\\n",
       "\t18 & Ecdat & Airq & Air Quality for Californian Metropolitan Areas & 30 & 6 \\\\\n",
       "\t19 & Ecdat & Benefits & Unemployement of Blue Collar Workers & 4877 & 18 \\\\\n",
       "\t20 & Ecdat & Bids & Bids Received By U.S. Firms & 126 & 12 \\\\\n",
       "\t21 & Ecdat & BudgetFood & Budget Share of Food for Spanish Households & 23972 & 6 \\\\\n",
       "\t22 & Ecdat & BudgetItaly & Budget Shares for Italian Households & 1729 & 11 \\\\\n",
       "\t23 & Ecdat & BudgetUK & Budget Shares of British Households & 1519 & 10 \\\\\n",
       "\t24 & Ecdat & Bwages & Wages in Belgium & 1472 & 4 \\\\\n",
       "\t25 & Ecdat & CPSch3 & Earnings from the Current Population Survey & 11130 & 3 \\\\\n",
       "\t26 & Ecdat & Capm & Stock Market Data & 516 & 5 \\\\\n",
       "\t27 & Ecdat & Car & Stated Preferences for Car Choice & 4654 & 70 \\\\\n",
       "\t28 & Ecdat & Caschool & The California Test Score Data Set & 420 & 17 \\\\\n",
       "\t29 & Ecdat & Catsup & Choice of Brand for Catsup & 2798 & 14 \\\\\n",
       "\t30 & Ecdat & Cigar & Cigarette Consumption & 1380 & 9 \\\\\n",
       "\t$\\dots$ & $\\dots$ & $\\dots$ & $\\dots$ & $\\dots$ & $\\dots$ \\\\\n",
       "\\end{tabular}\n"
      ],
      "text/plain": [
       "763×5 DataFrame\n",
       "│ Row │ Package │ Dataset     │ Title       │ Rows  │ Columns │\n",
       "│     │ \u001b[90mString\u001b[39m  │ \u001b[90mString\u001b[39m      │ \u001b[90mString\u001b[39m      │ \u001b[90mInt64\u001b[39m │ \u001b[90mInt64\u001b[39m   │\n",
       "├─────┼─────────┼─────────────┼─────────────┼───────┼─────────┤\n",
       "│ 1   │ COUNT   │ affairs     │ affairs     │ 601   │ 18      │\n",
       "│ 2   │ COUNT   │ azdrg112    │ azdrg112    │ 1798  │ 4       │\n",
       "│ 3   │ COUNT   │ azpro       │ azpro       │ 3589  │ 6       │\n",
       "│ 4   │ COUNT   │ badhealth   │ badhealth   │ 1127  │ 3       │\n",
       "│ 5   │ COUNT   │ fasttrakg   │ fasttrakg   │ 15    │ 9       │\n",
       "│ 6   │ COUNT   │ lbw         │ lbw         │ 189   │ 10      │\n",
       "│ 7   │ COUNT   │ lbwgrp      │ lbwgrp      │ 6     │ 7       │\n",
       "│ 8   │ COUNT   │ loomis      │ loomis      │ 410   │ 11      │\n",
       "│ 9   │ COUNT   │ mdvis       │ mdvis       │ 2227  │ 13      │\n",
       "│ 10  │ COUNT   │ medpar      │ medpar      │ 1495  │ 10      │\n",
       "⋮\n",
       "│ 753 │ gamair  │ meh         │ meh         │ 1476  │ 24      │\n",
       "│ 754 │ gamair  │ mpg         │ mpg         │ 205   │ 27      │\n",
       "│ 755 │ gamair  │ prostate    │ prostate    │ 654   │ 530     │\n",
       "│ 756 │ gamair  │ sitka       │ sitka       │ 1027  │ 6       │\n",
       "│ 757 │ gamair  │ sole        │ sole        │ 1575  │ 8       │\n",
       "│ 758 │ gamair  │ sperm.comp1 │ sperm.comp1 │ 15    │ 5       │\n",
       "│ 759 │ gamair  │ sperm.comp2 │ sperm.comp2 │ 24    │ 11      │\n",
       "│ 760 │ gamair  │ stomata     │ stomata     │ 24    │ 4       │\n",
       "│ 761 │ gamair  │ swer        │ swer        │ 2196  │ 10      │\n",
       "│ 762 │ gamair  │ wesdr       │ wesdr       │ 669   │ 5       │\n",
       "│ 763 │ gamair  │ wine        │ wine        │ 47    │ 8       │"
      ]
     },
     "execution_count": 1,
     "metadata": {},
     "output_type": "execute_result"
    }
   ],
   "source": [
    "using RDatasets\n",
    "\n",
    "RDatasets.datasets()"
   ]
  },
  {
   "cell_type": "code",
   "execution_count": 2,
   "metadata": {},
   "outputs": [
    {
     "data": {
      "text/html": [
       "<table class=\"data-frame\"><thead><tr><th></th><th>SepalLength</th><th>SepalWidth</th><th>PetalLength</th><th>PetalWidth</th><th>Species</th></tr><tr><th></th><th>Float64</th><th>Float64</th><th>Float64</th><th>Float64</th><th>Cat…</th></tr></thead><tbody><p>10 rows × 5 columns</p><tr><th>1</th><td>5.1</td><td>3.5</td><td>1.4</td><td>0.2</td><td>setosa</td></tr><tr><th>2</th><td>4.9</td><td>3.0</td><td>1.4</td><td>0.2</td><td>setosa</td></tr><tr><th>3</th><td>4.7</td><td>3.2</td><td>1.3</td><td>0.2</td><td>setosa</td></tr><tr><th>4</th><td>4.6</td><td>3.1</td><td>1.5</td><td>0.2</td><td>setosa</td></tr><tr><th>5</th><td>5.0</td><td>3.6</td><td>1.4</td><td>0.2</td><td>setosa</td></tr><tr><th>6</th><td>5.4</td><td>3.9</td><td>1.7</td><td>0.4</td><td>setosa</td></tr><tr><th>7</th><td>4.6</td><td>3.4</td><td>1.4</td><td>0.3</td><td>setosa</td></tr><tr><th>8</th><td>5.0</td><td>3.4</td><td>1.5</td><td>0.2</td><td>setosa</td></tr><tr><th>9</th><td>4.4</td><td>2.9</td><td>1.4</td><td>0.2</td><td>setosa</td></tr><tr><th>10</th><td>4.9</td><td>3.1</td><td>1.5</td><td>0.1</td><td>setosa</td></tr></tbody></table>"
      ],
      "text/latex": [
       "\\begin{tabular}{r|ccccc}\n",
       "\t& SepalLength & SepalWidth & PetalLength & PetalWidth & Species\\\\\n",
       "\t\\hline\n",
       "\t& Float64 & Float64 & Float64 & Float64 & Cat…\\\\\n",
       "\t\\hline\n",
       "\t1 & 5.1 & 3.5 & 1.4 & 0.2 & setosa \\\\\n",
       "\t2 & 4.9 & 3.0 & 1.4 & 0.2 & setosa \\\\\n",
       "\t3 & 4.7 & 3.2 & 1.3 & 0.2 & setosa \\\\\n",
       "\t4 & 4.6 & 3.1 & 1.5 & 0.2 & setosa \\\\\n",
       "\t5 & 5.0 & 3.6 & 1.4 & 0.2 & setosa \\\\\n",
       "\t6 & 5.4 & 3.9 & 1.7 & 0.4 & setosa \\\\\n",
       "\t7 & 4.6 & 3.4 & 1.4 & 0.3 & setosa \\\\\n",
       "\t8 & 5.0 & 3.4 & 1.5 & 0.2 & setosa \\\\\n",
       "\t9 & 4.4 & 2.9 & 1.4 & 0.2 & setosa \\\\\n",
       "\t10 & 4.9 & 3.1 & 1.5 & 0.1 & setosa \\\\\n",
       "\\end{tabular}\n"
      ],
      "text/plain": [
       "10×5 DataFrame\n",
       "│ Row │ SepalLength │ SepalWidth │ PetalLength │ PetalWidth │ Species │\n",
       "│     │ \u001b[90mFloat64\u001b[39m     │ \u001b[90mFloat64\u001b[39m    │ \u001b[90mFloat64\u001b[39m     │ \u001b[90mFloat64\u001b[39m    │ \u001b[90mCat…\u001b[39m    │\n",
       "├─────┼─────────────┼────────────┼─────────────┼────────────┼─────────┤\n",
       "│ 1   │ 5.1         │ 3.5        │ 1.4         │ 0.2        │ setosa  │\n",
       "│ 2   │ 4.9         │ 3.0        │ 1.4         │ 0.2        │ setosa  │\n",
       "│ 3   │ 4.7         │ 3.2        │ 1.3         │ 0.2        │ setosa  │\n",
       "│ 4   │ 4.6         │ 3.1        │ 1.5         │ 0.2        │ setosa  │\n",
       "│ 5   │ 5.0         │ 3.6        │ 1.4         │ 0.2        │ setosa  │\n",
       "│ 6   │ 5.4         │ 3.9        │ 1.7         │ 0.4        │ setosa  │\n",
       "│ 7   │ 4.6         │ 3.4        │ 1.4         │ 0.3        │ setosa  │\n",
       "│ 8   │ 5.0         │ 3.4        │ 1.5         │ 0.2        │ setosa  │\n",
       "│ 9   │ 4.4         │ 2.9        │ 1.4         │ 0.2        │ setosa  │\n",
       "│ 10  │ 4.9         │ 3.1        │ 1.5         │ 0.1        │ setosa  │"
      ]
     },
     "execution_count": 2,
     "metadata": {},
     "output_type": "execute_result"
    }
   ],
   "source": [
    "iris = RDatasets.dataset(\"datasets\", \"iris\")\n",
    "\n",
    "first(iris, 10)"
   ]
  },
  {
   "cell_type": "code",
   "execution_count": 3,
   "metadata": {},
   "outputs": [
    {
     "data": {
      "text/html": [
       "<table class=\"data-frame\"><thead><tr><th></th><th>SepalLength</th><th>SepalWidth</th><th>PetalLength</th><th>PetalWidth</th><th>Species</th></tr><tr><th></th><th>Float64</th><th>Float64</th><th>Float64</th><th>Float64</th><th>Cat…</th></tr></thead><tbody><p>5 rows × 5 columns</p><tr><th>1</th><td>6.7</td><td>3.0</td><td>5.2</td><td>2.3</td><td>virginica</td></tr><tr><th>2</th><td>6.3</td><td>2.5</td><td>5.0</td><td>1.9</td><td>virginica</td></tr><tr><th>3</th><td>6.5</td><td>3.0</td><td>5.2</td><td>2.0</td><td>virginica</td></tr><tr><th>4</th><td>6.2</td><td>3.4</td><td>5.4</td><td>2.3</td><td>virginica</td></tr><tr><th>5</th><td>5.9</td><td>3.0</td><td>5.1</td><td>1.8</td><td>virginica</td></tr></tbody></table>"
      ],
      "text/latex": [
       "\\begin{tabular}{r|ccccc}\n",
       "\t& SepalLength & SepalWidth & PetalLength & PetalWidth & Species\\\\\n",
       "\t\\hline\n",
       "\t& Float64 & Float64 & Float64 & Float64 & Cat…\\\\\n",
       "\t\\hline\n",
       "\t1 & 6.7 & 3.0 & 5.2 & 2.3 & virginica \\\\\n",
       "\t2 & 6.3 & 2.5 & 5.0 & 1.9 & virginica \\\\\n",
       "\t3 & 6.5 & 3.0 & 5.2 & 2.0 & virginica \\\\\n",
       "\t4 & 6.2 & 3.4 & 5.4 & 2.3 & virginica \\\\\n",
       "\t5 & 5.9 & 3.0 & 5.1 & 1.8 & virginica \\\\\n",
       "\\end{tabular}\n"
      ],
      "text/plain": [
       "5×5 DataFrame\n",
       "│ Row │ SepalLength │ SepalWidth │ PetalLength │ PetalWidth │ Species   │\n",
       "│     │ \u001b[90mFloat64\u001b[39m     │ \u001b[90mFloat64\u001b[39m    │ \u001b[90mFloat64\u001b[39m     │ \u001b[90mFloat64\u001b[39m    │ \u001b[90mCat…\u001b[39m      │\n",
       "├─────┼─────────────┼────────────┼─────────────┼────────────┼───────────┤\n",
       "│ 1   │ 6.7         │ 3.0        │ 5.2         │ 2.3        │ virginica │\n",
       "│ 2   │ 6.3         │ 2.5        │ 5.0         │ 1.9        │ virginica │\n",
       "│ 3   │ 6.5         │ 3.0        │ 5.2         │ 2.0        │ virginica │\n",
       "│ 4   │ 6.2         │ 3.4        │ 5.4         │ 2.3        │ virginica │\n",
       "│ 5   │ 5.9         │ 3.0        │ 5.1         │ 1.8        │ virginica │"
      ]
     },
     "execution_count": 3,
     "metadata": {},
     "output_type": "execute_result"
    }
   ],
   "source": [
    " last(iris, 5)"
   ]
  },
  {
   "cell_type": "code",
   "execution_count": 4,
   "metadata": {},
   "outputs": [
    {
     "data": {
      "text/plain": [
       "5-element Array{String,1}:\n",
       " \"SepalLength\"\n",
       " \"SepalWidth\"\n",
       " \"PetalLength\"\n",
       " \"PetalWidth\"\n",
       " \"Species\""
      ]
     },
     "execution_count": 4,
     "metadata": {},
     "output_type": "execute_result"
    }
   ],
   "source": [
    "names(iris)"
   ]
  },
  {
   "cell_type": "code",
   "execution_count": 5,
   "metadata": {},
   "outputs": [
    {
     "data": {
      "text/html": [
       "<table class=\"data-frame\"><thead><tr><th></th><th>variable</th><th>mean</th><th>std</th><th>min</th><th>q25</th><th>median</th><th>q75</th><th>max</th><th>nunique</th></tr><tr><th></th><th>Symbol</th><th>Union…</th><th>Union…</th><th>Any</th><th>Union…</th><th>Union…</th><th>Union…</th><th>Any</th><th>Union…</th></tr></thead><tbody><p>5 rows × 13 columns (omitted printing of 4 columns)</p><tr><th>1</th><td>SepalLength</td><td>5.84333</td><td>0.828066</td><td>4.3</td><td>5.1</td><td>5.8</td><td>6.4</td><td>7.9</td><td></td></tr><tr><th>2</th><td>SepalWidth</td><td>3.05733</td><td>0.435866</td><td>2.0</td><td>2.8</td><td>3.0</td><td>3.3</td><td>4.4</td><td></td></tr><tr><th>3</th><td>PetalLength</td><td>3.758</td><td>1.7653</td><td>1.0</td><td>1.6</td><td>4.35</td><td>5.1</td><td>6.9</td><td></td></tr><tr><th>4</th><td>PetalWidth</td><td>1.19933</td><td>0.762238</td><td>0.1</td><td>0.3</td><td>1.3</td><td>1.8</td><td>2.5</td><td></td></tr><tr><th>5</th><td>Species</td><td></td><td></td><td>setosa</td><td></td><td></td><td></td><td>virginica</td><td>3</td></tr></tbody></table>"
      ],
      "text/latex": [
       "\\begin{tabular}{r|cccccccccc}\n",
       "\t& variable & mean & std & min & q25 & median & q75 & max & nunique & \\\\\n",
       "\t\\hline\n",
       "\t& Symbol & Union… & Union… & Any & Union… & Union… & Union… & Any & Union… & \\\\\n",
       "\t\\hline\n",
       "\t1 & SepalLength & 5.84333 & 0.828066 & 4.3 & 5.1 & 5.8 & 6.4 & 7.9 &  & $\\dots$ \\\\\n",
       "\t2 & SepalWidth & 3.05733 & 0.435866 & 2.0 & 2.8 & 3.0 & 3.3 & 4.4 &  & $\\dots$ \\\\\n",
       "\t3 & PetalLength & 3.758 & 1.7653 & 1.0 & 1.6 & 4.35 & 5.1 & 6.9 &  & $\\dots$ \\\\\n",
       "\t4 & PetalWidth & 1.19933 & 0.762238 & 0.1 & 0.3 & 1.3 & 1.8 & 2.5 &  & $\\dots$ \\\\\n",
       "\t5 & Species &  &  & setosa &  &  &  & virginica & 3 & $\\dots$ \\\\\n",
       "\\end{tabular}\n"
      ],
      "text/plain": [
       "5×13 DataFrame. Omitted printing of 6 columns\n",
       "│ Row │ variable    │ mean    │ std      │ min    │ q25    │ median │ q75    │\n",
       "│     │ \u001b[90mSymbol\u001b[39m      │ \u001b[90mUnion…\u001b[39m  │ \u001b[90mUnion…\u001b[39m   │ \u001b[90mAny\u001b[39m    │ \u001b[90mUnion…\u001b[39m │ \u001b[90mUnion…\u001b[39m │ \u001b[90mUnion…\u001b[39m │\n",
       "├─────┼─────────────┼─────────┼──────────┼────────┼────────┼────────┼────────┤\n",
       "│ 1   │ SepalLength │ 5.84333 │ 0.828066 │ 4.3    │ 5.1    │ 5.8    │ 6.4    │\n",
       "│ 2   │ SepalWidth  │ 3.05733 │ 0.435866 │ 2.0    │ 2.8    │ 3.0    │ 3.3    │\n",
       "│ 3   │ PetalLength │ 3.758   │ 1.7653   │ 1.0    │ 1.6    │ 4.35   │ 5.1    │\n",
       "│ 4   │ PetalWidth  │ 1.19933 │ 0.762238 │ 0.1    │ 0.3    │ 1.3    │ 1.8    │\n",
       "│ 5   │ Species     │         │          │ setosa │        │        │        │"
      ]
     },
     "execution_count": 5,
     "metadata": {},
     "output_type": "execute_result"
    }
   ],
   "source": [
    "describe(iris, :all)"
   ]
  },
  {
   "cell_type": "code",
   "execution_count": 6,
   "metadata": {},
   "outputs": [
    {
     "data": {
      "text/html": [
       "<table class=\"data-frame\"><thead><tr><th></th><th>variable</th><th>q25</th><th>q75</th><th>first</th><th>last</th><th>mean</th><th>median</th></tr><tr><th></th><th>Symbol</th><th>Union…</th><th>Union…</th><th>Any</th><th>Any</th><th>Union…</th><th>Union…</th></tr></thead><tbody><p>5 rows × 7 columns</p><tr><th>1</th><td>SepalLength</td><td>5.1</td><td>6.4</td><td>5.1</td><td>5.9</td><td>5.84333</td><td>5.8</td></tr><tr><th>2</th><td>SepalWidth</td><td>2.8</td><td>3.3</td><td>3.5</td><td>3.0</td><td>3.05733</td><td>3.0</td></tr><tr><th>3</th><td>PetalLength</td><td>1.6</td><td>5.1</td><td>1.4</td><td>5.1</td><td>3.758</td><td>4.35</td></tr><tr><th>4</th><td>PetalWidth</td><td>0.3</td><td>1.8</td><td>0.2</td><td>1.8</td><td>1.19933</td><td>1.3</td></tr><tr><th>5</th><td>Species</td><td></td><td></td><td>setosa</td><td>virginica</td><td></td><td></td></tr></tbody></table>"
      ],
      "text/latex": [
       "\\begin{tabular}{r|ccccccc}\n",
       "\t& variable & q25 & q75 & first & last & mean & median\\\\\n",
       "\t\\hline\n",
       "\t& Symbol & Union… & Union… & Any & Any & Union… & Union…\\\\\n",
       "\t\\hline\n",
       "\t1 & SepalLength & 5.1 & 6.4 & 5.1 & 5.9 & 5.84333 & 5.8 \\\\\n",
       "\t2 & SepalWidth & 2.8 & 3.3 & 3.5 & 3.0 & 3.05733 & 3.0 \\\\\n",
       "\t3 & PetalLength & 1.6 & 5.1 & 1.4 & 5.1 & 3.758 & 4.35 \\\\\n",
       "\t4 & PetalWidth & 0.3 & 1.8 & 0.2 & 1.8 & 1.19933 & 1.3 \\\\\n",
       "\t5 & Species &  &  & setosa & virginica &  &  \\\\\n",
       "\\end{tabular}\n"
      ],
      "text/plain": [
       "5×7 DataFrame\n",
       "│ Row │ variable    │ q25    │ q75    │ first  │ last      │ mean    │ median │\n",
       "│     │ \u001b[90mSymbol\u001b[39m      │ \u001b[90mUnion…\u001b[39m │ \u001b[90mUnion…\u001b[39m │ \u001b[90mAny\u001b[39m    │ \u001b[90mAny\u001b[39m       │ \u001b[90mUnion…\u001b[39m  │ \u001b[90mUnion…\u001b[39m │\n",
       "├─────┼─────────────┼────────┼────────┼────────┼───────────┼─────────┼────────┤\n",
       "│ 1   │ SepalLength │ 5.1    │ 6.4    │ 5.1    │ 5.9       │ 5.84333 │ 5.8    │\n",
       "│ 2   │ SepalWidth  │ 2.8    │ 3.3    │ 3.5    │ 3.0       │ 3.05733 │ 3.0    │\n",
       "│ 3   │ PetalLength │ 1.6    │ 5.1    │ 1.4    │ 5.1       │ 3.758   │ 4.35   │\n",
       "│ 4   │ PetalWidth  │ 0.3    │ 1.8    │ 0.2    │ 1.8       │ 1.19933 │ 1.3    │\n",
       "│ 5   │ Species     │        │        │ setosa │ virginica │         │        │"
      ]
     },
     "execution_count": 6,
     "metadata": {},
     "output_type": "execute_result"
    }
   ],
   "source": [
    "describe(iris, :q25, :q75, :first, :last, :mean, :median)  # subset of statistics"
   ]
  },
  {
   "cell_type": "code",
   "execution_count": 7,
   "metadata": {},
   "outputs": [
    {
     "data": {
      "text/html": [
       "<table class=\"data-frame\"><thead><tr><th></th><th>Species</th><th>nrow</th></tr><tr><th></th><th>Cat…</th><th>Int64</th></tr></thead><tbody><p>3 rows × 2 columns</p><tr><th>1</th><td>setosa</td><td>50</td></tr><tr><th>2</th><td>versicolor</td><td>50</td></tr><tr><th>3</th><td>virginica</td><td>50</td></tr></tbody></table>"
      ],
      "text/latex": [
       "\\begin{tabular}{r|cc}\n",
       "\t& Species & nrow\\\\\n",
       "\t\\hline\n",
       "\t& Cat… & Int64\\\\\n",
       "\t\\hline\n",
       "\t1 & setosa & 50 \\\\\n",
       "\t2 & versicolor & 50 \\\\\n",
       "\t3 & virginica & 50 \\\\\n",
       "\\end{tabular}\n"
      ],
      "text/plain": [
       "3×2 DataFrame\n",
       "│ Row │ Species    │ nrow  │\n",
       "│     │ \u001b[90mCat…\u001b[39m       │ \u001b[90mInt64\u001b[39m │\n",
       "├─────┼────────────┼───────┤\n",
       "│ 1   │ setosa     │ 50    │\n",
       "│ 2   │ versicolor │ 50    │\n",
       "│ 3   │ virginica  │ 50    │"
      ]
     },
     "execution_count": 7,
     "metadata": {},
     "output_type": "execute_result"
    }
   ],
   "source": [
    "by(iris, :Species, nrow)"
   ]
  },
  {
   "cell_type": "code",
   "execution_count": 8,
   "metadata": {},
   "outputs": [
    {
     "data": {
      "text/plain": [
       "4-element Array{String,1}:\n",
       " \"SepalLength\"\n",
       " \"SepalWidth\"\n",
       " \"PetalLength\"\n",
       " \"PetalWidth\""
      ]
     },
     "execution_count": 8,
     "metadata": {},
     "output_type": "execute_result"
    }
   ],
   "source": [
    "names(iris[!, 1:end-1])"
   ]
  },
  {
   "cell_type": "code",
   "execution_count": 9,
   "metadata": {},
   "outputs": [
    {
     "name": "stdout",
     "output_type": "stream",
     "text": [
      "feature \t feature \t corr \t\t covar.\n",
      "___________________________________________________________\n",
      "SepalLength \t SepalLength \t +1.0000000 \t +0.6856935\n",
      "SepalLength \t SepalWidth \t -0.1175698 \t -0.0424340\n",
      "SepalLength \t PetalLength \t +0.8717538 \t +1.2743154\n",
      "SepalLength \t PetalWidth \t +0.8179411 \t +0.5162707\n",
      "___________________________________________________________\n",
      "SepalWidth \t SepalLength \t -0.1175698 \t -0.0424340\n",
      "SepalWidth \t SepalWidth \t +1.0000000 \t +0.1899794\n",
      "SepalWidth \t PetalLength \t -0.4284401 \t -0.3296564\n",
      "SepalWidth \t PetalWidth \t -0.3661259 \t -0.1216394\n",
      "___________________________________________________________\n",
      "PetalLength \t SepalLength \t +0.8717538 \t +1.2743154\n",
      "PetalLength \t SepalWidth \t -0.4284401 \t -0.3296564\n",
      "PetalLength \t PetalLength \t +1.0000000 \t +3.1162779\n",
      "PetalLength \t PetalWidth \t +0.9628654 \t +1.2956094\n",
      "___________________________________________________________\n",
      "PetalWidth \t SepalLength \t +0.8179411 \t +0.5162707\n",
      "PetalWidth \t SepalWidth \t -0.3661259 \t -0.1216394\n",
      "PetalWidth \t PetalLength \t +0.9628654 \t +1.2956094\n",
      "PetalWidth \t PetalWidth \t +1.0000000 \t +0.5810063\n",
      "___________________________________________________________\n"
     ]
    }
   ],
   "source": [
    "using Statistics\n",
    "using Printf\n",
    "\n",
    "# we do not want the last column `Species` which is not numeric\n",
    "println(\"feature \\t feature \\t corr \\t\\t covar.\")\n",
    "println(\"___________________________________________________________\")\n",
    "_names = names(iris)[1:end-1] # names(iris[!, 1:end-1])\n",
    "\n",
    "for x in _names\n",
    "    for y in _names\n",
    "        s_cor_v = @sprintf(\"%+2.7f\", cor(iris[!, x], iris[!, y]))\n",
    "        s_cov_v = @sprintf(\"%+2.7f\", cov(iris[!, x], iris[!, y]))\n",
    "        println(\"$x \\t $y \\t $s_cor_v \\t $s_cov_v\")\n",
    "    end\n",
    "    println(\"___________________________________________________________\")\n",
    "end"
   ]
  },
  {
   "cell_type": "code",
   "execution_count": 10,
   "metadata": {},
   "outputs": [
    {
     "data": {
      "text/plain": [
       "7-element Array{Float64,1}:\n",
       " 6.7\n",
       " 6.7\n",
       " 5.1\n",
       " 5.7\n",
       " 5.9\n",
       " 5.6\n",
       " 5.8"
      ]
     },
     "execution_count": 10,
     "metadata": {},
     "output_type": "execute_result"
    }
   ],
   "source": [
    "# Give 7 samples randomly chosen (for feature SepalLength)\n",
    "\n",
    "rand(iris[!, :SepalLength], 7)"
   ]
  }
 ],
 "metadata": {
  "kernelspec": {
   "display_name": "Julia 1.5.3",
   "language": "julia",
   "name": "julia-1.5"
  },
  "language_info": {
   "file_extension": ".jl",
   "mimetype": "application/julia",
   "name": "julia",
   "version": "1.5.3"
  }
 },
 "nbformat": 4,
 "nbformat_minor": 2
}
