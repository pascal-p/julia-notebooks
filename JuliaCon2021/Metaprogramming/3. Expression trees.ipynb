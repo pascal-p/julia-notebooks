{
 "cells": [
  {
   "cell_type": "markdown",
   "metadata": {},
   "source": [
    "# Manipulating expression trees"
   ]
  },
  {
   "cell_type": "markdown",
   "metadata": {},
   "source": [
    "## Structure of complex expressions"
   ]
  },
  {
   "cell_type": "markdown",
   "metadata": {},
   "source": [
    "Recall from the previous notebook that we want to know how Julia represents a complex expression with more than one operation, e.g.:"
   ]
  },
  {
   "cell_type": "code",
   "execution_count": 1,
   "metadata": {},
   "outputs": [
    {
     "data": {
      "text/plain": [
       ":(x + y * z)"
      ]
     },
     "execution_count": 1,
     "metadata": {},
     "output_type": "execute_result"
    }
   ],
   "source": [
    "ex = :(x + y * z)"
   ]
  },
  {
   "cell_type": "markdown",
   "metadata": {},
   "source": [
    "As usual, we can use `dump` to see the structure:"
   ]
  },
  {
   "cell_type": "code",
   "execution_count": 2,
   "metadata": {},
   "outputs": [
    {
     "name": "stdout",
     "output_type": "stream",
     "text": [
      "Expr\n",
      "  head: Symbol call\n",
      "  args: Array{Any}((3,))\n",
      "    1: Symbol +\n",
      "    2: Symbol x\n",
      "    3: Expr\n",
      "      head: Symbol call\n",
      "      args: Array{Any}((3,))\n",
      "        1: Symbol *\n",
      "        2: Symbol y\n",
      "        3: Symbol z\n"
     ]
    }
   ],
   "source": [
    "dump(ex)"
   ]
  },
  {
   "cell_type": "markdown",
   "metadata": {},
   "source": [
    "We see that indeed we have *one `Expr` object embedded into another!* That is, one of the `args` of the top-level expression `ex` is *another* object of type `Expr`:"
   ]
  },
  {
   "cell_type": "code",
   "execution_count": 3,
   "metadata": {},
   "outputs": [
    {
     "data": {
      "text/plain": [
       ":(y * z)"
      ]
     },
     "execution_count": 3,
     "metadata": {},
     "output_type": "execute_result"
    }
   ],
   "source": [
    "ex.args[3]"
   ]
  },
  {
   "cell_type": "code",
   "execution_count": 4,
   "metadata": {},
   "outputs": [
    {
     "data": {
      "text/plain": [
       "Expr"
      ]
     },
     "execution_count": 4,
     "metadata": {},
     "output_type": "execute_result"
    }
   ],
   "source": [
    "typeof(ex.args[3])"
   ]
  },
  {
   "cell_type": "markdown",
   "metadata": {},
   "source": [
    "We can say that the `Expr` type in Julia is a [**recursive data type**](https://en.wikipedia.org/wiki/Recursive_data_type#:~:text=In%20computer%20programming%20languages%2C%20a,usually%20viewed%20as%20directed%20graphs.): an object of type `Expr` can contain other `Expr` objects! This is another good reason why the type of the `args` field is a vector of `Any`!\n",
    "\n",
    "This fact has important implications for how we need to work with `Expr` objects."
   ]
  },
  {
   "cell_type": "markdown",
   "metadata": {},
   "source": [
    "Another example is an assignment:"
   ]
  },
  {
   "cell_type": "code",
   "execution_count": 5,
   "metadata": {},
   "outputs": [
    {
     "name": "stdout",
     "output_type": "stream",
     "text": [
      "Expr\n",
      "  head: Symbol =\n",
      "  args: Array{Any}((2,))\n",
      "    1: Symbol x\n",
      "    2: Expr\n",
      "      head: Symbol call\n",
      "      args: Array{Any}((3,))\n",
      "        1: Symbol +\n",
      "        2: Symbol y\n",
      "        3: Symbol z\n"
     ]
    }
   ],
   "source": [
    "dump( :(x = y + z) )"
   ]
  },
  {
   "cell_type": "markdown",
   "metadata": {},
   "source": [
    "As we have seen, any piece of code that is more complicated than a single function call has a **hierarchical**, or **nested** structure, with `Expr`s contained inside other `Expr`s. In this section we will see how to manipulate such structures. It is common to think of them as **trees**, called **abstract syntax trees** or **ASTs**, or **computational graphs**."
   ]
  },
  {
   "cell_type": "markdown",
   "metadata": {},
   "source": [
    "There are several packages that enable us to visualise an expression as a tree, for example the `TreeView.jl` package that I wrote, and [GraphRecipes.jl](https://github.com/JuliaPlots/GraphRecipes.jl)."
   ]
  },
  {
   "cell_type": "code",
   "execution_count": 6,
   "metadata": {},
   "outputs": [],
   "source": [
    "# using Pkg; Pkg.add(\"TreeView\")"
   ]
  },
  {
   "cell_type": "code",
   "execution_count": 7,
   "metadata": {},
   "outputs": [],
   "source": [
    "using TreeView"
   ]
  },
  {
   "cell_type": "code",
   "execution_count": 8,
   "metadata": {},
   "outputs": [
    {
     "data": {
      "image/svg+xml": [
       "<?xml version=\"1.0\" encoding=\"UTF-8\"?>\n",
       "<svg xmlns=\"http://www.w3.org/2000/svg\" xmlns:xlink=\"http://www.w3.org/1999/xlink\" width=\"54.391pt\" height=\"69.262pt\" viewBox=\"0 0 54.391 69.262\" version=\"1.2\">\n",
       "<defs>\n",
       "<g>\n",
       "<symbol overflow=\"visible\" id=\"glyph-1627695479516292-0-0\">\n",
       "<path style=\"stroke:none;\" d=\"\"/>\n",
       "</symbol>\n",
       "<symbol overflow=\"visible\" id=\"glyph-1627695479516292-0-1\">\n",
       "<path style=\"stroke:none;\" d=\"M 4.796875 -3.015625 C 4.796875 -3.359375 4.453125 -3.359375 4.328125 -3.359375 L 2.921875 -3.359375 L 2.921875 -4.765625 C 2.921875 -4.890625 2.921875 -5.234375 2.578125 -5.234375 C 2.234375 -5.234375 2.234375 -4.890625 2.234375 -4.765625 L 2.234375 -3.359375 L 0.84375 -3.359375 C 0.71875 -3.359375 0.375 -3.359375 0.375 -3.015625 C 0.375 -2.671875 0.71875 -2.671875 0.84375 -2.671875 L 2.234375 -2.671875 L 2.234375 -1.265625 C 2.234375 -1.140625 2.234375 -0.796875 2.578125 -0.796875 C 2.921875 -0.796875 2.921875 -1.140625 2.921875 -1.265625 L 2.921875 -2.671875 L 4.328125 -2.671875 C 4.453125 -2.671875 4.796875 -2.671875 4.796875 -3.015625 Z M 4.796875 -3.015625 \"/>\n",
       "</symbol>\n",
       "<symbol overflow=\"visible\" id=\"glyph-1627695479516292-0-2\">\n",
       "<path style=\"stroke:none;\" d=\"M 4.890625 -0.296875 C 4.890625 -0.59375 4.640625 -0.59375 4.484375 -0.59375 L 4.09375 -0.59375 L 2.828125 -2.1875 L 3.953125 -3.640625 L 4.34375 -3.640625 C 4.484375 -3.640625 4.75 -3.640625 4.75 -3.9375 C 4.75 -4.25 4.5 -4.25 4.34375 -4.25 L 3.1875 -4.25 C 3.046875 -4.25 2.796875 -4.25 2.796875 -3.953125 C 2.796875 -3.640625 3.015625 -3.640625 3.28125 -3.640625 L 2.546875 -2.65625 L 1.796875 -3.640625 C 2.0625 -3.640625 2.28125 -3.640625 2.28125 -3.953125 C 2.28125 -4.25 2.03125 -4.25 1.890625 -4.25 L 0.734375 -4.25 C 0.578125 -4.25 0.328125 -4.25 0.328125 -3.9375 C 0.328125 -3.640625 0.59375 -3.640625 0.734375 -3.640625 L 1.125 -3.640625 L 2.28125 -2.1875 L 1.0625 -0.59375 L 0.671875 -0.59375 C 0.515625 -0.59375 0.265625 -0.59375 0.265625 -0.296875 C 0.265625 0 0.53125 0 0.671875 0 L 1.828125 0 C 1.96875 0 2.21875 0 2.21875 -0.296875 C 2.21875 -0.59375 2.015625 -0.59375 1.703125 -0.59375 L 2.546875 -1.8125 L 3.4375 -0.59375 C 3.15625 -0.59375 2.9375 -0.59375 2.9375 -0.296875 C 2.9375 0 3.1875 0 3.328125 0 L 4.484375 0 C 4.625 0 4.890625 0 4.890625 -0.296875 Z M 4.890625 -0.296875 \"/>\n",
       "</symbol>\n",
       "<symbol overflow=\"visible\" id=\"glyph-1627695479516292-0-3\">\n",
       "<path style=\"stroke:none;\" d=\"M 4.5 -2.109375 C 4.5 -2.28125 4.375 -2.359375 4.359375 -2.375 C 4.109375 -2.546875 3.4375 -2.875 3.1875 -3 L 4.25 -3.59375 C 4.375 -3.65625 4.5 -3.734375 4.5 -3.921875 C 4.5 -3.953125 4.5 -4.234375 4.09375 -4.234375 L 2.875 -3.53125 C 2.90625 -3.78125 2.90625 -4.4375 2.90625 -4.71875 C 2.90625 -4.8125 2.90625 -5.140625 2.578125 -5.140625 C 2.25 -5.140625 2.25 -4.8125 2.25 -4.71875 C 2.25 -4.4375 2.265625 -3.78125 2.28125 -3.53125 L 1.21875 -4.15625 C 1.078125 -4.234375 1.0625 -4.234375 1 -4.234375 C 0.796875 -4.234375 0.671875 -4.0625 0.671875 -3.921875 C 0.671875 -3.734375 0.78125 -3.671875 0.90625 -3.59375 L 1.984375 -3.015625 L 0.921875 -2.4375 C 0.796875 -2.359375 0.671875 -2.3125 0.671875 -2.109375 C 0.671875 -2.078125 0.671875 -1.78125 1.0625 -1.78125 L 2.28125 -2.5 C 2.265625 -2.234375 2.25 -1.59375 2.25 -1.296875 C 2.25 -1.21875 2.25 -0.890625 2.578125 -0.890625 C 2.90625 -0.890625 2.90625 -1.21875 2.90625 -1.296875 C 2.90625 -1.59375 2.90625 -2.234375 2.875 -2.5 C 3.484375 -2.15625 3.109375 -2.359375 3.8125 -1.9375 C 4.078125 -1.78125 4.09375 -1.78125 4.171875 -1.78125 C 4.375 -1.78125 4.5 -1.96875 4.5 -2.109375 Z M 4.5 -2.109375 \"/>\n",
       "</symbol>\n",
       "<symbol overflow=\"visible\" id=\"glyph-1627695479516292-0-4\">\n",
       "<path style=\"stroke:none;\" d=\"M 4.921875 -3.9375 C 4.921875 -4.25 4.6875 -4.25 4.53125 -4.25 L 3.375 -4.25 C 3.234375 -4.25 2.984375 -4.25 2.984375 -3.953125 C 2.984375 -3.640625 3.21875 -3.640625 3.375 -3.640625 L 3.65625 -3.640625 L 2.953125 -1.546875 C 2.8125 -1.1875 2.765625 -1 2.6875 -0.703125 C 2.625 -0.890625 2.546875 -1.09375 2.46875 -1.28125 L 1.5625 -3.640625 L 1.796875 -3.640625 C 1.953125 -3.640625 2.203125 -3.640625 2.203125 -3.9375 C 2.203125 -4.25 1.96875 -4.25 1.796875 -4.25 L 0.65625 -4.25 C 0.5 -4.25 0.25 -4.25 0.25 -3.9375 C 0.25 -3.640625 0.5 -3.640625 0.65625 -3.640625 L 0.953125 -3.640625 L 2.359375 -0.125 C 2.390625 -0.03125 2.390625 0 2.390625 0 C 2.390625 0 2.15625 0.828125 2.015625 1.078125 C 1.734375 1.609375 1.375 1.640625 1.234375 1.640625 C 1.234375 1.640625 1.28125 1.5625 1.28125 1.421875 C 1.28125 1.1875 1.109375 1 0.859375 1 C 0.59375 1 0.421875 1.1875 0.421875 1.4375 C 0.421875 1.859375 0.765625 2.25 1.25 2.25 C 2.234375 2.25 2.671875 0.953125 2.71875 0.84375 L 4.234375 -3.640625 L 4.53125 -3.640625 C 4.6875 -3.640625 4.921875 -3.640625 4.921875 -3.9375 Z M 4.921875 -3.9375 \"/>\n",
       "</symbol>\n",
       "<symbol overflow=\"visible\" id=\"glyph-1627695479516292-0-5\">\n",
       "<path style=\"stroke:none;\" d=\"M 4.6875 -0.40625 L 4.6875 -0.96875 C 4.6875 -1.15625 4.6875 -1.375 4.34375 -1.375 C 4 -1.375 4 -1.171875 4 -0.96875 L 4 -0.59375 L 1.34375 -0.59375 L 4.421875 -3.515625 C 4.640625 -3.71875 4.640625 -3.75 4.640625 -3.921875 C 4.640625 -4.25 4.421875 -4.25 4.234375 -4.25 L 0.890625 -4.25 C 0.5625 -4.25 0.484375 -4.171875 0.484375 -3.84375 L 0.484375 -3.390625 C 0.484375 -3.203125 0.484375 -2.984375 0.8125 -2.984375 C 1.15625 -2.984375 1.15625 -3.1875 1.15625 -3.390625 L 1.15625 -3.640625 L 3.625 -3.640625 L 0.546875 -0.734375 C 0.328125 -0.53125 0.328125 -0.5 0.328125 -0.328125 C 0.328125 0 0.546875 0 0.734375 0 L 4.46875 0 C 4.6875 -0.0625 4.6875 -0.25 4.6875 -0.40625 Z M 4.6875 -0.40625 \"/>\n",
       "</symbol>\n",
       "</g>\n",
       "</defs>\n",
       "<g id=\"surface1\">\n",
       "<path style=\"fill:none;stroke-width:0.3985;stroke-linecap:butt;stroke-linejoin:miter;stroke:rgb(0%,0%,0%);stroke-opacity:1;stroke-miterlimit:10;\" d=\"M -3.080605 -6.165407 L -11.134629 -22.269505 \" transform=\"matrix(0.988927,0,0,-0.988927,19.886339,5.918486)\"/>\n",
       "<path style=\"fill:none;stroke-width:0.31879;stroke-linecap:round;stroke-linejoin:round;stroke:rgb(0%,0%,0%);stroke-opacity:1;stroke-miterlimit:10;\" d=\"M -1.194979 1.593615 C -1.096053 0.998261 -0.000750992 0.0972703 0.299575 0.000103032 C 0.00101387 -0.100592 -1.09607 -0.99803 -1.195007 -1.595149 \" transform=\"matrix(-0.442219,0.884457,0.884457,0.442219,8.874574,27.942024)\"/>\n",
       "<path style=\"fill:none;stroke-width:0.3985;stroke-linecap:butt;stroke-linejoin:miter;stroke:rgb(0%,0%,0%);stroke-opacity:1;stroke-miterlimit:10;\" d=\"M 3.081374 -6.165407 L 10.910249 -21.823156 \" transform=\"matrix(0.988927,0,0,-0.988927,19.886339,5.918486)\"/>\n",
       "<path style=\"fill:none;stroke-width:0.31879;stroke-linecap:round;stroke-linejoin:round;stroke:rgb(0%,0%,0%);stroke-opacity:1;stroke-miterlimit:10;\" d=\"M -1.193322 1.594036 C -1.094381 0.996928 -0.000841939 0.101283 0.297715 0.00059191 C 0.000928229 -0.0983428 -1.096112 -0.994027 -1.196798 -1.592905 \" transform=\"matrix(0.442219,0.884477,0.884477,-0.442219,30.676415,27.498659)\"/>\n",
       "<path style=\"fill:none;stroke-width:0.3985;stroke-linecap:butt;stroke-linejoin:miter;stroke:rgb(0%,0%,0%);stroke-opacity:1;stroke-miterlimit:10;\" d=\"M 11.115648 -34.463115 L 3.606723 -49.480966 \" transform=\"matrix(0.988927,0,0,-0.988927,19.886339,5.918486)\"/>\n",
       "<path style=\"fill:none;stroke-width:0.31879;stroke-linecap:round;stroke-linejoin:round;stroke:rgb(0%,0%,0%);stroke-opacity:1;stroke-miterlimit:10;\" d=\"M -1.194661 1.593877 C -1.095735 0.998522 -0.000433125 0.0975321 0.299893 0.000364795 C 0.00133173 -0.10033 -1.095753 -0.997768 -1.194689 -1.594887 \" transform=\"matrix(-0.442219,0.884457,0.884457,0.442219,23.452608,54.851784)\"/>\n",
       "<path style=\"fill:none;stroke-width:0.3985;stroke-linecap:butt;stroke-linejoin:miter;stroke:rgb(0%,0%,0%);stroke-opacity:1;stroke-miterlimit:10;\" d=\"M 17.230228 -34.463115 L 25.307952 -50.618562 \" transform=\"matrix(0.988927,0,0,-0.988927,19.886339,5.918486)\"/>\n",
       "<path style=\"fill:none;stroke-width:0.31879;stroke-linecap:round;stroke-linejoin:round;stroke:rgb(0%,0%,0%);stroke-opacity:1;stroke-miterlimit:10;\" d=\"M -1.196564 1.595841 C -1.094095 0.996955 -0.000543427 0.101284 0.298018 0.00058926 C 0.00122499 -0.0983446 -1.09761 -0.997568 -1.196536 -1.592923 \" transform=\"matrix(0.442219,0.884457,0.884457,-0.442219,44.914565,55.974958)\"/>\n",
       "<g style=\"fill:rgb(0%,0%,0%);fill-opacity:1;\">\n",
       "  <use xlink:href=\"#glyph-1627695479516292-0-1\" x=\"17.300294\" y=\"8.534198\"/>\n",
       "</g>\n",
       "<g style=\"fill:rgb(0%,0%,0%);fill-opacity:1;\">\n",
       "  <use xlink:href=\"#glyph-1627695479516292-0-2\" x=\"3.284227\" y=\"36.073845\"/>\n",
       "</g>\n",
       "<g style=\"fill:rgb(0%,0%,0%);fill-opacity:1;\">\n",
       "  <use xlink:href=\"#glyph-1627695479516292-0-3\" x=\"31.31636\" y=\"36.517873\"/>\n",
       "</g>\n",
       "<g style=\"fill:rgb(0%,0%,0%);fill-opacity:1;\">\n",
       "  <use xlink:href=\"#glyph-1627695479516292-0-4\" x=\"17.300294\" y=\"62.983545\"/>\n",
       "</g>\n",
       "<g style=\"fill:rgb(0%,0%,0%);fill-opacity:1;\">\n",
       "  <use xlink:href=\"#glyph-1627695479516292-0-5\" x=\"45.332426\" y=\"64.106966\"/>\n",
       "</g>\n",
       "</g>\n",
       "</svg>\n",
       "\n"
      ],
      "text/plain": [
       "LabelledTree({5, 4} directed simple Int64 graph, Any[:+, :x, :*, :y, :z])"
      ]
     },
     "execution_count": 8,
     "metadata": {},
     "output_type": "execute_result"
    }
   ],
   "source": [
    "@tree x + y * z"
   ]
  },
  {
   "cell_type": "markdown",
   "metadata": {},
   "source": [
    "Each internal node of the graph corresponds to a new `Expr`."
   ]
  },
  {
   "cell_type": "code",
   "execution_count": 9,
   "metadata": {},
   "outputs": [
    {
     "data": {
      "image/svg+xml": [
       "<?xml version=\"1.0\" encoding=\"UTF-8\"?>\n",
       "<svg xmlns=\"http://www.w3.org/2000/svg\" xmlns:xlink=\"http://www.w3.org/1999/xlink\" width=\"96.911pt\" height=\"69.69pt\" viewBox=\"0 0 96.911 69.69\" version=\"1.2\">\n",
       "<defs>\n",
       "<g>\n",
       "<symbol overflow=\"visible\" id=\"glyph-1627695479516293-0-0\">\n",
       "<path style=\"stroke:none;\" d=\"\"/>\n",
       "</symbol>\n",
       "<symbol overflow=\"visible\" id=\"glyph-1627695479516293-0-1\">\n",
       "<path style=\"stroke:none;\" d=\"M 4.84375 -2.140625 C 4.84375 -3.359375 3.953125 -4.328125 2.90625 -4.328125 C 2.4375 -4.328125 1.984375 -4.15625 1.640625 -3.84375 L 1.640625 -5.65625 C 1.640625 -5.96875 1.59375 -6.0625 1.25 -6.0625 L 0.53125 -6.0625 C 0.359375 -6.0625 0.125 -6.0625 0.125 -5.75 C 0.125 -5.453125 0.375 -5.453125 0.515625 -5.453125 L 0.96875 -5.453125 L 0.96875 -0.40625 C 0.96875 -0.203125 0.96875 0 1.3125 0 C 1.640625 0 1.640625 -0.203125 1.640625 -0.453125 C 2.046875 -0.03125 2.484375 0.0625 2.796875 0.0625 C 3.875 0.0625 4.84375 -0.890625 4.84375 -2.140625 Z M 4.15625 -2.140625 C 4.15625 -1.1875 3.46875 -0.546875 2.765625 -0.546875 C 2 -0.546875 1.640625 -1.421875 1.640625 -1.890625 L 1.640625 -2.625 C 1.640625 -3.203125 2.21875 -3.734375 2.84375 -3.734375 C 3.578125 -3.734375 4.15625 -3 4.15625 -2.140625 Z M 4.15625 -2.140625 \"/>\n",
       "</symbol>\n",
       "<symbol overflow=\"visible\" id=\"glyph-1627695479516293-0-2\">\n",
       "<path style=\"stroke:none;\" d=\"M 4.640625 -0.296875 C 4.640625 -0.609375 4.390625 -0.609375 4.234375 -0.609375 L 2.953125 -0.609375 L 2.953125 -5.65625 C 2.953125 -5.96875 2.890625 -6.0625 2.546875 -6.0625 L 0.984375 -6.0625 C 0.828125 -6.0625 0.578125 -6.0625 0.578125 -5.75 C 0.578125 -5.453125 0.828125 -5.453125 0.96875 -5.453125 L 2.265625 -5.453125 L 2.265625 -0.609375 L 0.984375 -0.609375 C 0.828125 -0.609375 0.578125 -0.609375 0.578125 -0.296875 C 0.578125 0 0.828125 0 0.96875 0 L 4.234375 0 C 4.390625 0 4.640625 0 4.640625 -0.296875 Z M 4.640625 -0.296875 \"/>\n",
       "</symbol>\n",
       "<symbol overflow=\"visible\" id=\"glyph-1627695479516293-0-3\">\n",
       "<path style=\"stroke:none;\" d=\"M 4.640625 -2.140625 C 4.640625 -3.390625 3.703125 -4.359375 2.59375 -4.359375 C 1.484375 -4.359375 0.5625 -3.390625 0.5625 -2.140625 C 0.5625 -0.890625 1.515625 0.0625 2.59375 0.0625 C 3.6875 0.0625 4.640625 -0.890625 4.640625 -2.140625 Z M 3.953125 -2.21875 C 3.953125 -1.296875 3.328125 -0.546875 2.59375 -0.546875 C 1.859375 -0.546875 1.25 -1.296875 1.25 -2.21875 C 1.25 -3.109375 1.890625 -3.765625 2.59375 -3.765625 C 3.3125 -3.765625 3.953125 -3.109375 3.953125 -2.21875 Z M 3.953125 -2.21875 \"/>\n",
       "</symbol>\n",
       "<symbol overflow=\"visible\" id=\"glyph-1627695479516293-0-4\">\n",
       "<path style=\"stroke:none;\" d=\"M 4.625 -1.078125 C 4.625 -1.359375 4.328125 -1.359375 4.28125 -1.359375 C 4.125 -1.359375 4.015625 -1.34375 3.953125 -1.140625 C 3.890625 -1.015625 3.703125 -0.546875 2.96875 -0.546875 C 2.125 -0.546875 1.40625 -1.234375 1.40625 -2.140625 C 1.40625 -2.625 1.6875 -3.765625 3.03125 -3.765625 C 3.234375 -3.765625 3.625 -3.765625 3.625 -3.671875 C 3.625 -3.328125 3.8125 -3.1875 4.0625 -3.1875 C 4.296875 -3.1875 4.5 -3.359375 4.5 -3.640625 C 4.5 -4.359375 3.46875 -4.359375 3.03125 -4.359375 C 1.3125 -4.359375 0.71875 -3.015625 0.71875 -2.140625 C 0.71875 -0.953125 1.65625 0.0625 2.90625 0.0625 C 4.28125 0.0625 4.625 -0.90625 4.625 -1.078125 Z M 4.625 -1.078125 \"/>\n",
       "</symbol>\n",
       "<symbol overflow=\"visible\" id=\"glyph-1627695479516293-0-5\">\n",
       "<path style=\"stroke:none;\" d=\"M 5.046875 -0.296875 C 5.046875 -0.609375 4.78125 -0.609375 4.640625 -0.609375 L 4.328125 -0.609375 L 2.84375 -2.53125 L 4.0625 -3.671875 L 4.421875 -3.671875 C 4.5625 -3.671875 4.828125 -3.671875 4.828125 -3.96875 C 4.828125 -4.28125 4.5625 -4.28125 4.421875 -4.28125 L 2.890625 -4.28125 C 2.734375 -4.28125 2.484375 -4.28125 2.484375 -3.96875 C 2.484375 -3.671875 2.734375 -3.671875 2.890625 -3.671875 L 3.25 -3.671875 L 1.640625 -2.15625 L 1.640625 -5.65625 C 1.640625 -5.96875 1.59375 -6.0625 1.25 -6.0625 L 0.609375 -6.0625 C 0.453125 -6.0625 0.203125 -6.0625 0.203125 -5.765625 C 0.203125 -5.453125 0.453125 -5.453125 0.609375 -5.453125 L 1.09375 -5.453125 L 1.09375 -0.609375 L 0.609375 -0.609375 C 0.453125 -0.609375 0.203125 -0.609375 0.203125 -0.3125 C 0.203125 0 0.453125 0 0.609375 0 L 2.140625 0 C 2.28125 0 2.53125 0 2.53125 -0.296875 C 2.53125 -0.609375 2.296875 -0.609375 2.140625 -0.609375 L 1.640625 -0.609375 L 1.640625 -1.40625 L 2.4375 -2.140625 L 3.625 -0.609375 C 3.265625 -0.609375 3.0625 -0.609375 3.0625 -0.296875 C 3.0625 0 3.3125 0 3.46875 0 L 4.640625 0 C 4.78125 0 5.046875 0 5.046875 -0.296875 Z M 5.046875 -0.296875 \"/>\n",
       "</symbol>\n",
       "<symbol overflow=\"visible\" id=\"glyph-1627695479516293-0-6\">\n",
       "<path style=\"stroke:none;\" d=\"M 4.828125 -3.03125 C 4.828125 -3.390625 4.46875 -3.390625 4.359375 -3.390625 L 2.953125 -3.390625 L 2.953125 -4.796875 C 2.953125 -4.921875 2.953125 -5.265625 2.59375 -5.265625 C 2.25 -5.265625 2.25 -4.921875 2.25 -4.796875 L 2.25 -3.390625 L 0.84375 -3.390625 C 0.71875 -3.390625 0.375 -3.390625 0.375 -3.03125 C 0.375 -2.6875 0.71875 -2.6875 0.84375 -2.6875 L 2.25 -2.6875 L 2.25 -1.265625 C 2.25 -1.15625 2.25 -0.796875 2.59375 -0.796875 C 2.953125 -0.796875 2.953125 -1.15625 2.953125 -1.265625 L 2.953125 -2.6875 L 4.359375 -2.6875 C 4.46875 -2.6875 4.828125 -2.6875 4.828125 -3.03125 Z M 4.828125 -3.03125 \"/>\n",
       "</symbol>\n",
       "<symbol overflow=\"visible\" id=\"glyph-1627695479516293-0-7\">\n",
       "<path style=\"stroke:none;\" d=\"M 4.828125 -3.796875 C 4.828125 -4.140625 4.453125 -4.140625 4.3125 -4.140625 L 0.890625 -4.140625 C 0.75 -4.140625 0.375 -4.140625 0.375 -3.796875 C 0.375 -3.4375 0.703125 -3.4375 0.828125 -3.4375 L 4.375 -3.4375 C 4.5 -3.4375 4.828125 -3.4375 4.828125 -3.796875 Z M 4.828125 -2.28125 C 4.828125 -2.625 4.5 -2.625 4.375 -2.625 L 0.828125 -2.625 C 0.703125 -2.625 0.375 -2.625 0.375 -2.28125 C 0.375 -1.9375 0.75 -1.9375 0.890625 -1.9375 L 4.3125 -1.9375 C 4.453125 -1.9375 4.828125 -1.9375 4.828125 -2.28125 Z M 4.828125 -2.28125 \"/>\n",
       "</symbol>\n",
       "<symbol overflow=\"visible\" id=\"glyph-1627695479516293-0-8\">\n",
       "<path style=\"stroke:none;\" d=\"M 4.921875 -0.296875 C 4.921875 -0.609375 4.65625 -0.609375 4.515625 -0.609375 L 4.125 -0.609375 L 2.84375 -2.203125 L 3.984375 -3.671875 L 4.375 -3.671875 C 4.515625 -3.671875 4.78125 -3.671875 4.78125 -3.96875 C 4.78125 -4.28125 4.53125 -4.28125 4.375 -4.28125 L 3.21875 -4.28125 C 3.0625 -4.28125 2.8125 -4.28125 2.8125 -3.984375 C 2.8125 -3.671875 3.03125 -3.671875 3.296875 -3.671875 L 2.5625 -2.671875 L 1.8125 -3.671875 C 2.078125 -3.671875 2.296875 -3.671875 2.296875 -3.984375 C 2.296875 -4.28125 2.046875 -4.28125 1.890625 -4.28125 L 0.734375 -4.28125 C 0.578125 -4.28125 0.328125 -4.28125 0.328125 -3.96875 C 0.328125 -3.671875 0.59375 -3.671875 0.734375 -3.671875 L 1.125 -3.671875 L 2.296875 -2.203125 L 1.078125 -0.609375 L 0.671875 -0.609375 C 0.53125 -0.609375 0.265625 -0.609375 0.265625 -0.296875 C 0.265625 0 0.53125 0 0.671875 0 L 1.828125 0 C 1.984375 0 2.234375 0 2.234375 -0.296875 C 2.234375 -0.609375 2.03125 -0.609375 1.71875 -0.609375 L 2.5625 -1.828125 L 3.453125 -0.609375 C 3.171875 -0.609375 2.953125 -0.609375 2.953125 -0.296875 C 2.953125 0 3.203125 0 3.359375 0 L 4.515625 0 C 4.65625 0 4.921875 0 4.921875 -0.296875 Z M 4.921875 -0.296875 \"/>\n",
       "</symbol>\n",
       "<symbol overflow=\"visible\" id=\"glyph-1627695479516293-0-9\">\n",
       "<path style=\"stroke:none;\" d=\"M 4.390625 -0.296875 C 4.390625 -0.609375 4.140625 -0.609375 3.984375 -0.609375 L 3.078125 -0.609375 L 3.078125 -5.765625 C 3.078125 -5.921875 3.078125 -6.171875 2.78125 -6.171875 C 2.59375 -6.171875 2.546875 -6.046875 2.484375 -5.9375 C 2.109375 -5.09375 1.59375 -4.984375 1.40625 -4.953125 C 1.25 -4.953125 1.046875 -4.9375 1.046875 -4.65625 C 1.046875 -4.40625 1.21875 -4.359375 1.375 -4.359375 C 1.5625 -4.359375 1.96875 -4.421875 2.40625 -4.796875 L 2.40625 -0.609375 L 1.5 -0.609375 C 1.34375 -0.609375 1.09375 -0.609375 1.09375 -0.296875 C 1.09375 0 1.34375 0 1.5 0 L 3.984375 0 C 4.140625 0 4.390625 0 4.390625 -0.296875 Z M 4.390625 -0.296875 \"/>\n",
       "</symbol>\n",
       "<symbol overflow=\"visible\" id=\"glyph-1627695479516293-0-10\">\n",
       "<path style=\"stroke:none;\" d=\"M 4.953125 -3.96875 C 4.953125 -4.28125 4.71875 -4.28125 4.5625 -4.28125 L 3.40625 -4.28125 C 3.25 -4.28125 3 -4.28125 3 -3.984375 C 3 -3.671875 3.25 -3.671875 3.40625 -3.671875 L 3.6875 -3.671875 L 2.96875 -1.5625 C 2.84375 -1.1875 2.78125 -1.015625 2.703125 -0.703125 C 2.65625 -0.890625 2.5625 -1.09375 2.484375 -1.296875 L 1.5625 -3.671875 L 1.8125 -3.671875 C 1.96875 -3.671875 2.21875 -3.671875 2.21875 -3.96875 C 2.21875 -4.28125 1.96875 -4.28125 1.8125 -4.28125 L 0.65625 -4.28125 C 0.5 -4.28125 0.265625 -4.28125 0.265625 -3.96875 C 0.265625 -3.671875 0.5 -3.671875 0.65625 -3.671875 L 0.96875 -3.671875 L 2.375 -0.125 C 2.40625 -0.03125 2.40625 0 2.40625 0 C 2.40625 0 2.15625 0.828125 2.03125 1.078125 C 1.75 1.625 1.390625 1.640625 1.234375 1.65625 C 1.234375 1.65625 1.296875 1.5625 1.296875 1.4375 C 1.296875 1.1875 1.109375 1.015625 0.859375 1.015625 C 0.59375 1.015625 0.421875 1.1875 0.421875 1.453125 C 0.421875 1.859375 0.765625 2.265625 1.25 2.265625 C 2.25 2.265625 2.6875 0.953125 2.734375 0.84375 L 4.265625 -3.671875 L 4.5625 -3.671875 C 4.71875 -3.671875 4.953125 -3.671875 4.953125 -3.96875 Z M 4.953125 -3.96875 \"/>\n",
       "</symbol>\n",
       "</g>\n",
       "</defs>\n",
       "<g id=\"surface1\">\n",
       "<path style=\"fill:none;stroke-width:0.3985;stroke-linecap:butt;stroke-linejoin:miter;stroke:rgb(0%,0%,0%);stroke-opacity:1;stroke-miterlimit:10;\" d=\"M -3.296391 -6.593202 L -10.884684 -21.773711 \" transform=\"matrix(0.995571,0,0,-0.995571,48.410699,6.365684)\"/>\n",
       "<path style=\"fill:none;stroke-width:0.31879;stroke-linecap:round;stroke-linejoin:round;stroke:rgb(0%,0%,0%);stroke-opacity:1;stroke-miterlimit:10;\" d=\"M -1.194075 1.593587 C -1.097564 0.996941 0.000956689 0.0984541 0.299278 0.00193534 C -0.000799924 -0.0998426 -1.095827 -0.99831 -1.197613 -1.5932 \" transform=\"matrix(-0.44519,0.890399,0.890399,0.44519,37.572919,28.041255)\"/>\n",
       "<path style=\"fill:none;stroke-width:0.3985;stroke-linecap:butt;stroke-linejoin:miter;stroke:rgb(0%,0%,0%);stroke-opacity:1;stroke-miterlimit:10;\" d=\"M 3.2953 -6.593202 L 10.887517 -21.773711 \" transform=\"matrix(0.995571,0,0,-0.995571,48.410699,6.365684)\"/>\n",
       "<path style=\"fill:none;stroke-width:0.31879;stroke-linecap:round;stroke-linejoin:round;stroke:rgb(0%,0%,0%);stroke-opacity:1;stroke-miterlimit:10;\" d=\"M -1.196346 1.595733 C -1.096315 0.997334 -0.00128782 0.0988668 0.300545 0.000598535 C 0.000468792 -0.0994299 -1.096297 -0.994407 -1.194563 -1.594563 \" transform=\"matrix(0.44519,0.890399,0.890399,-0.44519,59.24848,28.041255)\"/>\n",
       "<path style=\"fill:none;stroke-width:0.3985;stroke-linecap:butt;stroke-linejoin:miter;stroke:rgb(0%,0%,0%);stroke-opacity:1;stroke-miterlimit:10;\" d=\"M -20.336699 -34.509802 L -36.529504 -50.702606 \" transform=\"matrix(0.995571,0,0,-0.995571,48.410699,6.365684)\"/>\n",
       "<path style=\"fill:none;stroke-width:0.31879;stroke-linecap:round;stroke-linejoin:round;stroke:rgb(0%,0%,0%);stroke-opacity:1;stroke-miterlimit:10;\" d=\"M -1.195799 1.59511 C -1.095922 0.995825 -0.000013117 0.0996633 0.299629 -0.000219667 C -0.0000145296 -0.100098 -1.095936 -0.996244 -1.195821 -1.595529 \" transform=\"matrix(-0.703959,0.703969,0.703969,0.703959,12.043112,56.843913)\"/>\n",
       "<path style=\"fill:none;stroke-width:0.3985;stroke-linecap:butt;stroke-linejoin:miter;stroke:rgb(0%,0%,0%);stroke-opacity:1;stroke-miterlimit:10;\" d=\"M -14.172683 -34.509802 L -14.172683 -49.615762 \" transform=\"matrix(0.995571,0,0,-0.995571,48.410699,6.365684)\"/>\n",
       "<path style=\"fill:none;stroke-width:0.31879;stroke-linecap:round;stroke-linejoin:round;stroke:rgb(0%,0%,0%);stroke-opacity:1;stroke-miterlimit:10;\" d=\"M -1.1941 1.593699 C -1.09601 0.997308 -0.00131802 0.0987979 0.300801 0.000707226 C -0.00131802 -0.101307 -1.09601 -0.995894 -1.1941 -1.592285 \" transform=\"matrix(0,0.995571,0.995571,0,34.300077,55.763031)\"/>\n",
       "<path style=\"fill:none;stroke-width:0.3985;stroke-linecap:butt;stroke-linejoin:miter;stroke:rgb(0%,0%,0%);stroke-opacity:1;stroke-miterlimit:10;\" d=\"M 14.171592 -34.509802 L 14.171592 -49.431352 \" transform=\"matrix(0.995571,0,0,-0.995571,48.410699,6.365684)\"/>\n",
       "<path style=\"fill:none;stroke-width:0.31879;stroke-linecap:round;stroke-linejoin:round;stroke:rgb(0%,0%,0%);stroke-opacity:1;stroke-miterlimit:10;\" d=\"M -1.194221 1.595118 C -1.09613 0.994803 -0.00143844 0.100216 0.300681 -0.00179813 C -0.00143844 -0.0998888 -1.09613 -0.994476 -1.194221 -1.59479 \" transform=\"matrix(0,0.995571,0.995571,0,62.521321,55.579557)\"/>\n",
       "<path style=\"fill:none;stroke-width:0.3985;stroke-linecap:butt;stroke-linejoin:miter;stroke:rgb(0%,0%,0%);stroke-opacity:1;stroke-miterlimit:10;\" d=\"M 20.339532 -34.509802 L 36.528413 -50.702606 \" transform=\"matrix(0.995571,0,0,-0.995571,48.410699,6.365684)\"/>\n",
       "<path style=\"fill:none;stroke-width:0.31879;stroke-linecap:round;stroke-linejoin:round;stroke:rgb(0%,0%,0%);stroke-opacity:1;stroke-miterlimit:10;\" d=\"M -1.196593 1.594757 C -1.096707 0.995473 -0.000785922 0.099327 0.298857 -0.000551736 C -0.000784509 -0.100435 -1.096693 -0.996596 -1.193796 -1.593107 \" transform=\"matrix(0.703959,0.703969,0.703969,-0.703959,84.778286,56.843913)\"/>\n",
       "<g style=\"fill:rgb(0%,0%,0%);fill-opacity:1;\">\n",
       "  <use xlink:href=\"#glyph-1627695479516293-0-1\" x=\"35.392607\" y=\"9.366336\"/>\n",
       "  <use xlink:href=\"#glyph-1627695479516293-0-2\" x=\"40.59983\" y=\"9.366336\"/>\n",
       "  <use xlink:href=\"#glyph-1627695479516293-0-3\" x=\"45.807053\" y=\"9.366336\"/>\n",
       "  <use xlink:href=\"#glyph-1627695479516293-0-4\" x=\"51.014276\" y=\"9.366336\"/>\n",
       "  <use xlink:href=\"#glyph-1627695479516293-0-5\" x=\"56.221499\" y=\"9.366336\"/>\n",
       "</g>\n",
       "<g style=\"fill:rgb(0%,0%,0%);fill-opacity:1;\">\n",
       "  <use xlink:href=\"#glyph-1627695479516293-0-6\" x=\"29.093627\" y=\"37.219438\"/>\n",
       "  <use xlink:href=\"#glyph-1627695479516293-0-7\" x=\"34.30085\" y=\"37.219438\"/>\n",
       "</g>\n",
       "<g style=\"fill:rgb(0%,0%,0%);fill-opacity:1;\">\n",
       "  <use xlink:href=\"#glyph-1627695479516293-0-8\" x=\"3.476578\" y=\"64.945107\"/>\n",
       "</g>\n",
       "<g style=\"fill:rgb(0%,0%,0%);fill-opacity:1;\">\n",
       "  <use xlink:href=\"#glyph-1627695479516293-0-9\" x=\"31.697046\" y=\"65.891895\"/>\n",
       "</g>\n",
       "<g style=\"fill:rgb(0%,0%,0%);fill-opacity:1;\">\n",
       "  <use xlink:href=\"#glyph-1627695479516293-0-6\" x=\"57.314095\" y=\"37.219438\"/>\n",
       "  <use xlink:href=\"#glyph-1627695479516293-0-7\" x=\"62.521317\" y=\"37.219438\"/>\n",
       "</g>\n",
       "<g style=\"fill:rgb(0%,0%,0%);fill-opacity:1;\">\n",
       "  <use xlink:href=\"#glyph-1627695479516293-0-10\" x=\"59.917514\" y=\"63.814137\"/>\n",
       "</g>\n",
       "<g style=\"fill:rgb(0%,0%,0%);fill-opacity:1;\">\n",
       "  <use xlink:href=\"#glyph-1627695479516293-0-8\" x=\"88.138977\" y=\"64.945107\"/>\n",
       "</g>\n",
       "</g>\n",
       "</svg>\n",
       "\n"
      ],
      "text/plain": [
       "LabelledTree({7, 6} directed simple Int64 graph, Any[:block, :+=, :x, 1, :+=, :y, :x])"
      ]
     },
     "execution_count": 9,
     "metadata": {},
     "output_type": "execute_result"
    }
   ],
   "source": [
    "ex = quote\n",
    "    x += 1\n",
    "    y += x\n",
    "end\n",
    "\n",
    "ex = Base.remove_linenums!(ex)\n",
    "\n",
    "TreeView.walk_tree(ex)"
   ]
  },
  {
   "cell_type": "markdown",
   "metadata": {},
   "source": [
    "## Walking through expression trees"
   ]
  },
  {
   "cell_type": "markdown",
   "metadata": {},
   "source": [
    "Since complex expressions have a **recursive** structure, we need to take this into account when we process them.\n",
    "As a simple example, let's try to solve the following problems:\n",
    "\n",
    "> Given an expression, substitute `y` for `x`, i.e. replace each `x` in the expression with a `y`.\n",
    "\n",
    "The easiest way to do this is to *modify* the expression."
   ]
  },
  {
   "cell_type": "markdown",
   "metadata": {},
   "source": [
    "How can we do this? We will need to check each argument to see if it's an `:x`. If it is, we replace it; if not, we move on:"
   ]
  },
  {
   "cell_type": "markdown",
   "metadata": {},
   "source": [
    "## Exercise\n",
    "\n",
    "1. Write a function `substitute!` that takes an expression and replaces each `:x` with `:y`.\n",
    "\n",
    "2. Test it on the expression `x + x * y`. Does it work correctly? If not, what is it missing?"
   ]
  },
  {
   "cell_type": "markdown",
   "metadata": {},
   "source": [
    "[Deliberately blank!]"
   ]
  },
  {
   "cell_type": "code",
   "execution_count": 10,
   "metadata": {},
   "outputs": [
    {
     "data": {
      "text/plain": [
       "substitute! (generic function with 4 methods)"
      ]
     },
     "execution_count": 10,
     "metadata": {},
     "output_type": "execute_result"
    }
   ],
   "source": [
    "function substitute!(ex::Expr, repl_rule=:x => :z)\n",
    "    args = ex.args  # for ease\n",
    "    \n",
    "    for ix ∈ 1:length(args)\n",
    "        if args[ix] == :x\n",
    "            args[ix] = :y\n",
    "            \n",
    "        elseif args[ix] isa Expr\n",
    "            substitute!(args[ix])\n",
    "        \n",
    "        elseif args[ix] isa Symbol\n",
    "            substitute!(args[ix], repl_rule) \n",
    "        else\n",
    "            throw(ArgumentError(\"$(args[ix]) of type $(typeof(args[ix])) not yet supported\"))\n",
    "        end\n",
    "    end\n",
    "    \n",
    "    return ex\n",
    "end\n",
    "\n",
    "function substitute!(ex::Symbol, repl_rule=:x => :z)\n",
    "    ex == repl_rule[1] ? repl_rule[2] : ex\n",
    "end"
   ]
  },
  {
   "cell_type": "code",
   "execution_count": 11,
   "metadata": {},
   "outputs": [
    {
     "data": {
      "text/plain": [
       ":z"
      ]
     },
     "execution_count": 11,
     "metadata": {},
     "output_type": "execute_result"
    }
   ],
   "source": [
    "substitute!(:x)"
   ]
  },
  {
   "cell_type": "code",
   "execution_count": 12,
   "metadata": {},
   "outputs": [
    {
     "data": {
      "text/plain": [
       ":y"
      ]
     },
     "execution_count": 12,
     "metadata": {},
     "output_type": "execute_result"
    }
   ],
   "source": [
    "substitute!(:y)"
   ]
  },
  {
   "cell_type": "code",
   "execution_count": 13,
   "metadata": {},
   "outputs": [
    {
     "data": {
      "text/plain": [
       ":(y + y)"
      ]
     },
     "execution_count": 13,
     "metadata": {},
     "output_type": "execute_result"
    }
   ],
   "source": [
    "substitute!(:(x + y))"
   ]
  },
  {
   "cell_type": "code",
   "execution_count": 14,
   "metadata": {
    "collapsed": true,
    "jupyter": {
     "outputs_hidden": true
    }
   },
   "outputs": [
    {
     "ename": "LoadError",
     "evalue": "ArgumentError: :x of type QuoteNode not yet supported",
     "output_type": "error",
     "traceback": [
      "ArgumentError: :x of type QuoteNode not yet supported",
      "",
      "Stacktrace:",
      " [1] substitute!(ex::Expr, repl_rule::Pair{Symbol, Symbol})",
      "   @ Main ./In[10]:14",
      " [2] substitute!(ex::Expr)",
      "   @ Main ./In[10]:2",
      " [3] substitute!(ex::Expr, repl_rule::Pair{Symbol, Symbol})",
      "   @ Main ./In[10]:9",
      " [4] substitute!(ex::Expr)",
      "   @ Main ./In[10]:2",
      " [5] top-level scope",
      "   @ In[14]:1",
      " [6] eval",
      "   @ ./boot.jl:360 [inlined]",
      " [7] include_string(mapexpr::typeof(REPL.softscope), mod::Module, code::String, filename::String)",
      "   @ Base ./loading.jl:1116"
     ]
    }
   ],
   "source": [
    "substitute!(:(x + :x - y))\n",
    "# ArgumentError: :x of type QuoteNode not yet supported"
   ]
  },
  {
   "cell_type": "code",
   "execution_count": 15,
   "metadata": {},
   "outputs": [
    {
     "data": {
      "text/plain": [
       ":(x + x * y)"
      ]
     },
     "execution_count": 15,
     "metadata": {},
     "output_type": "execute_result"
    }
   ],
   "source": [
    "ex = :(x + x * y)"
   ]
  },
  {
   "cell_type": "code",
   "execution_count": 16,
   "metadata": {},
   "outputs": [
    {
     "data": {
      "text/plain": [
       ":(y + y * y)"
      ]
     },
     "execution_count": 16,
     "metadata": {},
     "output_type": "execute_result"
    }
   ],
   "source": [
    "substitute!(ex)"
   ]
  },
  {
   "cell_type": "markdown",
   "metadata": {},
   "source": [
    "Now *all* `x`s were successfully replaced! But note that the original expression has been lost:"
   ]
  },
  {
   "cell_type": "code",
   "execution_count": 17,
   "metadata": {},
   "outputs": [
    {
     "data": {
      "text/plain": [
       ":(y + y * y)"
      ]
     },
     "execution_count": 17,
     "metadata": {},
     "output_type": "execute_result"
    }
   ],
   "source": [
    "ex"
   ]
  },
  {
   "cell_type": "markdown",
   "metadata": {},
   "source": [
    "Although the code is *easier to write* using mutation (since otherwise we need to build up a similar expression with the same structure, which is possible but trickier), users probably don't expect or want their expression to be mutated, since you cannot then recover the original expression, which you might need later. It is common to then provide a *non-mutating* version, by making a copy of the original expression and mutating that."
   ]
  },
  {
   "cell_type": "code",
   "execution_count": 18,
   "metadata": {},
   "outputs": [
    {
     "data": {
      "text/plain": [
       "substitute (generic function with 1 method)"
      ]
     },
     "execution_count": 18,
     "metadata": {},
     "output_type": "execute_result"
    }
   ],
   "source": [
    "substitute(ex) = deepcopy(ex) |> substitute!"
   ]
  },
  {
   "cell_type": "code",
   "execution_count": 19,
   "metadata": {},
   "outputs": [
    {
     "data": {
      "text/plain": [
       ":(x + x * y)"
      ]
     },
     "execution_count": 19,
     "metadata": {},
     "output_type": "execute_result"
    }
   ],
   "source": [
    "ex = :(x + x * y)"
   ]
  },
  {
   "cell_type": "code",
   "execution_count": 20,
   "metadata": {},
   "outputs": [
    {
     "data": {
      "text/plain": [
       ":(y + y * y)"
      ]
     },
     "execution_count": 20,
     "metadata": {},
     "output_type": "execute_result"
    }
   ],
   "source": [
    "substitute(ex)"
   ]
  },
  {
   "cell_type": "markdown",
   "metadata": {},
   "source": [
    "The original expression has now not changed:"
   ]
  },
  {
   "cell_type": "code",
   "execution_count": 21,
   "metadata": {},
   "outputs": [
    {
     "data": {
      "text/plain": [
       ":(x + x * y)"
      ]
     },
     "execution_count": 21,
     "metadata": {},
     "output_type": "execute_result"
    }
   ],
   "source": [
    "ex"
   ]
  },
  {
   "cell_type": "markdown",
   "metadata": {},
   "source": [
    "Note that it would have been tempting to write this by iterating over the arguments using `for arg in ex.args ...`, but that will *not* work, since you then *cannot* modify the resulting argument in place within the expression &ndash; `arg` is a *copy* of the immutable object inside the expression, rather than a *reference* to it:"
   ]
  },
  {
   "cell_type": "code",
   "execution_count": 22,
   "metadata": {},
   "outputs": [
    {
     "data": {
      "text/plain": [
       ":(x + y)"
      ]
     },
     "execution_count": 22,
     "metadata": {},
     "output_type": "execute_result"
    }
   ],
   "source": [
    "ex = :(x + y)"
   ]
  },
  {
   "cell_type": "code",
   "execution_count": 23,
   "metadata": {},
   "outputs": [
    {
     "name": "stdout",
     "output_type": "stream",
     "text": [
      "(arg, typeof(arg)) = (:+, Symbol)\n",
      "(arg, typeof(arg)) = (:x, Symbol)\n",
      "(arg, typeof(arg)) = (:y, Symbol)\n"
     ]
    }
   ],
   "source": [
    "for arg ∈ ex.args\n",
    "    @show arg, typeof(arg)\n",
    "    arg = :z\n",
    "end"
   ]
  },
  {
   "cell_type": "code",
   "execution_count": 24,
   "metadata": {},
   "outputs": [
    {
     "data": {
      "text/plain": [
       ":(x + y)"
      ]
     },
     "execution_count": 24,
     "metadata": {},
     "output_type": "execute_result"
    }
   ],
   "source": [
    "ex"
   ]
  },
  {
   "cell_type": "markdown",
   "metadata": {},
   "source": [
    "## Exercise\n",
    "\n",
    "1. Make the `substitute` function more general, by specifying what to substitute with what"
   ]
  },
  {
   "cell_type": "code",
   "execution_count": 25,
   "metadata": {},
   "outputs": [],
   "source": [
    "## done - limited to 1 rule though"
   ]
  },
  {
   "cell_type": "markdown",
   "metadata": {},
   "source": [
    "## Exercise"
   ]
  },
  {
   "cell_type": "markdown",
   "metadata": {},
   "source": [
    "1. Find which variables are used inside an expression\n",
    "\n",
    "   For example, the expression `2x + y * x - 1` should return the vector `[x, y]`, removing duplicates.\n",
    "   \n",
    "   Hint: This requires returning the vector of variables.\n"
   ]
  },
  {
   "cell_type": "markdown",
   "metadata": {},
   "source": [
    "[Deliberately blank]"
   ]
  },
  {
   "cell_type": "code",
   "execution_count": 40,
   "metadata": {},
   "outputs": [
    {
     "data": {
      "text/plain": [
       "_find_vars (generic function with 3 methods)"
      ]
     },
     "execution_count": 40,
     "metadata": {},
     "output_type": "execute_result"
    }
   ],
   "source": [
    "\"\"\"\n",
    "  find_vars find the variable inside the expression\n",
    "  variable are supposed to be only alphabetical chars upcase/lowcase\n",
    "\"\"\"\n",
    "function find_vars(expr)\n",
    "    s = Set{Any}()\n",
    "    s = _find_vars(expr, s)\n",
    "    Vector{Any}(collect(s)) |> sort\n",
    "end\n",
    "\n",
    "_find_vars(expr::Number, s::Set)::Set = s\n",
    "\n",
    "_find_vars(expr::Symbol, s::Set)::Set = \n",
    "  match(r\"\\A[a-zA-Z]+\\z\", string(expr)) !== nothing ? push!(s, expr) : s\n",
    "\n",
    "function _find_vars(expr::Expr, s::Set)::Set\n",
    "    for arg ∈ expr.args\n",
    "        _find_vars(arg, s)\n",
    "    end\n",
    "    s\n",
    "end"
   ]
  },
  {
   "cell_type": "code",
   "execution_count": 41,
   "metadata": {},
   "outputs": [
    {
     "data": {
      "text/plain": [
       "2-element Vector{Any}:\n",
       " :x\n",
       " :y"
      ]
     },
     "execution_count": 41,
     "metadata": {},
     "output_type": "execute_result"
    }
   ],
   "source": [
    "find_vars(:(2x + y * x - 1))"
   ]
  },
  {
   "cell_type": "code",
   "execution_count": 42,
   "metadata": {},
   "outputs": [
    {
     "data": {
      "text/plain": [
       "2-element Vector{Any}:\n",
       " :x\n",
       " :y"
      ]
     },
     "execution_count": 42,
     "metadata": {},
     "output_type": "execute_result"
    }
   ],
   "source": [
    "find_vars(:(2 + y * x - 1))"
   ]
  },
  {
   "cell_type": "code",
   "execution_count": 43,
   "metadata": {},
   "outputs": [
    {
     "data": {
      "text/plain": [
       "1-element Vector{Any}:\n",
       " :y"
      ]
     },
     "execution_count": 43,
     "metadata": {},
     "output_type": "execute_result"
    }
   ],
   "source": [
    "find_vars(:(2 + y))"
   ]
  },
  {
   "cell_type": "code",
   "execution_count": 44,
   "metadata": {},
   "outputs": [
    {
     "data": {
      "text/plain": [
       "3-element Vector{Any}:\n",
       " :x\n",
       " :y\n",
       " :z"
      ]
     },
     "execution_count": 44,
     "metadata": {},
     "output_type": "execute_result"
    }
   ],
   "source": [
    "find_vars(:((2 + y) * (x - 3) / (z - x)))"
   ]
  },
  {
   "cell_type": "code",
   "execution_count": 45,
   "metadata": {},
   "outputs": [
    {
     "data": {
      "text/plain": [
       "2-element Vector{Any}:\n",
       " :x\n",
       " :y"
      ]
     },
     "execution_count": 45,
     "metadata": {},
     "output_type": "execute_result"
    }
   ],
   "source": [
    "find_vars(:(x + x * y))"
   ]
  },
  {
   "cell_type": "code",
   "execution_count": 46,
   "metadata": {},
   "outputs": [
    {
     "data": {
      "text/plain": [
       "3-element Vector{Any}:\n",
       " :x\n",
       " :y\n",
       " :z"
      ]
     },
     "execution_count": 46,
     "metadata": {},
     "output_type": "execute_result"
    }
   ],
   "source": [
    "find_vars(:(z = x * y))"
   ]
  },
  {
   "cell_type": "markdown",
   "metadata": {},
   "source": [
    "**Remark**  \n",
    "But first let's remark that it is usually an **anti-pattern** to use `isa` in Julia! [Recall that `x isa T` tests if the object `x` has type `T`.]\n",
    "This should usually be replaced by **dispatch**! We can rewrite the same code as follows:"
   ]
  },
  {
   "cell_type": "code",
   "execution_count": 47,
   "metadata": {},
   "outputs": [],
   "source": [
    "# find_variables(x::Symbol) = [x]\n",
    "# find_variables(x::Real) = []\n",
    "# find_variables(x::Expr) = sort(unique(reduce(vcat, find_variables(arg) for arg in x.args[2:end])))"
   ]
  },
  {
   "cell_type": "markdown",
   "metadata": {},
   "source": [
    "## Quote blocks"
   ]
  },
  {
   "cell_type": "markdown",
   "metadata": {},
   "source": [
    "For longer pieces of code it is common to use `quote ... end` instead of `:( ... )`:"
   ]
  },
  {
   "cell_type": "code",
   "execution_count": 48,
   "metadata": {},
   "outputs": [
    {
     "data": {
      "text/plain": [
       "quote\n",
       "    #= In[48]:2 =#\n",
       "    x += 1\n",
       "    #= In[48]:3 =#\n",
       "    y += x\n",
       "end"
      ]
     },
     "execution_count": 48,
     "metadata": {},
     "output_type": "execute_result"
    }
   ],
   "source": [
    "ex = quote\n",
    "    x += 1\n",
    "    y += x\n",
    "end"
   ]
  },
  {
   "cell_type": "markdown",
   "metadata": {},
   "source": [
    "Note that quote blocks automatically embed line number information telling you where that piece of code was created, for debugging purposes.\n",
    "We can remove that with `Base.remove"
   ]
  },
  {
   "cell_type": "code",
   "execution_count": 49,
   "metadata": {},
   "outputs": [
    {
     "data": {
      "text/plain": [
       "quote\n",
       "    x += 1\n",
       "    y += x\n",
       "end"
      ]
     },
     "execution_count": 49,
     "metadata": {},
     "output_type": "execute_result"
    }
   ],
   "source": [
    "Base.remove_linenums!(ex)"
   ]
  },
  {
   "cell_type": "code",
   "execution_count": 50,
   "metadata": {},
   "outputs": [
    {
     "name": "stdout",
     "output_type": "stream",
     "text": [
      "Expr\n",
      "  head: Symbol block\n",
      "  args: Array{Any}((2,))\n",
      "    1: Expr\n",
      "      head: Symbol +=\n",
      "      args: Array{Any}((2,))\n",
      "        1: Symbol x\n",
      "        2: Int64 1\n",
      "    2: Expr\n",
      "      head: Symbol +=\n",
      "      args: Array{Any}((2,))\n",
      "        1: Symbol y\n",
      "        2: Symbol x\n"
     ]
    }
   ],
   "source": [
    "dump( Base.remove_linenums!(ex) )"
   ]
  },
  {
   "cell_type": "markdown",
   "metadata": {},
   "source": [
    "The only new feature here is that a quote **block** is a new type of `Expr` with `head` equal to `:block`."
   ]
  },
  {
   "cell_type": "markdown",
   "metadata": {},
   "source": [
    "## Futher exercises\n",
    "\n",
    "1. Given an expression, wrap all the literal values (numbers) in the expression with a wrapper type.\n",
    "\n",
    "2. Replace each of `+`, `-`, `*` and `/` with the corresponding **checked** operation, which checks for overflow. E.g. `+` should be replaced by `Base.checked_add`."
   ]
  }
 ],
 "metadata": {
  "kernelspec": {
   "display_name": "Julia 1.6.2",
   "language": "julia",
   "name": "julia-1.6"
  },
  "language_info": {
   "file_extension": ".jl",
   "mimetype": "application/julia",
   "name": "julia",
   "version": "1.6.2"
  }
 },
 "nbformat": 4,
 "nbformat_minor": 5
}
