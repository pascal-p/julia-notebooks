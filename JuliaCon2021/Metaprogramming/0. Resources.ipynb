{
 "cells": [
  {
   "cell_type": "markdown",
   "id": "c69e4125-61fd-4336-b272-2ef4aafad904",
   "metadata": {},
   "source": [
    "# Some useful resources"
   ]
  },
  {
   "cell_type": "markdown",
   "id": "53ec837a-a0b5-45b2-8362-9ea26ad7c82c",
   "metadata": {},
   "source": [
    "\n",
    "- [Julia manual section on metaprogramming](\n",
    "https://docs.julialang.org/en/v1/manual/metaprogramming)\n",
    "\n",
    "- [Wikibook Introducing Julia](https://en.wikibooks.org/wiki/Introducing_Julia/Metaprogramming)\n",
    "\n",
    "- [RIP Julia tutorial](https://riptutorial.com/julia-lang/topic/1945/metaprogramming)\n",
    "\n",
    "- Steven Johnson's [keynote talk](https://www.youtube.com/watch?v=mSgXWpvQEHE\n",
    ") @ JuliaCon 2019:\n",
    "\n",
    "\n",
    "- Andy Ferris's workshop @ JuliaCon 2018:\n",
    "  - [Video](https://www.youtube.com/watch?v=SeqAQHKLNj4)\n",
    "  -[Notebook](https://github.com/FugroRoames/RoamesNotebooks/blob/master/A%20practical%20introduction%20to%20metaprogramming%20in%20Julia.ipynb)\n",
    "\n",
    "\n",
    "- My Julia [blog post](https://julialang.org/blog/2017/08/dsl/) on using macros for Domain-Specific Languages (DSLs)\n",
    "\n",
    "\n",
    "- Tom Kwong's [video about macros](https://www.youtube.com/watch?v=JePBb9-ychE)\n",
    "\n",
    "- Tom Kwong's book, [*Hands-on Design Patterns and Best Practices with Julia*](https://github.com/PacktPublishing/Hands-on-Design-Patterns-and-Best-Practices-with-Julia)\n",
    "\n",
    "\n",
    "\n",
    "\n",
    "# Some relevant packages\n",
    "\n",
    "\n",
    "- `GeneralizedGeneratedFunctions.jl`\n",
    "- `RuntimeGeneratedFunctions.jl`\n",
    "\n",
    "\n",
    "- `Cassette.jl`\n",
    "- `IRTools.jl`\n",
    "\n",
    "\n",
    "- `Symbolics.jl`\n",
    "\n",
    "\n",
    "- `MLStyle.jl`: Pattern matching"
   ]
  },
  {
   "cell_type": "code",
   "execution_count": null,
   "id": "81c79f0e-36d9-4e42-8fe2-5737d6e2f19c",
   "metadata": {},
   "outputs": [],
   "source": []
  }
 ],
 "metadata": {
  "kernelspec": {
   "display_name": "Julia 1.6.2",
   "language": "julia",
   "name": "julia-1.6"
  },
  "language_info": {
   "file_extension": ".jl",
   "mimetype": "application/julia",
   "name": "julia",
   "version": "1.6.2"
  }
 },
 "nbformat": 4,
 "nbformat_minor": 5
}
